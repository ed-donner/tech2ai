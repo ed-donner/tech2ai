{
 "cells": [
  {
   "cell_type": "markdown",
   "id": "e426cd04-c053-43e8-b505-63cee7956a53",
   "metadata": {},
   "source": [
    "# The Third Agent\n",
    "\n",
    "## Fine-tuned LLM using QLoRA with Llama 3.1 as the base model\n",
    "\n",
    "First, here's a link to Google Colab set up for training with QLoRA\n",
    "\n",
    "https://colab.research.google.com/drive/1IqxWtUzuV5ks2kS1oO4Mge3Mf1o3rhRj\n",
    "\n",
    "And here's a link to Google Colab set up for inference:\n",
    "\n",
    "https://colab.research.google.com/drive/1shI0i5QiMWL8fSmM-VcBI7RT5NjzZJ17\n",
    "\n",
    "Once this is set up, I have this running on Modal\n",
    "\n",
    "If you want to do this too, head over to modal.com to set up your free starter account with free credit"
   ]
  },
  {
   "cell_type": "code",
   "execution_count": null,
   "id": "bc0e1c1c-be6a-4395-bbbd-eeafc9330d7e",
   "metadata": {},
   "outputs": [],
   "source": [
    "# Just one import to start with!!\n",
    "\n",
    "import modal"
   ]
  },
  {
   "cell_type": "markdown",
   "id": "80fe1f83-986d-49ca-a8d6-74c27fe7ef20",
   "metadata": {},
   "source": [
    "During the class I might visit this URL to show the code deployed on Modal:\n",
    "\n",
    "https://modal.com/apps/ed-donner/main/ap-stiZMq9syc9zikKRoLnRor?functionId=fu-LumBocLb9rvkzuIUBQGn42&activeTab=functions"
   ]
  },
  {
   "cell_type": "code",
   "execution_count": null,
   "id": "3c9db702-4337-46ff-a6ba-8e1f213740b9",
   "metadata": {},
   "outputs": [],
   "source": [
    "# For you to experiment after the class: below we set up and deploy our proprietary LLM over modal\n",
    "# Here we execute it directly\n",
    "\n",
    "Pricer = modal.Cls.from_name(\"pricer-service\", \"Pricer\")\n",
    "pricer = Pricer()\n",
    "\n",
    "reply = pricer.price.remote(\"Quadcast HyperX condenser mic, connects via usb-c to your computer for crystal clear audio\")\n",
    "print(reply)"
   ]
  },
  {
   "cell_type": "code",
   "execution_count": null,
   "id": "dcc44afd-07e4-485e-b6d2-f96908a7726e",
   "metadata": {},
   "outputs": [],
   "source": [
    "# Generations of iPad pro\n",
    "\n",
    "print(\"iPad Pro 1st gen estimate:\", pricer.price.remote(\"iPad pro 1st generation\"))\n",
    "print(\"iPad Pro 6th gen estimate:\", pricer.price.remote(\"iPad pro 6th generation\"))"
   ]
  },
  {
   "cell_type": "code",
   "execution_count": null,
   "id": "f4a8ee05-4c85-4407-8c9d-384159752dcc",
   "metadata": {},
   "outputs": [],
   "source": [
    "import logging\n",
    "root = logging.getLogger()\n",
    "root.setLevel(logging.INFO)"
   ]
  },
  {
   "cell_type": "code",
   "execution_count": null,
   "id": "b7e60466-25b7-4f0d-8136-a94997ef41b1",
   "metadata": {},
   "outputs": [],
   "source": [
    "from price_agents.specialist_agent import SpecialistAgent\n",
    "\n",
    "agent = SpecialistAgent()\n",
    "agent.price(\"Quadcast HyperX condenser mic, connects via usb-c to your computer for crystal clear audio\")"
   ]
  },
  {
   "cell_type": "code",
   "execution_count": null,
   "id": "40039e10-6e19-4a9e-a58f-617dca05e544",
   "metadata": {},
   "outputs": [],
   "source": [
    "agent.price(\"Shure MV7+ professional podcaster microphone with usb-c and XLR outputs\")"
   ]
  },
  {
   "cell_type": "markdown",
   "id": "22e8d804-c027-45fb-8fef-06e7bba6295a",
   "metadata": {},
   "source": [
    "# For you to get this to work yourself\n",
    "\n",
    "## We need to set your HuggingFace Token as a secret in Modal\n",
    "\n",
    "1. Go to modal.com, sign in and go to your dashboard\n",
    "2. Click on Secrets in the nav bar\n",
    "3. Create new secret, click on Hugging Face\n",
    "4. Fill in your HF_TOKEN where it prompts you\n"
   ]
  },
  {
   "cell_type": "code",
   "execution_count": null,
   "id": "5788a3a4-f7a7-4c9f-9c88-55ba1afe0d2e",
   "metadata": {},
   "outputs": [],
   "source": [
    "# First time: uncomment and run the line below\n",
    "# !modal setup"
   ]
  },
  {
   "cell_type": "markdown",
   "id": "04d8747f-8452-4077-8af6-27e03888508a",
   "metadata": {},
   "source": [
    "# Deploying and running:\n",
    "\n",
    "From a command line, `modal deploy xxx` will deploy your code as a Deployed App\n",
    "\n",
    "This is how you could package your AI service behind an API to be used in a Production System.\n",
    "\n",
    "You can also build REST endpoints easily, although we won't cover that as we'll be calling direct from Python."
   ]
  },
  {
   "cell_type": "code",
   "execution_count": null,
   "id": "f56d1e55-2a03-4ce2-bb47-2ab6b9175a02",
   "metadata": {},
   "outputs": [],
   "source": [
    "!modal deploy pricer_service"
   ]
  },
  {
   "cell_type": "code",
   "execution_count": null,
   "id": "9e19daeb-1281-484b-9d2f-95cc6fed2622",
   "metadata": {},
   "outputs": [],
   "source": [
    "Pricer = modal.Cls.lookup(\"pricer-service\", \"Pricer\")\n",
    "pricer = Pricer()\n",
    "reply = pricer.price.remote(\"Quadcast HyperX condenser mic, connects via usb-c to your computer for crystal clear audio\")\n",
    "print(reply)"
   ]
  },
  {
   "cell_type": "code",
   "execution_count": null,
   "id": "f5a3181b-1310-4102-8d7d-52caf4c00538",
   "metadata": {},
   "outputs": [],
   "source": []
  }
 ],
 "metadata": {
  "kernelspec": {
   "display_name": "Python 3 (ipykernel)",
   "language": "python",
   "name": "python3"
  },
  "language_info": {
   "codemirror_mode": {
    "name": "ipython",
    "version": 3
   },
   "file_extension": ".py",
   "mimetype": "text/x-python",
   "name": "python",
   "nbconvert_exporter": "python",
   "pygments_lexer": "ipython3",
   "version": "3.11.13"
  }
 },
 "nbformat": 4,
 "nbformat_minor": 5
}
