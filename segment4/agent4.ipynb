{
 "cells": [
  {
   "cell_type": "markdown",
   "id": "23f53670-1a73-46ba-a754-4a497e8e0e64",
   "metadata": {},
   "source": [
    "# Fourth Agent\n",
    "\n",
    "Use Claude to craft a message and send it as a Push Notification\n",
    "\n",
    "## Messaging Agent\n",
    "\n",
    "For the Push Notification, we will be using a nifty platform called Pushover.  \n",
    "You'll need to set up a free account and add 2 tokens to your `.env` file:\n",
    "\n",
    "```\n",
    "PUSHOVER_USER=xxx\n",
    "PUSHOVER_TOKEN=xxx\n",
    "```\n",
    "\n",
    "## Just to say one more time...\n",
    "\n",
    "I realize I'm going through tons of material very quickly!  \n",
    "The idea is to give you general intuition so you can come back and try for yourself."
   ]
  },
  {
   "cell_type": "code",
   "execution_count": null,
   "id": "80d683d9-9e92-44ae-af87-a413ca84db21",
   "metadata": {},
   "outputs": [],
   "source": [
    "import os\n",
    "import sys\n",
    "import logging\n",
    "from price_agents.deals import Opportunity\n",
    "import http.client\n",
    "import requests\n",
    "from dotenv import load_dotenv"
   ]
  },
  {
   "cell_type": "code",
   "execution_count": null,
   "id": "e05cc427-3d2c-4792-ade1-d356f95a82a9",
   "metadata": {},
   "outputs": [],
   "source": [
    "load_dotenv()\n",
    "pushover_user = os.getenv('PUSHOVER_USER', 'your-pushover-user-if-not-using-env')\n",
    "pushover_token = os.getenv('PUSHOVER_TOKEN', 'your-pushover-user-if-not-using-env')\n",
    "pushover_url = \"https://api.pushover.net/1/messages.json\""
   ]
  },
  {
   "cell_type": "code",
   "execution_count": null,
   "id": "5ec518f5-dae4-44b1-a185-d7eaf853ec00",
   "metadata": {},
   "outputs": [],
   "source": [
    "def push(text):\n",
    "    payload = {\"user\": pushover_user, \"token\": pushover_token, \"message\": text, \"sound\": \"cashregister\"}\n",
    "    requests.post(pushover_url, data=payload)"
   ]
  },
  {
   "cell_type": "code",
   "execution_count": null,
   "id": "0056a02f-06a3-4acc-99f3-cbe919ee936b",
   "metadata": {},
   "outputs": [],
   "source": [
    "push(\"MASSIVE DEAL!!\")"
   ]
  },
  {
   "cell_type": "code",
   "execution_count": null,
   "id": "fbcb97c0-3f5f-48a0-a414-8a1c93e53a7f",
   "metadata": {},
   "outputs": [],
   "source": [
    "import logging\n",
    "root = logging.getLogger()\n",
    "root.setLevel(logging.INFO)"
   ]
  },
  {
   "cell_type": "code",
   "execution_count": null,
   "id": "093776c1-078c-42fb-8cb4-92a1e9481061",
   "metadata": {},
   "outputs": [],
   "source": [
    "from price_agents.messaging_agent import MessagingAgent\n",
    "\n",
    "agent = MessagingAgent()\n",
    "agent.push(\"SUCH A MASSIVE DEAL!!\")"
   ]
  },
  {
   "cell_type": "code",
   "execution_count": null,
   "id": "85a5a527-06ec-4d19-98cf-9ca7cc68f85c",
   "metadata": {},
   "outputs": [],
   "source": [
    "agent.notify(\"A special deal on Sumsung 60 inch LED TV going at a great bargain\", 300, 1000, \"www.samsung.com\")"
   ]
  },
  {
   "cell_type": "code",
   "execution_count": null,
   "id": "943e180b-7f8b-4833-adfc-6a5712d369fd",
   "metadata": {},
   "outputs": [],
   "source": []
  }
 ],
 "metadata": {
  "kernelspec": {
   "display_name": "Python 3 (ipykernel)",
   "language": "python",
   "name": "python3"
  },
  "language_info": {
   "codemirror_mode": {
    "name": "ipython",
    "version": 3
   },
   "file_extension": ".py",
   "mimetype": "text/x-python",
   "name": "python",
   "nbconvert_exporter": "python",
   "pygments_lexer": "ipython3",
   "version": "3.11.13"
  }
 },
 "nbformat": 4,
 "nbformat_minor": 5
}
