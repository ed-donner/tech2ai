{
 "cells": [
  {
   "cell_type": "markdown",
   "id": "23f53670-1a73-46ba-a754-4a497e8e0e64",
   "metadata": {},
   "source": [
    "# Segment 4 Lab 4\n",
    "\n",
    "Use Claude to craft a message and send it as a Push Notification\n",
    "\n",
    "## Messaging Agent\n",
    "\n",
    "First, let's look at push notifications:\n",
    "\n",
    "For the Push Notification, we will be using a nifty platform called Pushover.  \n",
    "You'll need to set up a free account and add 2 tokens to your `.env` file:\n",
    "\n",
    "```\n",
    "PUSHOVER_USER=xxx\n",
    "PUSHOVER_TOKEN=xxx\n",
    "```\n",
    "\n",
    "## Just to say one more time...\n",
    "\n",
    "I realize I'm going through tons of material very quickly!  \n",
    "The idea is to give you general intuition so you can come back and try for yourself,  \n",
    "or see the resources for my classes where I cover this in detail."
   ]
  },
  {
   "cell_type": "code",
   "execution_count": 1,
   "id": "80d683d9-9e92-44ae-af87-a413ca84db21",
   "metadata": {},
   "outputs": [],
   "source": [
    "import os\n",
    "import sys\n",
    "import logging\n",
    "from agents.deals import Opportunity\n",
    "import http.client\n",
    "import urllib\n",
    "from dotenv import load_dotenv"
   ]
  },
  {
   "cell_type": "code",
   "execution_count": 2,
   "id": "e05cc427-3d2c-4792-ade1-d356f95a82a9",
   "metadata": {},
   "outputs": [],
   "source": [
    "load_dotenv(override=True)\n",
    "pushover_user = os.getenv('PUSHOVER_USER')\n",
    "pushover_token = os.getenv('PUSHOVER_TOKEN')"
   ]
  },
  {
   "cell_type": "code",
   "execution_count": 3,
   "id": "5ec518f5-dae4-44b1-a185-d7eaf853ec00",
   "metadata": {},
   "outputs": [],
   "source": [
    "def push(text):\n",
    "    conn = http.client.HTTPSConnection(\"api.pushover.net:443\")\n",
    "    conn.request(\"POST\", \"/1/messages.json\",\n",
    "      urllib.parse.urlencode({\n",
    "        \"token\": pushover_token,\n",
    "        \"user\": pushover_user,\n",
    "        \"message\": text,\n",
    "        \"sound\": \"cashregister\"\n",
    "      }), { \"Content-type\": \"application/x-www-form-urlencoded\" })\n",
    "    conn.getresponse()"
   ]
  },
  {
   "cell_type": "code",
   "execution_count": 5,
   "id": "0056a02f-06a3-4acc-99f3-cbe919ee936b",
   "metadata": {},
   "outputs": [],
   "source": [
    "push(\"MASSIVE DEAL!!\")"
   ]
  },
  {
   "cell_type": "code",
   "execution_count": 6,
   "id": "0c36855c-389b-4b9e-846b-f971ceeb469d",
   "metadata": {},
   "outputs": [],
   "source": [
    "import logging\n",
    "root = logging.getLogger()\n",
    "root.setLevel(logging.INFO)"
   ]
  },
  {
   "cell_type": "code",
   "execution_count": 7,
   "id": "3e596205-33d3-4c77-9147-86125192cfd0",
   "metadata": {},
   "outputs": [
    {
     "name": "stderr",
     "output_type": "stream",
     "text": [
      "INFO:root:\u001b[40m\u001b[37m[Messaging Agent] Messaging Agent is initializing\u001b[0m\n",
      "INFO:root:\u001b[40m\u001b[37m[Messaging Agent] Messaging Agent has initialized Pushover and Claude\u001b[0m\n",
      "INFO:root:\u001b[40m\u001b[37m[Messaging Agent] Messaging Agent is sending a push notification\u001b[0m\n"
     ]
    }
   ],
   "source": [
    "from agents.messaging_agent import MessagingAgent\n",
    "\n",
    "agent = MessagingAgent()\n",
    "agent.push(\"SUCH A MASSIVE DEAL!!\")"
   ]
  },
  {
   "cell_type": "code",
   "execution_count": 8,
   "id": "91dcc19a-9f0b-48f2-85cd-11e584a7a573",
   "metadata": {},
   "outputs": [
    {
     "name": "stderr",
     "output_type": "stream",
     "text": [
      "INFO:root:\u001b[40m\u001b[37m[Messaging Agent] Messaging Agent is using Claude to craft the message\u001b[0m\n",
      "INFO:httpx:HTTP Request: POST https://api.anthropic.com/v1/messages \"HTTP/1.1 200 OK\"\n",
      "INFO:root:\u001b[40m\u001b[37m[Messaging Agent] Messaging Agent is sending a push notification\u001b[0m\n",
      "INFO:root:\u001b[40m\u001b[37m[Messaging Agent] Messaging Agent has completed\u001b[0m\n"
     ]
    }
   ],
   "source": [
    "agent.notify(\"A special deal on Sumsung 60 inch LED TV going at a great bargain\", 300, 1000, \"www.samsung.com\")"
   ]
  },
  {
   "cell_type": "code",
   "execution_count": null,
   "id": "68b23ca8-7a69-4883-a4d9-5aec40a26e97",
   "metadata": {},
   "outputs": [],
   "source": []
  }
 ],
 "metadata": {
  "kernelspec": {
   "display_name": "Python 3 (ipykernel)",
   "language": "python",
   "name": "python3"
  },
  "language_info": {
   "codemirror_mode": {
    "name": "ipython",
    "version": 3
   },
   "file_extension": ".py",
   "mimetype": "text/x-python",
   "name": "python",
   "nbconvert_exporter": "python",
   "pygments_lexer": "ipython3",
   "version": "3.11.12"
  }
 },
 "nbformat": 4,
 "nbformat_minor": 5
}
