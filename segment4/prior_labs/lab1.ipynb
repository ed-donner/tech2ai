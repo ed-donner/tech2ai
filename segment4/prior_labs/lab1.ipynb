{
 "cells": [
  {
   "cell_type": "markdown",
   "id": "e06c733a-1124-44b5-a634-37d0887fdfe6",
   "metadata": {},
   "source": [
    "# Segment 4 Lab 1\n",
    "\n",
    "## Introduction to this segment's labs\n",
    "\n",
    "# Introducing: The Price Is Right\n",
    "\n",
    "We are going to build a multi-agent framework that will:\n",
    "1. Pull RSS feeds from the web and interpret them, looking for promising deals (multi-shot prompting, structured outputs)\n",
    "2. Use RAG and a Frontier Model to estimate the price of a product, using a knowledge base\n",
    "3. Use a QLoRA fine tuned LLM to estimate the price\n",
    "4. Send a push notification when it finds a deal that's worth significantly less than it estimates\n",
    "5. A planning agent will orchestrate this\n",
    "\n",
    "### We'll be going through this fast - the idea is for you to come back and try it yourself!\n",
    "\n",
    "\n",
    "## First: Let's look at the Agent code for interpreting RSS feeds using multi-shot prompting"
   ]
  },
  {
   "cell_type": "code",
   "execution_count": 1,
   "id": "2db71ba5-55a8-48b7-97d5-9db8dc872837",
   "metadata": {},
   "outputs": [],
   "source": [
    "# Some imports\n",
    "\n",
    "from dotenv import load_dotenv\n",
    "from agents.deals import ScrapedDeal\n",
    "from openai import OpenAI\n",
    "import logging"
   ]
  },
  {
   "cell_type": "code",
   "execution_count": 2,
   "id": "b044d040-e467-4463-a3a5-119939ca8199",
   "metadata": {},
   "outputs": [],
   "source": [
    "# Set up our env variables as before\n",
    "\n",
    "load_dotenv(override=True)\n",
    "openai = OpenAI()\n",
    "MODEL = \"gpt-4o-mini\""
   ]
  },
  {
   "cell_type": "code",
   "execution_count": 3,
   "id": "a6b8a0f3-af5c-4f21-8a5f-a4df4fa420ad",
   "metadata": {},
   "outputs": [
    {
     "name": "stderr",
     "output_type": "stream",
     "text": [
      "100%|█████████████████████████████████████████████████████████████████████████████████████████████████████████████████████████████████████████████████████████████████| 3/3 [00:07<00:00,  2.38s/it]\n"
     ]
    }
   ],
   "source": [
    "# I wrote this code to fetch RSS feeds\n",
    "\n",
    "scraped_deals = ScrapedDeal.fetch(show_progress=True)"
   ]
  },
  {
   "cell_type": "code",
   "execution_count": 5,
   "id": "e50266c2-10b6-4e36-a2cb-a5297c1d8e7a",
   "metadata": {},
   "outputs": [
    {
     "name": "stdout",
     "output_type": "stream",
     "text": [
      "Title: Certified Refurb Sony WH-1000XM5 Wireless Headphones for $180 + free shipping\n",
      "Details: It's the best price we've seen for these headphones in any condition. It includes a 2-year Allstate warranty. Buy Now at eBay\n",
      "Features: leather cushions ambient sound mode HD voice built-in mic up to 30-hour battery life Model: WH-1000XM5/B\n",
      "URL: https://www.dealnews.com/products/Sony-Electronics/Certified-Refurb-Sony-WH-1000-XM5-Wireless-Headphones/351065.html?iref=rss-c142\n"
     ]
    }
   ],
   "source": [
    "print(scraped_deals[2].describe())"
   ]
  },
  {
   "cell_type": "code",
   "execution_count": 6,
   "id": "84278b54-5289-4d60-8ea6-7de9f8067663",
   "metadata": {},
   "outputs": [],
   "source": [
    "SYSTEM_PROMPT = \"\"\"You identify and summarize the 5 most detailed deals from a list, by selecting deals that have the most detailed, high quality description and the most clear price.\n",
    "Respond strictly in JSON with no explanation, using this format. You should provide the price as a number derived from the description. If the price of a deal isn't clear, do not include that deal in your response.\n",
    "Most important is that you respond with the 5 deals that have the most detailed product description with price. It's not important to mention the terms of the deal; most important is a thorough description of the product.\n",
    "Be careful with products that are described as \"$XXX off\" or \"reduced by $XXX\" - this isn't the actual price of the product. Only respond with products when you are highly confident about the price. \n",
    "    \n",
    "{\"deals\": [\n",
    "    {\n",
    "        \"product_description\": \"Your clearly expressed summary of the product in 4-5 sentences. Details of the item are much more important than why it's a good deal. Avoid mentioning discounts and coupons; focus on the item itself. There should be a paragpraph of text for each item you choose.\",\n",
    "        \"price\": 99.99,\n",
    "        \"url\": \"the url as provided\"\n",
    "    },\n",
    "    ...\n",
    "]}\"\"\""
   ]
  },
  {
   "cell_type": "code",
   "execution_count": 7,
   "id": "af2545a0-e160-41db-8914-f77b1c7eff26",
   "metadata": {},
   "outputs": [],
   "source": [
    "USER_PROMPT_PREFIX = \"\"\"Respond with the most promising 5 deals from this list, selecting those which have the most detailed, high quality product description and a clear price that is greater than 0.\n",
    "Respond strictly in JSON, and only JSON. You should rephrase the description to be a summary of the product itself, not the terms of the deal.\n",
    "Remember to respond with a paragraph of text in the product_description field for each of the 5 items that you select.\n",
    "Be careful with products that are described as \"$XXX off\" or \"reduced by $XXX\" - this isn't the actual price of the product. Only respond with products when you are highly confident about the price. \n",
    "    \n",
    "Deals:\n",
    "    \n",
    "\"\"\"\n",
    "\n",
    "USER_PROMPT_SUFFIX = \"\"\"\\n\\nStrictly respond in JSON and include exactly 5 deals, no more.\n",
    "Your response must follow this format:\n",
    "\n",
    "{\"deals\": [\n",
    "    {\n",
    "        \"product_description\": \"Your summary of the product in 4-5 sentences. Details of the item are much more important than why it's a good deal. Avoid mentioning discounts and coupons; focus on the item itself. There should be a paragpraph of text for each item you choose.\",\n",
    "        \"price\": 99.99,\n",
    "        \"url\": \"the url as provided\"\n",
    "    },\n",
    "    {\n",
    "        \"product_description\": \"Your summary of the product in 4-5 sentences. Details of the item are much more important than why it's a good deal. Avoid mentioning discounts and coupons; focus on the item itself. There should be a paragpraph of text for each item you choose.\",\n",
    "        \"price\": 210.30,\n",
    "        \"url\": \"the url as provided\"\n",
    "    },\n",
    "    ...\n",
    "]}\n",
    "\"\"\""
   ]
  },
  {
   "cell_type": "code",
   "execution_count": 8,
   "id": "cf00a4e4-62c7-47a4-8415-2b7b4f86391a",
   "metadata": {},
   "outputs": [],
   "source": [
    "# this makes a suitable user prompt given scraped deals\n",
    "\n",
    "def make_user_prompt(scraped):\n",
    "    user_prompt = USER_PROMPT_PREFIX\n",
    "    user_prompt += '\\n\\n'.join([scrape.describe() for scrape in scraped])\n",
    "    user_prompt += USER_PROMPT_SUFFIX\n",
    "    return user_prompt"
   ]
  },
  {
   "cell_type": "code",
   "execution_count": 9,
   "id": "504ecdac-7228-48eb-80b4-6e31d2dc8f5a",
   "metadata": {},
   "outputs": [
    {
     "name": "stdout",
     "output_type": "stream",
     "text": [
      "Respond with the most promising 5 deals from this list, selecting those which have the most detailed, high quality product description and a clear price that is greater than 0.\n",
      "Respond strictly in JSON, and only JSON. You should rephrase the description to be a summary of the product itself, not the terms of the deal.\n",
      "Remember to respond with a paragraph of text in the product_description field for each of the 5 items that you select.\n",
      "Be careful with products that are described as \"$XXX off\" or \"reduced by $XXX\" - this isn't the actual price of the product. Only respond with products when you are highly confident about the price. \n",
      "    \n",
      "Deals:\n",
      "    \n",
      "Title: Open-Box Bose QuietComfort 35 II Wireless Headphones for $105 + free shipping\n",
      "Details: Apply coupon code \"STARTFRESH\" to drop the price to the second best we've seen in any condition. Buy Now at eBay\n",
      "Features: foldable built-in microphone acoustic noise cancelling up to 20-hour battery life Model: 789564-0010 UPC: 820148577697 UPC: 017817770613 UPC: 017817789127\n",
      "URL: https://www.dealnews.com/products/Bose/Bose-Quiet-Comfort-35-II-Wireless-Headphones/104701.html?iref=rss-c142\n",
      "\n",
      "Title: Unlocked Samsung Galaxy S25+ Android Smartphones: $120 off + up to $700 off w/ trade, more + free sh\n",
      "Details: Save $120 on the latest Samsung Galaxy devices, plus get up to $700 in additional savings with an eligible trade-in. Even without a trade-in, you'll still enjoy a solid $150 discount.On top of that, you'll get a $50 Samsung credit, double the storage (512GB for the price of 256GB) on select colors, and finally your purchase also includes valuable perks like free trials of Peacock, YouTube Premium, and other services. Prices start from $800 ($320 off) without trade-in. Shop Now at Samsung\n",
      "Features: \n",
      "URL: https://www.dealnews.com/Unlocked-Samsung-Galaxy-S25-Android-Smartphones-120-off-up-to-700-off-w-trade-more-free-shipping/21722416.html?iref=rss-c142\n",
      "\n",
      "Title: Certified Refurb Sony WH-1000XM5 Wireless Headphones for $180 + free shi\n"
     ]
    }
   ],
   "source": [
    "user_prompt = make_user_prompt(scraped_deals)\n",
    "print(user_prompt[:2000])"
   ]
  },
  {
   "cell_type": "code",
   "execution_count": 10,
   "id": "20401a75-c12a-466b-9e66-7cd46ac03443",
   "metadata": {},
   "outputs": [
    {
     "name": "stdout",
     "output_type": "stream",
     "text": [
      "{\n",
      "    \"deals\": [\n",
      "        {\n",
      "            \"product_description\": \"The Bose QuietComfort 35 II Wireless Headphones provide an unparalleled listening experience with advanced acoustic noise cancelling technology. Designed for comfort, these foldable headphones include a built-in microphone and support for clear voice calls. With up to 20 hours of battery life, you can enjoy your music or podcasts throughout the day without interruption. The model features superior sound quality that is perfect for both casual listening and immersive audio experiences.\",\n",
      "            \"price\": 105,\n",
      "            \"url\": \"https://www.dealnews.com/products/Bose/Bose-Quiet-Comfort-35-II-Wireless-Headphones/104701.html?iref=rss-c142\"\n",
      "        },\n",
      "        {\n",
      "            \"product_description\": \"The Sony WH-1000XM5 Wireless Headphones are a top-tier choice for audiophiles seeking high-quality sound and comfort. These headphones feature plush leather cushions and an ambient sound mode, allowing you to enjoy music while staying aware of your surroundings. With a built-in microphone and HD voice technology, they ensure clear communication for calls or virtual meetings. Offering an impressive battery life of up to 30 hours, these headphones are ideal for long journeys or daily commutes.\",\n",
      "            \"price\": 180,\n",
      "            \"url\": \"https://www.dealnews.com/products/Sony-Electronics/Certified-Refurb-Sony-WH-1000-XM5-Wireless-Headphones/351065.html?iref=rss-c142\"\n",
      "        },\n",
      "        {\n",
      "            \"product_description\": \"The EcoFlow River 3 Portable Power Station is a highly versatile energy solution, perfect for camping trips or emergency home backup. With a capacity of 245Wh, it allows you to charge multiple devices simultaneously via various ports, including AC outlets, USB-A, and USB-C. Its compact design makes it easy to transport while ensuring you have power whenever you need it. The inclusion of a 2-year warranty provides peace of mind for long-term use.\",\n",
      "            \"price\": 115,\n",
      "            \"url\": \"https://www.dealnews.com/products/Eco-Flow/Eco-Flow-River-3-245-Wh-Portable-Power-Station/481863.html?iref=rss-c142\"\n",
      "        },\n",
      "        {\n",
      "            \"product_description\": \"The Samsung Odyssey Neo G7 Smart Monitor boasts an impressive 43-inch screen with 4K resolution and a 144Hz refresh rate, making it perfect for both productivity and gaming. Featuring Mini-LED technology, it provides vibrant colors and deep contrast for an immersive viewing experience. The monitor includes a variety of connectivity options such as DisplayPort and HDMI, alongside smart TV apps for entertainment. This model caters to gamers and media enthusiasts alike, delivering stunning visuals.\",\n",
      "            \"price\": 600,\n",
      "            \"url\": \"https://www.dealnews.com/products/Samsung/Samsung-Odyssey-Neo-G7-43-4-K-144-Hz-Mini-LED-Free-Sync-Smart-Monitor/459768.html?iref=rss-f1912\"\n",
      "        },\n",
      "        {\n",
      "            \"product_description\": \"The Philips Hue White & Color Ambiance A19 LED Starter Kit is an excellent addition to any smart home setup. This kit includes smart bulbs that offer a spectrum of 16 million colors, allowing you to customize the ambiance of your space. With features like timer sync with media, you can create a lively atmosphere during movie nights or parties. Compatible with various smart home automation systems, this kit enhances convenience and control of your lighting.\",\n",
      "            \"price\": 110,\n",
      "            \"url\": \"https://www.dealnews.com/products/Philips/Philips-Hue-White-Color-Ambiance-A19-LED-Starter-Kit/375866.html?iref=rss-f1912\"\n",
      "        }\n",
      "    ]\n",
      "}"
     ]
    }
   ],
   "source": [
    "# Create the user prompt that reflects the deals we have scraped\n",
    "\n",
    "user_prompt = make_user_prompt(scraped_deals)\n",
    "\n",
    "# Call OpenAI using their Python client. Request a response in JSON and stream it back.\n",
    "\n",
    "stream = openai.chat.completions.create(\n",
    "    model=MODEL,\n",
    "    messages=[\n",
    "        {\"role\": \"system\", \"content\": SYSTEM_PROMPT},\n",
    "        {\"role\": \"user\", \"content\": user_prompt}\n",
    "  ],\n",
    "    max_tokens=2000,\n",
    "    stream=True,\n",
    "    response_format={\"type\": \"json_object\"}\n",
    ")\n",
    "\n",
    "response = \"\"\n",
    "for chunk in stream:\n",
    "    chunk_text = chunk.choices[0].delta.content or ''\n",
    "    response += chunk_text\n",
    "    print(chunk_text, end=\"\", flush=True)"
   ]
  },
  {
   "cell_type": "code",
   "execution_count": 11,
   "id": "70e74543-5aa6-4b92-bfde-a40451db295f",
   "metadata": {},
   "outputs": [
    {
     "data": {
      "text/plain": [
       "{'deals': [{'product_description': 'The Bose QuietComfort 35 II Wireless Headphones provide an unparalleled listening experience with advanced acoustic noise cancelling technology. Designed for comfort, these foldable headphones include a built-in microphone and support for clear voice calls. With up to 20 hours of battery life, you can enjoy your music or podcasts throughout the day without interruption. The model features superior sound quality that is perfect for both casual listening and immersive audio experiences.',\n",
       "   'price': 105,\n",
       "   'url': 'https://www.dealnews.com/products/Bose/Bose-Quiet-Comfort-35-II-Wireless-Headphones/104701.html?iref=rss-c142'},\n",
       "  {'product_description': 'The Sony WH-1000XM5 Wireless Headphones are a top-tier choice for audiophiles seeking high-quality sound and comfort. These headphones feature plush leather cushions and an ambient sound mode, allowing you to enjoy music while staying aware of your surroundings. With a built-in microphone and HD voice technology, they ensure clear communication for calls or virtual meetings. Offering an impressive battery life of up to 30 hours, these headphones are ideal for long journeys or daily commutes.',\n",
       "   'price': 180,\n",
       "   'url': 'https://www.dealnews.com/products/Sony-Electronics/Certified-Refurb-Sony-WH-1000-XM5-Wireless-Headphones/351065.html?iref=rss-c142'},\n",
       "  {'product_description': 'The EcoFlow River 3 Portable Power Station is a highly versatile energy solution, perfect for camping trips or emergency home backup. With a capacity of 245Wh, it allows you to charge multiple devices simultaneously via various ports, including AC outlets, USB-A, and USB-C. Its compact design makes it easy to transport while ensuring you have power whenever you need it. The inclusion of a 2-year warranty provides peace of mind for long-term use.',\n",
       "   'price': 115,\n",
       "   'url': 'https://www.dealnews.com/products/Eco-Flow/Eco-Flow-River-3-245-Wh-Portable-Power-Station/481863.html?iref=rss-c142'},\n",
       "  {'product_description': 'The Samsung Odyssey Neo G7 Smart Monitor boasts an impressive 43-inch screen with 4K resolution and a 144Hz refresh rate, making it perfect for both productivity and gaming. Featuring Mini-LED technology, it provides vibrant colors and deep contrast for an immersive viewing experience. The monitor includes a variety of connectivity options such as DisplayPort and HDMI, alongside smart TV apps for entertainment. This model caters to gamers and media enthusiasts alike, delivering stunning visuals.',\n",
       "   'price': 600,\n",
       "   'url': 'https://www.dealnews.com/products/Samsung/Samsung-Odyssey-Neo-G7-43-4-K-144-Hz-Mini-LED-Free-Sync-Smart-Monitor/459768.html?iref=rss-f1912'},\n",
       "  {'product_description': 'The Philips Hue White & Color Ambiance A19 LED Starter Kit is an excellent addition to any smart home setup. This kit includes smart bulbs that offer a spectrum of 16 million colors, allowing you to customize the ambiance of your space. With features like timer sync with media, you can create a lively atmosphere during movie nights or parties. Compatible with various smart home automation systems, this kit enhances convenience and control of your lighting.',\n",
       "   'price': 110,\n",
       "   'url': 'https://www.dealnews.com/products/Philips/Philips-Hue-White-Color-Ambiance-A19-LED-Starter-Kit/375866.html?iref=rss-f1912'}]}"
      ]
     },
     "execution_count": 11,
     "metadata": {},
     "output_type": "execute_result"
    }
   ],
   "source": [
    "import json\n",
    "json.loads(response)"
   ]
  },
  {
   "cell_type": "markdown",
   "id": "a99b6d4b-6223-4901-902a-14f1bda34244",
   "metadata": {},
   "source": [
    "# Putting this into an \"Agent\"\n",
    "\n",
    "I've packaged this code into a class called `ScannerAgent`\n",
    "\n",
    "There are various Agent frameworks that add an abstraction layer, but in our case it's easy just to write the code directly."
   ]
  },
  {
   "cell_type": "code",
   "execution_count": 12,
   "id": "81eb5f68-168c-4d6c-936a-40b79f08f26a",
   "metadata": {},
   "outputs": [],
   "source": [
    "root = logging.getLogger()\n",
    "root.setLevel(logging.INFO)"
   ]
  },
  {
   "cell_type": "code",
   "execution_count": 13,
   "id": "9d0af2d8-4419-49a7-af66-218a2d1f986c",
   "metadata": {},
   "outputs": [
    {
     "name": "stderr",
     "output_type": "stream",
     "text": [
      "INFO:root:\u001b[40m\u001b[36m[Scanner Agent] Scanner Agent is initializing\u001b[0m\n",
      "INFO:root:\u001b[40m\u001b[36m[Scanner Agent] Scanner Agent is ready\u001b[0m\n",
      "INFO:root:\u001b[40m\u001b[36m[Scanner Agent] Scanner Agent is about to fetch deals from RSS feed\u001b[0m\n",
      "INFO:root:\u001b[40m\u001b[36m[Scanner Agent] Scanner Agent received 15 deals not already scraped\u001b[0m\n",
      "INFO:root:\u001b[40m\u001b[36m[Scanner Agent] Scanner Agent is calling OpenAI using Structured Output\u001b[0m\n",
      "INFO:httpx:HTTP Request: POST https://api.openai.com/v1/chat/completions \"HTTP/1.1 200 OK\"\n",
      "INFO:root:\u001b[40m\u001b[36m[Scanner Agent] Scanner Agent received 5 selected deals with price>0 from OpenAI\u001b[0m\n"
     ]
    },
    {
     "name": "stdout",
     "output_type": "stream",
     "text": [
      "deals=[Deal(product_description='The Bose QuietComfort 35 II Wireless Headphones are designed for comfort and immersive sound. With acoustic noise cancelling technology, these headphones effectively block out ambient noise, allowing for an uninterrupted listening experience. They feature a foldable design with a built-in microphone for easy calls and voice commands, and offer up to 20 hours of battery life for extended use. Ideal for travelers or anyone seeking high-quality audio in a portable device.', price=105.0, url='https://www.dealnews.com/products/Bose/Bose-Quiet-Comfort-35-II-Wireless-Headphones/104701.html?iref=rss-c142'), Deal(product_description='The Sony WH-1000XM5 Wireless Headphones boast premium features, including leather cushions for comfort and ambient sound mode that allows for a seamless blend of outside sounds while listening. With HD voice technology and a built-in mic, these headphones are perfect for hands-free calls. They promise remarkable sound quality and up to 30 hours of battery life, making them an excellent choice for audiophiles and frequent travelers alike.', price=180.0, url='https://www.dealnews.com/products/Sony-Electronics/Certified-Refurb-Sony-WH-1000-XM5-Wireless-Headphones/351065.html?iref=rss-c142'), Deal(product_description='The EcoFlow River 3 Portable Power Station is a reliable and versatile energy source, featuring a capacity of 245Wh. Compact and portable, it is designed for outdoor activities, emergencies, or as a backup power supply. It offers multiple charging options, allowing users to power various devices simultaneously, making it a practical solution for those who need electricity on the go. It is essential for camping trips or during power outages.', price=115.0, url='https://www.dealnews.com/products/Eco-Flow/Eco-Flow-River-3-245-Wh-Portable-Power-Station/481863.html?iref=rss-c142'), Deal(product_description='The Apple iPad 64GB (10.9 inch) WiFi Tablet (2022) is powered by the Apple A14 chip, ensuring smooth performance for applications and multitasking. It runs on iPadOS 16.0, providing users with a streamlined interface for productivity and entertainment. With a sleek design and vibrant display, this iPad is both portable and powerful, suitable for students, professionals, and anyone who enjoys multimedia consumption. Its lightweight nature makes it an ideal travel companion.', price=269.0, url='https://www.dealnews.com/products/Apple/Apple-iPad-64-GB-10-9-Wi-Fi-Tablet-2022/409064.html?iref=rss-c39'), Deal(product_description='The Lenovo IdeaPad 5 Snapdragon X Plus 14\" Touch 2-in-1 Laptop is a versatile convertible option that functions as both a laptop and a tablet. It is powered by a Snapdragon X Plus 3.2GHz 8-core CPU, ensuring fast performance and efficiency. The laptop features a vibrant 14\" 1920x1200 OLED touchscreen display, making it perfect for both work and entertainment. With 16GB of RAM and a 1TB M.2 SSD, this device provides ample storage and quick access to applications, running on Windows 11 Home.', price=500.0, url='https://www.dealnews.com/products/Lenovo/Lenovo-Idea-Pad-5-Snapdragon-X-Plus-14-Touch-2-in-1-Laptop/487593.html?iref=rss-c39')]\n"
     ]
    }
   ],
   "source": [
    "from agents.scanner_agent import ScannerAgent\n",
    "\n",
    "scanner = ScannerAgent()\n",
    "print(scanner.scan())"
   ]
  },
  {
   "cell_type": "code",
   "execution_count": null,
   "id": "251ca4b4-0ce5-4a20-aebc-2a43ce6bd03f",
   "metadata": {},
   "outputs": [],
   "source": []
  }
 ],
 "metadata": {
  "kernelspec": {
   "display_name": "Python 3 (ipykernel)",
   "language": "python",
   "name": "python3"
  },
  "language_info": {
   "codemirror_mode": {
    "name": "ipython",
    "version": 3
   },
   "file_extension": ".py",
   "mimetype": "text/x-python",
   "name": "python",
   "nbconvert_exporter": "python",
   "pygments_lexer": "ipython3",
   "version": "3.11.12"
  }
 },
 "nbformat": 4,
 "nbformat_minor": 5
}
