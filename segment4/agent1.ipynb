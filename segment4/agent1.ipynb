{
 "cells": [
  {
   "cell_type": "markdown",
   "id": "e06c733a-1124-44b5-a634-37d0887fdfe6",
   "metadata": {},
   "source": [
    "# Agentic AI Workshop\n",
    "\n",
    "# Introducing: The Price Is Right\n",
    "\n",
    "We are going to build a multi-agent framework that will:\n",
    "1. Pull RSS feeds from the web and interpret them, looking for promising deals (multi-shot prompting, structured outputs)\n",
    "2. Use RAG and a Frontier Model to estimate the price of a product, using a knowledge base\n",
    "3. Use a QLoRA fine tuned LLM to estimate the price\n",
    "4. Send a push notification when it finds a deal that's worth significantly less than it estimates\n",
    "5. A planning agent will orchestrate this\n",
    "\n",
    "If you're having any set up problems, please see the [troubleshooting](../troubleshooting.ipynb) notebook in the parent directory.  \n",
    "For more details on using Jupyter Lab, please see the [Guide To Jupyter](../Guide%20to%20Jupyter.ipynb) notebook.  \n",
    "If you'd like to brush up your Python skills, there's an [Intermediate Python](../Intermediate%20Python.ipynb) notebook.\n",
    "\n",
    "\n",
    "## First: Let's look at the Agent code for interpreting RSS feeds, including figuring out the pricing, using multi-shot prompting\n",
    "\n",
    "## Remember: just get some intuition for this, and run it yourself later.."
   ]
  },
  {
   "cell_type": "code",
   "execution_count": null,
   "id": "2db71ba5-55a8-48b7-97d5-9db8dc872837",
   "metadata": {},
   "outputs": [],
   "source": [
    "# Some imports\n",
    "\n",
    "from dotenv import load_dotenv\n",
    "from price_agents.deals import ScrapedDeal\n",
    "from openai import OpenAI\n",
    "import logging"
   ]
  },
  {
   "cell_type": "code",
   "execution_count": null,
   "id": "b044d040-e467-4463-a3a5-119939ca8199",
   "metadata": {},
   "outputs": [],
   "source": [
    "# Set up our env variables\n",
    "\n",
    "load_dotenv(override=True)\n",
    "openai = OpenAI()\n",
    "MODEL = \"gpt-5-mini\""
   ]
  },
  {
   "cell_type": "code",
   "execution_count": null,
   "id": "a6b8a0f3-af5c-4f21-8a5f-a4df4fa420ad",
   "metadata": {},
   "outputs": [],
   "source": [
    "# I wrote this code to fetch RSS feeds\n",
    "\n",
    "scraped_deals = ScrapedDeal.fetch(show_progress=True)"
   ]
  },
  {
   "cell_type": "code",
   "execution_count": null,
   "id": "e50266c2-10b6-4e36-a2cb-a5297c1d8e7a",
   "metadata": {},
   "outputs": [],
   "source": [
    "print(scraped_deals[2].describe())"
   ]
  },
  {
   "cell_type": "markdown",
   "id": "800ae99a-03cc-4c8f-ac01-1c87e31923ac",
   "metadata": {},
   "source": [
    "## We are going to ask GPT-4.1-mini to summarize deals and identify their price"
   ]
  },
  {
   "cell_type": "code",
   "execution_count": null,
   "id": "84278b54-5289-4d60-8ea6-7de9f8067663",
   "metadata": {},
   "outputs": [],
   "source": [
    "SYSTEM_PROMPT = \"\"\"You identify and summarize the 5 most detailed deals from a list, by selecting deals that have the most detailed, high quality description and the most clear price.\n",
    "Respond strictly in JSON with no explanation, using this format. You should provide the price as a number derived from the description. If the price of a deal isn't clear, do not include that deal in your response.\n",
    "Most important is that you respond with the 5 deals that have the most detailed product description with price. It's not important to mention the terms of the deal; most important is a thorough description of the product.\n",
    "Be careful with products that are described as \"$XXX off\" or \"reduced by $XXX\" - this isn't the actual price of the product. Only respond with products when you are highly confident about the price. \n",
    "    \n",
    "{\n",
    "    \"deals\": [\n",
    "        {\n",
    "            \"product_description\": \"Your clearly expressed summary of the product in 3-4 sentences. Details of the item are much more important than why it's a good deal. Avoid mentioning discounts and coupons; focus on the item itself. There should be a paragpraph of text for each item you choose.\",\n",
    "            \"price\": 99.99,\n",
    "            \"url\": \"the url as provided\"\n",
    "        },\n",
    "        ...\n",
    "    ]\n",
    "}\"\"\""
   ]
  },
  {
   "cell_type": "code",
   "execution_count": null,
   "id": "af2545a0-e160-41db-8914-f77b1c7eff26",
   "metadata": {},
   "outputs": [],
   "source": [
    "USER_PROMPT_PREFIX = \"\"\"Respond with the most promising 5 deals from this list, selecting those which have the most detailed, high quality product description and a clear price that is greater than 0.\n",
    "Respond strictly in JSON, and only JSON. You should rephrase the description to be a summary of the product itself, not the terms of the deal.\n",
    "Remember to respond with a paragraph of text in the product_description field for each of the 5 items that you select.\n",
    "Be careful with products that are described as \"$XXX off\" or \"reduced by $XXX\" - this isn't the actual price of the product. Only respond with products when you are highly confident about the price. \n",
    "    \n",
    "Deals:\n",
    "    \n",
    "\"\"\"\n",
    "\n",
    "USER_PROMPT_SUFFIX = \"\"\"\\n\\nStrictly respond in JSON and include exactly 5 deals, no more.\n",
    "Your response must follow this format:\n",
    "\n",
    "{\n",
    "    \"deals\": [\n",
    "        {\n",
    "            \"product_description\": \"Your summary of the product in 3-4 sentences. Details of the item are much more important than why it's a good deal. Avoid mentioning discounts and coupons; focus on the item itself. There should be a paragpraph of text for each item you choose.\",\n",
    "            \"price\": 99.99,\n",
    "            \"url\": \"the url as provided\"\n",
    "        },\n",
    "        {\n",
    "            \"product_description\": \"Your summary of the product in 3-4 sentences. Details of the item are much more important than why it's a good deal. Avoid mentioning discounts and coupons; focus on the item itself. There should be a paragpraph of text for each item you choose.\",\n",
    "            \"price\": 210.30,\n",
    "            \"url\": \"the url as provided\"\n",
    "        },\n",
    "        ...\n",
    "]}\n",
    "\"\"\""
   ]
  },
  {
   "cell_type": "code",
   "execution_count": null,
   "id": "cf00a4e4-62c7-47a4-8415-2b7b4f86391a",
   "metadata": {},
   "outputs": [],
   "source": [
    "# this makes a suitable user prompt given scraped deals\n",
    "\n",
    "def make_user_prompt(scraped):\n",
    "    user_prompt = USER_PROMPT_PREFIX\n",
    "    user_prompt += '\\n\\n'.join([scrape.describe() for scrape in scraped])\n",
    "    user_prompt += USER_PROMPT_SUFFIX\n",
    "    return user_prompt"
   ]
  },
  {
   "cell_type": "code",
   "execution_count": null,
   "id": "504ecdac-7228-48eb-80b4-6e31d2dc8f5a",
   "metadata": {},
   "outputs": [],
   "source": [
    "# Let's create a user prompt for the deals we just scraped, and look at how it begins\n",
    "\n",
    "user_prompt = make_user_prompt(scraped_deals)\n",
    "print(user_prompt[:2000])"
   ]
  },
  {
   "cell_type": "markdown",
   "id": "9f7dcd64-9f16-4a6c-b822-ca3601c2f631",
   "metadata": {},
   "source": [
    "## Calling OpenAI using their Python client\n",
    "\n",
    "Recall the format of OpenAI calls:\n",
    "\n",
    "When you call OpenAI, you pass in your conversation as a list of python dictionaries:\n",
    "\n",
    "```\n",
    "    [\n",
    "        {\"role\": \"system\", \"content\": \"system_message_goes_here\"},\n",
    "        {\"role\": \"user\", \"content\": \"user_prompt_goes_here\"}\n",
    "    ]\n",
    "```"
   ]
  },
  {
   "cell_type": "code",
   "execution_count": null,
   "id": "20401a75-c12a-466b-9e66-7cd46ac03443",
   "metadata": {},
   "outputs": [],
   "source": [
    "# Create the user prompt that reflects the deals we have scraped\n",
    "\n",
    "user_prompt = make_user_prompt(scraped_deals)\n",
    "\n",
    "# Call OpenAI using their Python client. Request a response in JSON and stream it back.\n",
    "\n",
    "stream = openai.chat.completions.create(\n",
    "    model=MODEL,\n",
    "    messages=[\n",
    "        {\"role\": \"system\", \"content\": SYSTEM_PROMPT},\n",
    "        {\"role\": \"user\", \"content\": user_prompt}\n",
    "  ],\n",
    "    stream=True,\n",
    "    response_format={\"type\": \"json_object\"}\n",
    ")\n",
    "\n",
    "response = \"\"\n",
    "for chunk in stream:\n",
    "    chunk_text = chunk.choices[0].delta.content or ''\n",
    "    response += chunk_text\n",
    "    print(chunk_text, end=\"\", flush=True)"
   ]
  },
  {
   "cell_type": "code",
   "execution_count": null,
   "id": "70e74543-5aa6-4b92-bfde-a40451db295f",
   "metadata": {},
   "outputs": [],
   "source": [
    "import json\n",
    "json.loads(response)"
   ]
  },
  {
   "cell_type": "markdown",
   "id": "a99b6d4b-6223-4901-902a-14f1bda34244",
   "metadata": {},
   "source": [
    "# Putting this into an \"Agent\"\n",
    "\n",
    "I've packaged this code into a class called `ScannerAgent`\n",
    "\n",
    "There are various Agent frameworks that add an abstraction layer, but in our case it's easy just to write the code directly."
   ]
  },
  {
   "cell_type": "code",
   "execution_count": null,
   "id": "81eb5f68-168c-4d6c-936a-40b79f08f26a",
   "metadata": {},
   "outputs": [],
   "source": [
    "root = logging.getLogger()\n",
    "root.setLevel(logging.INFO)"
   ]
  },
  {
   "cell_type": "code",
   "execution_count": null,
   "id": "9d0af2d8-4419-49a7-af66-218a2d1f986c",
   "metadata": {},
   "outputs": [],
   "source": [
    "from price_agents.scanner_agent import ScannerAgent\n",
    "\n",
    "scanner = ScannerAgent()\n",
    "scanner.scan()"
   ]
  },
  {
   "cell_type": "code",
   "execution_count": null,
   "id": "425b0702-7b96-4b37-a6d1-4f5dc9deb1ad",
   "metadata": {},
   "outputs": [],
   "source": []
  }
 ],
 "metadata": {
  "kernelspec": {
   "display_name": "Python 3 (ipykernel)",
   "language": "python",
   "name": "python3"
  },
  "language_info": {
   "codemirror_mode": {
    "name": "ipython",
    "version": 3
   },
   "file_extension": ".py",
   "mimetype": "text/x-python",
   "name": "python",
   "nbconvert_exporter": "python",
   "pygments_lexer": "ipython3",
   "version": "3.11.13"
  }
 },
 "nbformat": 4,
 "nbformat_minor": 5
}
