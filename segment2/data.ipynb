{
 "cells": [
  {
   "cell_type": "markdown",
   "id": "33d05b1b-e5a8-43b8-b8ba-94c20b027ce9",
   "metadata": {},
   "source": [
    "# This notebook is for your info only -\n",
    "\n",
    "This is where I created the features for the dataset that we use during the labs for this segment."
   ]
  },
  {
   "cell_type": "code",
   "execution_count": null,
   "id": "f8e4ed48-63a4-45a7-95e3-b18690daf249",
   "metadata": {},
   "outputs": [],
   "source": [
    "# imports\n",
    "\n",
    "import os\n",
    "import random\n",
    "from dotenv import load_dotenv\n",
    "from huggingface_hub import login\n",
    "from datasets import load_dataset, Dataset, DatasetDict\n",
    "from items import Item\n",
    "from loaders import ItemLoader\n",
    "import matplotlib.pyplot as plt\n",
    "from collections import Counter, defaultdict\n",
    "import numpy as np\n",
    "from tqdm import tqdm\n",
    "import pickle\n",
    "import json"
   ]
  },
  {
   "cell_type": "code",
   "execution_count": null,
   "id": "3c032821-bbbf-43a9-b5fd-93ad684d35b4",
   "metadata": {},
   "outputs": [],
   "source": [
    "# Load in dataset\n",
    "\n",
    "with open('../train.pkl', 'rb') as file:\n",
    "    train = pickle.load(file)\n",
    "\n",
    "with open('../test.pkl', 'rb') as file:\n",
    "    test = pickle.load(file)"
   ]
  },
  {
   "cell_type": "code",
   "execution_count": null,
   "id": "06a45a8e-4cd8-4482-b429-3cd965f4a037",
   "metadata": {},
   "outputs": [],
   "source": [
    "items = train + test"
   ]
  },
  {
   "cell_type": "code",
   "execution_count": null,
   "id": "bbfcdf4e-6930-4869-90c6-5621363d6eeb",
   "metadata": {},
   "outputs": [],
   "source": [
    "len(items)"
   ]
  },
  {
   "cell_type": "code",
   "execution_count": null,
   "id": "5826a2c6-7415-4fc9-a14b-52887779c56a",
   "metadata": {},
   "outputs": [],
   "source": [
    "for item in tqdm(items):\n",
    "    item.features = json.loads(item.details)"
   ]
  },
  {
   "cell_type": "code",
   "execution_count": null,
   "id": "cb999565-c862-416d-a65e-8b31be673bd0",
   "metadata": {},
   "outputs": [],
   "source": [
    "for item in items:\n",
    "    w = item.features.get('Item Weight')\n",
    "    if w:\n",
    "        space = w.index(' ')\n",
    "        item.weight = float(w[:space])\n",
    "        item.units = w[space+1:]\n",
    "    else:\n",
    "        item.weight = None\n",
    "        item.units = None"
   ]
  },
  {
   "cell_type": "code",
   "execution_count": null,
   "id": "97d2d895-e093-4ac5-82ec-7c6452678299",
   "metadata": {},
   "outputs": [],
   "source": [
    "items[0].units"
   ]
  },
  {
   "cell_type": "code",
   "execution_count": null,
   "id": "ace14264-8f45-4b33-bf86-571e75da6fdd",
   "metadata": {},
   "outputs": [],
   "source": [
    "set(item.units for item in items if item.units is not None)"
   ]
  },
  {
   "cell_type": "code",
   "execution_count": null,
   "id": "c3a2dae3-3cea-46bc-ade1-b57fbc0d1406",
   "metadata": {},
   "outputs": [],
   "source": [
    "multipliers = {'Grams': 0.035274,\n",
    " 'Hundredths Pounds': 0.16,\n",
    " 'Kilograms': 35.27396,\n",
    " 'Milligrams': 0.000035274,\n",
    " 'Ounces': 1,\n",
    " 'Pounds': 16,\n",
    " 'ounces': 1,\n",
    " 'pounds': 16}"
   ]
  },
  {
   "cell_type": "code",
   "execution_count": null,
   "id": "cfcb22b3-ed90-443e-85ab-cb70079947d8",
   "metadata": {},
   "outputs": [],
   "source": [
    "for item in items:\n",
    "    if item.weight:\n",
    "        item.weight = item.weight * multipliers[item.units]\n",
    "        item.units = \"ounces\""
   ]
  },
  {
   "cell_type": "code",
   "execution_count": null,
   "id": "08c8a1a0-140a-4b97-9db5-2d1791c3d713",
   "metadata": {},
   "outputs": [],
   "source": [
    "for item in items:\n",
    "    ranks = item.features.get(\"Best Sellers Rank\")\n",
    "    if ranks:\n",
    "        item.rank = min(ranks.values())\n",
    "    else:\n",
    "        item.rank = None"
   ]
  },
  {
   "cell_type": "code",
   "execution_count": null,
   "id": "1008ed8f-bf8a-414d-9b32-0e06ec02e962",
   "metadata": {},
   "outputs": [],
   "source": [
    "from datetime import datetime\n",
    "\n",
    "replacer = {\n",
    "    \"01M\": \"January\",\n",
    "    \"02M\": \"February\",\n",
    "    \"03M\": \"March\",\n",
    "    \"04M\": \"April\",\n",
    "    \"05M\": \"May\",\n",
    "    \"06M\": \"June\",\n",
    "    \"07M\": \"July\",\n",
    "    \"08M\": \"August\",\n",
    "    \"09M\": \"September\",\n",
    "    \"10M\": \"October\",\n",
    "    \"11M\": \"November\",\n",
    "    \"12M\": \"December\"\n",
    "}\n",
    "\n",
    "for item in items:\n",
    "    avail = item.features.get(\"Date First Available\")\n",
    "    if avail:\n",
    "        for key, value in replacer.items():\n",
    "            avail = avail.replace(key, value)\n",
    "        date_obj = datetime.strptime(avail, \"%B %d, %Y\")\n",
    "        item.timestamp = date_obj.timestamp()\n",
    "    else:\n",
    "        item.timestamp = None"
   ]
  },
  {
   "cell_type": "code",
   "execution_count": null,
   "id": "68099ece-bd15-42d5-8338-a87f8b3568ac",
   "metadata": {},
   "outputs": [],
   "source": [
    "top_tech = ['samsung', 'sony', 'garmin', 'intel', 'dell computers','hp','lg','asus', 'nikon']\n",
    "top_toys = ['mattel', 'hasbro', 'lego']\n",
    "for item in items:\n",
    "    item.is_top_tech = (item.features.get(\"Manufacturer\") or \"\").lower() in top_tech\n",
    "    item.is_top_toys = (item.features.get(\"Manufacturer\") or \"\").lower() in top_toys\n"
   ]
  },
  {
   "cell_type": "code",
   "execution_count": null,
   "id": "9bdfc88d-81f8-47a9-8128-d4ee5cad400f",
   "metadata": {},
   "outputs": [],
   "source": [
    "ranks = [i.rank for i in items if i.rank]\n",
    "average_rank = sum(ranks)/len(ranks)\n",
    "weights = [i.weight for i in items if i.weight]\n",
    "average_weight = sum(weights)/len(weights)\n",
    "timestamps"
   ]
  },
  {
   "cell_type": "code",
   "execution_count": null,
   "id": "5058f2a5-1be7-4edc-8de7-9b3eb0a8650b",
   "metadata": {},
   "outputs": [],
   "source": [
    "train_features = [t for t in train if t.rank and t.weight and t.timestamp]"
   ]
  },
  {
   "cell_type": "code",
   "execution_count": null,
   "id": "9b97c9ac-638f-4f88-a608-9602817879d7",
   "metadata": {},
   "outputs": [],
   "source": [
    "len(train_features)"
   ]
  },
  {
   "cell_type": "code",
   "execution_count": null,
   "id": "cd3d19e2-609a-4b87-9ed7-685fd9594b35",
   "metadata": {},
   "outputs": [],
   "source": [
    "test_features = [t for t in test if t.rank and t.weight and t.timestamp]"
   ]
  },
  {
   "cell_type": "code",
   "execution_count": null,
   "id": "cc18f9ef-95a6-4d36-9703-6c1c05c327d5",
   "metadata": {},
   "outputs": [],
   "source": [
    "len(test_features)"
   ]
  },
  {
   "cell_type": "code",
   "execution_count": null,
   "id": "485f7669-bf5b-4d34-ab05-f0901fe7f471",
   "metadata": {},
   "outputs": [],
   "source": [
    "\n",
    "with open('../training_data.pkl', 'wb') as file:\n",
    "    pickle.dump(train_features, file)\n",
    "\n",
    "with open('../test_data.pkl', 'wb') as file:\n",
    "    pickle.dump(test_features, file)"
   ]
  },
  {
   "cell_type": "markdown",
   "id": "b8da6c81-a2d1-448e-bf48-549b8953451e",
   "metadata": {},
   "source": [
    "# Update the pickle files\n",
    "\n",
    "Addimg a text attribute to all the datapoints to simplify the code in the labs"
   ]
  },
  {
   "cell_type": "code",
   "execution_count": null,
   "id": "af84dd16-3eb4-4eac-8eb4-5b94ba5fed5e",
   "metadata": {},
   "outputs": [],
   "source": [
    "with open('../train.pkl', 'rb') as file:\n",
    "    train = pickle.load(file)\n",
    "\n",
    "with open('../test.pkl', 'rb') as file:\n",
    "    test = pickle.load(file)"
   ]
  },
  {
   "cell_type": "code",
   "execution_count": null,
   "id": "3dbc3c2c-8eaf-4afe-b16a-280146adbdf4",
   "metadata": {},
   "outputs": [],
   "source": [
    "for t in train:\n",
    "    t.text = t.test_prompt().replace('How much does this cost to the nearest dollar?\\n\\n', '').replace('\\n\\nPrice is $', '')\n",
    "for t in test:\n",
    "    t.text = t.test_prompt().replace('How much does this cost to the nearest dollar?\\n\\n', '').replace('\\n\\nPrice is $', '')"
   ]
  },
  {
   "cell_type": "code",
   "execution_count": null,
   "id": "cb53de7e-6fb7-4779-8967-68eb37bd59bb",
   "metadata": {},
   "outputs": [],
   "source": [
    "with open('../train.pkl', 'wb') as file:\n",
    "    pickle.dump(train, file)\n",
    "\n",
    "with open('../test.pkl', 'wb') as file:\n",
    "    pickle.dump(test, file)"
   ]
  },
  {
   "cell_type": "code",
   "execution_count": null,
   "id": "56104a0a-7601-4c04-a2fc-f2c649b66e9f",
   "metadata": {},
   "outputs": [],
   "source": [
    "with open('../training_data.pkl', 'rb') as file:\n",
    "    train = pickle.load(file)\n",
    "\n",
    "with open('../test_data.pkl', 'rb') as file:\n",
    "    test = pickle.load(file)"
   ]
  },
  {
   "cell_type": "code",
   "execution_count": null,
   "id": "83b65a44-4993-40ce-8349-77d8b4c87ebf",
   "metadata": {},
   "outputs": [],
   "source": [
    "for t in train:\n",
    "    t.text = t.test_prompt().replace('How much does this cost to the nearest dollar?\\n\\n', '').replace('\\n\\nPrice is $', '')\n",
    "for t in test:\n",
    "    t.text = t.test_prompt().replace('How much does this cost to the nearest dollar?\\n\\n', '').replace('\\n\\nPrice is $', '')"
   ]
  },
  {
   "cell_type": "code",
   "execution_count": null,
   "id": "76ba1f1a-8adb-42f7-82e7-ce965026c3c1",
   "metadata": {},
   "outputs": [],
   "source": [
    "with open('../training_data.pkl', 'wb') as file:\n",
    "    pickle.dump(train, file)\n",
    "\n",
    "with open('../test_data.pkl', 'wb') as file:\n",
    "    pickle.dump(test, file)"
   ]
  },
  {
   "cell_type": "code",
   "execution_count": null,
   "id": "8104b3b5-58e5-44fa-be2d-ea0b938fbeea",
   "metadata": {},
   "outputs": [],
   "source": []
  }
 ],
 "metadata": {
  "kernelspec": {
   "display_name": "Python 3 (ipykernel)",
   "language": "python",
   "name": "python3"
  },
  "language_info": {
   "codemirror_mode": {
    "name": "ipython",
    "version": 3
   },
   "file_extension": ".py",
   "mimetype": "text/x-python",
   "name": "python",
   "nbconvert_exporter": "python",
   "pygments_lexer": "ipython3",
   "version": "3.11.12"
  }
 },
 "nbformat": 4,
 "nbformat_minor": 5
}
