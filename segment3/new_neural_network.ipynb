{
 "cells": [
  {
   "cell_type": "markdown",
   "id": "b49a602f-1d11-4369-9164-f5364296bcf0",
   "metadata": {},
   "source": [
    "# Segment 3 Extra Lab\n",
    "\n",
    "## Let's make a deeper neural network"
   ]
  },
  {
   "cell_type": "code",
   "execution_count": 1,
   "id": "24c8d95d-8596-481c-9d4b-61cc810c65bf",
   "metadata": {},
   "outputs": [],
   "source": [
    "# imports - now including pytorch\n",
    "\n",
    "import os\n",
    "import random\n",
    "from dotenv import load_dotenv\n",
    "from huggingface_hub import login\n",
    "from items import Item\n",
    "import matplotlib.pyplot as plt\n",
    "import numpy as np\n",
    "from tqdm import tqdm\n",
    "import pickle\n",
    "import json\n",
    "from testing import Tester\n",
    "import torch\n",
    "import torch.nn as nn\n",
    "import torch.optim as optim\n",
    "from torch.utils.data import DataLoader, TensorDataset\n",
    "from IPython.display import display, SVG\n",
    "from sklearn.model_selection import train_test_split\n",
    "import math\n",
    "import numpy as np\n",
    "from sentence_transformers import SentenceTransformer\n",
    "import chromadb\n",
    "from torch.optim.lr_scheduler import CosineAnnealingLR"
   ]
  },
  {
   "cell_type": "code",
   "execution_count": 2,
   "id": "2d8d8ba4-7e34-41ea-87f3-92865067b4c7",
   "metadata": {},
   "outputs": [],
   "source": [
    "# Load in dataset\n",
    "# Sidenote: this is actually a larger dataset than before (about twice as large)\n",
    "\n",
    "with open('../train.pkl', 'rb') as file:\n",
    "    train = pickle.load(file)\n",
    "\n",
    "with open('../test.pkl', 'rb') as file:\n",
    "    test = pickle.load(file)"
   ]
  },
  {
   "cell_type": "code",
   "execution_count": 3,
   "id": "e50e233e-2c41-4a9a-99e0-c81c07597e0a",
   "metadata": {},
   "outputs": [
    {
     "data": {
      "text/plain": [
       "400000"
      ]
     },
     "execution_count": 3,
     "metadata": {},
     "output_type": "execute_result"
    }
   ],
   "source": [
    "len(train)"
   ]
  },
  {
   "cell_type": "code",
   "execution_count": 4,
   "id": "12dec838-1230-42dd-8626-4b4929013319",
   "metadata": {},
   "outputs": [],
   "source": [
    "# environment\n",
    "\n",
    "load_dotenv(override=True)\n",
    "os.environ['OPENAI_API_KEY'] = os.getenv('OPENAI_API_KEY', 'your-key-if-not-using-env')\n",
    "os.environ['HF_TOKEN'] = os.getenv('HF_TOKEN', 'your-key-if-not-using-env')\n",
    "DB = \"../segment4/products_vectorstore\""
   ]
  },
  {
   "cell_type": "code",
   "execution_count": 5,
   "id": "facd66f7-25ab-4454-b241-e0738becb941",
   "metadata": {},
   "outputs": [
    {
     "name": "stderr",
     "output_type": "stream",
     "text": [
      "Note: Environment variable`HF_TOKEN` is set and is the current active token independently from the token you've just configured.\n"
     ]
    }
   ],
   "source": [
    "# Log in to HuggingFace\n",
    "# If you don't have a HuggingFace account, you can set one up for free at www.huggingface.co\n",
    "# And then add the HF_TOKEN to your .env file as explained in the project README\n",
    "\n",
    "hf_token = os.environ['HF_TOKEN']\n",
    "login(token=hf_token, add_to_git_credential=False)"
   ]
  },
  {
   "cell_type": "code",
   "execution_count": 6,
   "id": "067ebe98-73c1-4eae-9b65-275e466071d9",
   "metadata": {},
   "outputs": [],
   "source": [
    "client = chromadb.PersistentClient(path=DB)\n",
    "model = SentenceTransformer('sentence-transformers/all-MiniLM-L6-v2')"
   ]
  },
  {
   "cell_type": "code",
   "execution_count": 7,
   "id": "d8e8c8ab-5de1-45d2-8eee-7dca95f2959f",
   "metadata": {},
   "outputs": [],
   "source": [
    "collection_name = \"products\"\n",
    "collection = client.get_or_create_collection(collection_name)"
   ]
  },
  {
   "cell_type": "code",
   "execution_count": 8,
   "id": "04b6a97a-c812-4100-8076-feaf6005ff68",
   "metadata": {},
   "outputs": [],
   "source": [
    "result = collection.get(include=['embeddings', 'documents', 'metadatas'])\n",
    "vectors = np.array(result['embeddings'])\n",
    "documents = result['documents']\n",
    "prices = [metadata['price'] for metadata in result['metadatas']]"
   ]
  },
  {
   "cell_type": "code",
   "execution_count": 9,
   "id": "51e1a300-da16-4324-a435-2aa3f9678422",
   "metadata": {},
   "outputs": [],
   "source": [
    "np.random.seed(42)\n",
    "torch.manual_seed(42)\n",
    "torch.cuda.manual_seed(42)\n",
    "\n",
    "# Convert data to PyTorch tensors\n",
    "X_train_tensor = torch.FloatTensor(vectors)\n",
    "y_train_tensor = torch.FloatTensor(prices).unsqueeze(1)\n",
    "\n",
    "# Split the data into training and validation sets\n",
    "X_train, X_val, y_train, y_val = train_test_split(X_train_tensor, y_train_tensor, test_size=0.01, random_state=42)\n",
    "\n",
    "# Log\n",
    "y_train_log = torch.log(y_train + 1)\n",
    "y_val_log = torch.log(y_val + 1)\n",
    "    \n",
    "# Normalize log prices\n",
    "y_mean = y_train_log.mean()\n",
    "y_std = y_train_log.std()\n",
    "y_train_norm = (y_train_log - y_mean) / y_std\n",
    "y_val_norm = (y_val_log - y_mean) / y_std\n",
    "\n",
    "# Create the loader\n",
    "train_dataset = TensorDataset(X_train, y_train)\n",
    "train_loader = DataLoader(train_dataset, batch_size=64, shuffle=True)"
   ]
  },
  {
   "cell_type": "code",
   "execution_count": 10,
   "id": "824452be-3387-403e-8e4f-f8ab0fc99700",
   "metadata": {},
   "outputs": [],
   "source": [
    "class NewNeuralNetwork(nn.Module):\n",
    "    def __init__(self, input_size, num_layers=10, hidden_size=4096, dropout_prob=0.2):\n",
    "        super(NewNeuralNetwork, self).__init__()\n",
    "        \n",
    "        # First layer\n",
    "        self.input_layer = nn.Sequential(\n",
    "            nn.Linear(input_size, hidden_size),\n",
    "            nn.LayerNorm(hidden_size),\n",
    "            nn.ReLU(),\n",
    "            nn.Dropout(dropout_prob)\n",
    "        )\n",
    "        \n",
    "        # Residual blocks\n",
    "        self.residual_blocks = nn.ModuleList()\n",
    "        for i in range(num_layers - 2):\n",
    "            self.residual_blocks.append(\n",
    "                ResidualBlock(hidden_size, dropout_prob)\n",
    "            )\n",
    "        \n",
    "        # Output layer\n",
    "        self.output_layer = nn.Linear(hidden_size, 1)\n",
    "        \n",
    "    def forward(self, x):\n",
    "        x = self.input_layer(x)\n",
    "        \n",
    "        for block in self.residual_blocks:\n",
    "            x = block(x)\n",
    "            \n",
    "        return self.output_layer(x)"
   ]
  },
  {
   "cell_type": "code",
   "execution_count": 11,
   "id": "9a49dec4-7115-4fb6-9f14-4748d38f9ff0",
   "metadata": {},
   "outputs": [],
   "source": [
    "class ResidualBlock(nn.Module):\n",
    "    def __init__(self, hidden_size, dropout_prob):\n",
    "        super(ResidualBlock, self).__init__()\n",
    "        self.block = nn.Sequential(\n",
    "            nn.Linear(hidden_size, hidden_size),\n",
    "            nn.LayerNorm(hidden_size),\n",
    "            nn.ReLU(),\n",
    "            nn.Dropout(dropout_prob),\n",
    "            nn.Linear(hidden_size, hidden_size),\n",
    "            nn.LayerNorm(hidden_size)\n",
    "        )\n",
    "        self.relu = nn.ReLU()\n",
    "        \n",
    "    def forward(self, x):\n",
    "        residual = x\n",
    "        out = self.block(x)\n",
    "        out += residual  # Skip connection\n",
    "        return self.relu(out)"
   ]
  },
  {
   "cell_type": "code",
   "execution_count": 12,
   "id": "bd1a2977-5764-4a40-a65b-c746ce31b006",
   "metadata": {},
   "outputs": [
    {
     "name": "stdout",
     "output_type": "stream",
     "text": [
      "Total parameters: 270221313\n"
     ]
    }
   ],
   "source": [
    "model = NewNeuralNetwork(X_train.shape[1])\n",
    "total_params = sum(p.numel() for p in model.parameters())\n",
    "print(\"Total parameters:\", total_params)\n",
    "\n",
    "device = torch.device(\"mps\" if torch.backends.mps.is_available() else \"cpu\")\n",
    "model.to(device)\n",
    "loss_function = nn.L1Loss()\n",
    "optimizer = optim.AdamW(model.parameters(), lr=0.001, weight_decay=0.01)\n",
    "scheduler = CosineAnnealingLR(optimizer, T_max=10, eta_min=0)\n",
    "\n",
    "train_dataset = torch.utils.data.TensorDataset(X_train, y_train_norm)\n",
    "train_loader = torch.utils.data.DataLoader(train_dataset, batch_size=64, shuffle=True)"
   ]
  },
  {
   "cell_type": "code",
   "execution_count": 13,
   "id": "bcfec868-fb13-4fd7-9201-b62b10b94885",
   "metadata": {},
   "outputs": [
    {
     "name": "stderr",
     "output_type": "stream",
     "text": [
      "100%|███████████████████████████████████████| 6188/6188 [10:22<00:00,  9.94it/s]\n"
     ]
    },
    {
     "name": "stdout",
     "output_type": "stream",
     "text": [
      "Epoch [2/20]\n",
      "Train Loss: 0.6437, Val Loss: 0.4982\n",
      "Val MAE (original scale): $96.81\n",
      "Learning rate: 0.001000\n"
     ]
    },
    {
     "name": "stderr",
     "output_type": "stream",
     "text": [
      "100%|███████████████████████████████████████| 6188/6188 [10:39<00:00,  9.68it/s]\n"
     ]
    },
    {
     "name": "stdout",
     "output_type": "stream",
     "text": [
      "Epoch [3/20]\n",
      "Train Loss: 0.4728, Val Loss: 0.4657\n",
      "Val MAE (original scale): $90.32\n",
      "Learning rate: 0.000976\n"
     ]
    },
    {
     "name": "stderr",
     "output_type": "stream",
     "text": [
      "100%|███████████████████████████████████████| 6188/6188 [11:01<00:00,  9.36it/s]\n"
     ]
    },
    {
     "name": "stdout",
     "output_type": "stream",
     "text": [
      "Epoch [4/20]\n",
      "Train Loss: 0.4396, Val Loss: 0.4448\n",
      "Val MAE (original scale): $86.40\n",
      "Learning rate: 0.000905\n"
     ]
    },
    {
     "name": "stderr",
     "output_type": "stream",
     "text": [
      "100%|███████████████████████████████████████| 6188/6188 [11:06<00:00,  9.29it/s]\n"
     ]
    },
    {
     "name": "stdout",
     "output_type": "stream",
     "text": [
      "Epoch [5/20]\n",
      "Train Loss: 0.4118, Val Loss: 0.4370\n",
      "Val MAE (original scale): $85.55\n",
      "Learning rate: 0.000794\n"
     ]
    },
    {
     "name": "stderr",
     "output_type": "stream",
     "text": [
      "100%|███████████████████████████████████████| 6188/6188 [11:07<00:00,  9.27it/s]\n"
     ]
    },
    {
     "name": "stdout",
     "output_type": "stream",
     "text": [
      "Epoch [6/20]\n",
      "Train Loss: 0.3865, Val Loss: 0.4238\n",
      "Val MAE (original scale): $81.84\n",
      "Learning rate: 0.000655\n"
     ]
    },
    {
     "name": "stderr",
     "output_type": "stream",
     "text": [
      "100%|███████████████████████████████████████| 6188/6188 [11:07<00:00,  9.27it/s]\n"
     ]
    },
    {
     "name": "stdout",
     "output_type": "stream",
     "text": [
      "Epoch [7/20]\n",
      "Train Loss: 0.3609, Val Loss: 0.4163\n",
      "Val MAE (original scale): $80.37\n",
      "Learning rate: 0.000500\n"
     ]
    },
    {
     "name": "stderr",
     "output_type": "stream",
     "text": [
      "100%|███████████████████████████████████████| 6188/6188 [11:05<00:00,  9.29it/s]\n"
     ]
    },
    {
     "name": "stdout",
     "output_type": "stream",
     "text": [
      "Epoch [8/20]\n",
      "Train Loss: 0.3352, Val Loss: 0.4105\n",
      "Val MAE (original scale): $79.22\n",
      "Learning rate: 0.000345\n"
     ]
    },
    {
     "name": "stderr",
     "output_type": "stream",
     "text": [
      "100%|███████████████████████████████████████| 6188/6188 [11:09<00:00,  9.24it/s]\n"
     ]
    },
    {
     "name": "stdout",
     "output_type": "stream",
     "text": [
      "Epoch [9/20]\n",
      "Train Loss: 0.3111, Val Loss: 0.4010\n",
      "Val MAE (original scale): $77.13\n",
      "Learning rate: 0.000206\n"
     ]
    },
    {
     "name": "stderr",
     "output_type": "stream",
     "text": [
      "100%|███████████████████████████████████████| 6188/6188 [11:08<00:00,  9.26it/s]\n"
     ]
    },
    {
     "name": "stdout",
     "output_type": "stream",
     "text": [
      "Epoch [10/20]\n",
      "Train Loss: 0.2913, Val Loss: 0.3985\n",
      "Val MAE (original scale): $76.56\n",
      "Learning rate: 0.000095\n"
     ]
    },
    {
     "name": "stderr",
     "output_type": "stream",
     "text": [
      "100%|███████████████████████████████████████| 6188/6188 [11:09<00:00,  9.25it/s]\n"
     ]
    },
    {
     "name": "stdout",
     "output_type": "stream",
     "text": [
      "Epoch [11/20]\n",
      "Train Loss: 0.2794, Val Loss: 0.3967\n",
      "Val MAE (original scale): $76.24\n",
      "Learning rate: 0.000024\n"
     ]
    },
    {
     "name": "stderr",
     "output_type": "stream",
     "text": [
      "100%|███████████████████████████████████████| 6188/6188 [09:35<00:00, 10.75it/s]\n"
     ]
    },
    {
     "name": "stdout",
     "output_type": "stream",
     "text": [
      "Epoch [12/20]\n",
      "Train Loss: 0.2753, Val Loss: 0.3967\n",
      "Val MAE (original scale): $76.24\n",
      "Learning rate: 0.000000\n"
     ]
    },
    {
     "name": "stderr",
     "output_type": "stream",
     "text": [
      "100%|███████████████████████████████████████| 6188/6188 [10:56<00:00,  9.43it/s]\n"
     ]
    },
    {
     "name": "stdout",
     "output_type": "stream",
     "text": [
      "Epoch [13/20]\n",
      "Train Loss: 0.2757, Val Loss: 0.3963\n",
      "Val MAE (original scale): $76.09\n",
      "Learning rate: 0.000024\n"
     ]
    },
    {
     "name": "stderr",
     "output_type": "stream",
     "text": [
      "100%|███████████████████████████████████████| 6188/6188 [11:00<00:00,  9.37it/s]\n"
     ]
    },
    {
     "name": "stdout",
     "output_type": "stream",
     "text": [
      "Epoch [14/20]\n",
      "Train Loss: 0.2779, Val Loss: 0.3956\n",
      "Val MAE (original scale): $76.40\n",
      "Learning rate: 0.000095\n"
     ]
    },
    {
     "name": "stderr",
     "output_type": "stream",
     "text": [
      "100%|███████████████████████████████████████| 6188/6188 [10:55<00:00,  9.44it/s]\n"
     ]
    },
    {
     "name": "stdout",
     "output_type": "stream",
     "text": [
      "Epoch [15/20]\n",
      "Train Loss: 0.2812, Val Loss: 0.3960\n",
      "Val MAE (original scale): $76.64\n",
      "Learning rate: 0.000206\n"
     ]
    },
    {
     "name": "stderr",
     "output_type": "stream",
     "text": [
      "100%|███████████████████████████████████████| 6188/6188 [10:56<00:00,  9.43it/s]\n"
     ]
    },
    {
     "name": "stdout",
     "output_type": "stream",
     "text": [
      "Epoch [16/20]\n",
      "Train Loss: 0.2872, Val Loss: 0.3983\n",
      "Val MAE (original scale): $76.91\n",
      "Learning rate: 0.000345\n"
     ]
    },
    {
     "name": "stderr",
     "output_type": "stream",
     "text": [
      "100%|███████████████████████████████████████| 6188/6188 [11:17<00:00,  9.13it/s]\n"
     ]
    },
    {
     "name": "stdout",
     "output_type": "stream",
     "text": [
      "Epoch [17/20]\n",
      "Train Loss: 0.2984, Val Loss: 0.4042\n",
      "Val MAE (original scale): $77.97\n",
      "Learning rate: 0.000500\n"
     ]
    },
    {
     "name": "stderr",
     "output_type": "stream",
     "text": [
      "100%|███████████████████████████████████████| 6188/6188 [11:24<00:00,  9.04it/s]\n"
     ]
    },
    {
     "name": "stdout",
     "output_type": "stream",
     "text": [
      "Epoch [18/20]\n",
      "Train Loss: 0.3114, Val Loss: 0.4078\n",
      "Val MAE (original scale): $78.99\n",
      "Learning rate: 0.000655\n"
     ]
    },
    {
     "name": "stderr",
     "output_type": "stream",
     "text": [
      "100%|███████████████████████████████████████| 6188/6188 [11:07<00:00,  9.28it/s]\n"
     ]
    },
    {
     "name": "stdout",
     "output_type": "stream",
     "text": [
      "Epoch [19/20]\n",
      "Train Loss: 0.3237, Val Loss: 0.4124\n",
      "Val MAE (original scale): $79.82\n",
      "Learning rate: 0.000794\n"
     ]
    },
    {
     "name": "stderr",
     "output_type": "stream",
     "text": [
      "100%|███████████████████████████████████████| 6188/6188 [11:04<00:00,  9.32it/s]\n"
     ]
    },
    {
     "name": "stdout",
     "output_type": "stream",
     "text": [
      "Epoch [20/20]\n",
      "Train Loss: 0.3330, Val Loss: 0.4191\n",
      "Val MAE (original scale): $80.53\n",
      "Learning rate: 0.000905\n"
     ]
    },
    {
     "name": "stderr",
     "output_type": "stream",
     "text": [
      "100%|███████████████████████████████████████| 6188/6188 [11:14<00:00,  9.17it/s]\n"
     ]
    },
    {
     "name": "stdout",
     "output_type": "stream",
     "text": [
      "Epoch [21/20]\n",
      "Train Loss: 0.3361, Val Loss: 0.4154\n",
      "Val MAE (original scale): $80.56\n",
      "Learning rate: 0.000976\n"
     ]
    }
   ],
   "source": [
    "EPOCH_START = 1\n",
    "EPOCH_END = 20\n",
    "\n",
    "for epoch in range(EPOCH_START, EPOCH_END+1):\n",
    "    model.train()\n",
    "    train_losses = []\n",
    "    \n",
    "    for batch_X, batch_y in tqdm(train_loader):\n",
    "        batch_X = batch_X.to(device)\n",
    "        batch_y = batch_y.to(device)\n",
    "        \n",
    "        optimizer.zero_grad()\n",
    "        outputs = model(batch_X)\n",
    "        loss = loss_function(outputs, batch_y)\n",
    "        loss.backward()\n",
    "        \n",
    "        # Gradient clipping\n",
    "        torch.nn.utils.clip_grad_norm_(model.parameters(), max_norm=1.0)\n",
    "        \n",
    "        optimizer.step()\n",
    "        train_losses.append(loss.item())\n",
    "    \n",
    "    # Validation\n",
    "    model.eval()\n",
    "    with torch.no_grad():\n",
    "        val_outputs = model(X_val.to(device))\n",
    "        val_loss = loss_function(val_outputs, y_val_norm.to(device))\n",
    "        \n",
    "        # Convert back to original scale for meaningful metrics\n",
    "        val_outputs_orig = torch.exp(val_outputs * y_std + y_mean) - 1\n",
    "        mae = torch.abs(val_outputs_orig - y_val.to(device)).mean()\n",
    "    \n",
    "    avg_train_loss = np.mean(train_losses)\n",
    "    print(f'Epoch [{epoch+1}/{EPOCH_END}]')\n",
    "    print(f'Train Loss: {avg_train_loss:.4f}, Val Loss: {val_loss.item():.4f}')\n",
    "    print(f'Val MAE (original scale): ${mae.item():.2f}')\n",
    "    print(f'Learning rate: {scheduler.get_last_lr()[0]:.6f}')\n",
    "\n",
    "    # torch.save(model.state_dict(), f'models/nnn-{epoch+1}.pth')\n",
    "    \n",
    "    # Learning rate scheduling\n",
    "    scheduler.step()"
   ]
  },
  {
   "cell_type": "code",
   "execution_count": 14,
   "id": "39515e66-4d4b-4123-8489-575b02e56c9b",
   "metadata": {},
   "outputs": [],
   "source": [
    "encoder = SentenceTransformer('sentence-transformers/all-MiniLM-L6-v2')\n",
    "\n",
    "def new_neural_network(item):\n",
    "    model.eval()\n",
    "    with torch.no_grad():\n",
    "        vector = encoder.encode(item.text)\n",
    "        vector = torch.FloatTensor(vector).to(device)\n",
    "        pred = model(vector)[0]\n",
    "        result = torch.exp(pred * y_std + y_mean) - 1\n",
    "        result = result.item()\n",
    "    return max(0, result)"
   ]
  },
  {
   "cell_type": "code",
   "execution_count": 15,
   "id": "37b9117e-540f-400a-af2d-c17c24029b54",
   "metadata": {},
   "outputs": [
    {
     "data": {
      "text/plain": [
       "153.29127502441406"
      ]
     },
     "execution_count": 15,
     "metadata": {},
     "output_type": "execute_result"
    }
   ],
   "source": [
    "new_neural_network(test[1])"
   ]
  },
  {
   "cell_type": "code",
   "execution_count": 16,
   "id": "3f899c0c-87a5-41cb-a2f3-6c4fe9498cd9",
   "metadata": {},
   "outputs": [
    {
     "name": "stdout",
     "output_type": "stream",
     "text": [
      "\u001b[93m1: Guess: $285.54 Truth: $374.41 Error: $88.87 Item: OEM AC Compressor w/A/C Repair Kit For F...\u001b[0m\n",
      "\u001b[93m2: Guess: $153.29 Truth: $225.11 Error: $71.82 Item: Motorcraft YB3125 Fan Clutch\u001b[0m\n",
      "\u001b[93m3: Guess: $117.56 Truth: $61.68 Error: $55.88 Item: Dorman 603-159 Front Washer Fluid Reserv...\u001b[0m\n",
      "\u001b[92m4: Guess: $534.90 Truth: $599.99 Error: $65.09 Item: HP Premium 17.3-inch HD Plus Touchscreen...\u001b[0m\n",
      "\u001b[92m5: Guess: $32.42 Truth: $16.99 Error: $15.43 Item: 5-Position Super Switch Pickup Selector ...\u001b[0m\n",
      "\u001b[92m6: Guess: $4.59 Truth: $31.99 Error: $27.40 Item: Horror Bookmarks, Resin Horror Bookmarks...\u001b[0m\n",
      "\u001b[92m7: Guess: $86.12 Truth: $101.79 Error: $15.67 Item: SK6241 - Stinger 4 Gauge 6000 Series Pow...\u001b[0m\n",
      "\u001b[93m8: Guess: $382.54 Truth: $289.00 Error: $93.54 Item: Godox ML60Bi LED Light Kit, Handheld LED...\u001b[0m\n",
      "\u001b[93m9: Guess: $390.21 Truth: $635.86 Error: $245.65 Item: Randall RG75DG3PLUS G3 Plus 100-Watt Com...\u001b[0m\n",
      "\u001b[93m10: Guess: $114.15 Truth: $65.99 Error: $48.16 Item: HOLDWILL 6 Pack LED Shop Light, 4FT 24W ...\u001b[0m\n",
      "\u001b[92m11: Guess: $239.48 Truth: $254.21 Error: $14.73 Item: Viking Horns V103C/1005ATK 3 Gallon Air ...\u001b[0m\n",
      "\u001b[93m12: Guess: $248.06 Truth: $412.99 Error: $164.93 Item: CURT 70110 Custom Tow Bar Base Plate Bra...\u001b[0m\n",
      "\u001b[92m13: Guess: $200.03 Truth: $205.50 Error: $5.47 Item: 10-Pack Solar HAMMERED BRONZE Finish Pos...\u001b[0m\n",
      "\u001b[92m14: Guess: $222.02 Truth: $248.23 Error: $26.21 Item: COSTWAY Electric Tumble Dryer, Sliver\u001b[0m\n",
      "\u001b[92m15: Guess: $321.94 Truth: $399.00 Error: $77.06 Item: FREE SIGNAL TV Transit 32\" 12 Volt DC Po...\u001b[0m\n",
      "\u001b[92m16: Guess: $367.22 Truth: $373.94 Error: $6.72 Item: Bilstein 5100 Monotube Gas Shock Set com...\u001b[0m\n",
      "\u001b[92m17: Guess: $85.41 Truth: $92.89 Error: $7.48 Item: Sangean K-200 Multi-Function Upright AM/...\u001b[0m\n",
      "\u001b[92m18: Guess: $32.44 Truth: $51.99 Error: $19.55 Item: Charles Leonard Magnetic Lapboard Class ...\u001b[0m\n",
      "\u001b[93m19: Guess: $248.49 Truth: $179.00 Error: $69.49 Item: Gigabyte AMD Radeon HD 7870 2 GB GDDR5 D...\u001b[0m\n",
      "\u001b[92m20: Guess: $15.29 Truth: $19.42 Error: $4.13 Item: 3dRose LLC 8 x 8 x 0.25 Inches Bull Terr...\u001b[0m\n",
      "\u001b[93m21: Guess: $401.62 Truth: $539.95 Error: $138.33 Item: ROKINON 85mm F1.4 Auto Focus Full Frame ...\u001b[0m\n",
      "\u001b[93m22: Guess: $216.26 Truth: $147.67 Error: $68.59 Item: AUTOSAVER88 Headlight Assembly Compatibl...\u001b[0m\n",
      "\u001b[92m23: Guess: $56.04 Truth: $24.99 Error: $31.05 Item: ASI NAUTICAL 2.5 Inches Opera Glasses Bi...\u001b[0m\n",
      "\u001b[91m24: Guess: $267.81 Truth: $149.00 Error: $118.81 Item: Behringer TUBE OVERDRIVE TO100 Authentic...\u001b[0m\n",
      "\u001b[92m25: Guess: $11.78 Truth: $16.99 Error: $5.21 Item: Fun Express Insect Finger Puppets - 24 f...\u001b[0m\n",
      "\u001b[92m26: Guess: $17.73 Truth: $7.99 Error: $9.74 Item: WAFJAMF Roller Stamp Identity Theft Stam...\u001b[0m\n",
      "\u001b[92m27: Guess: $191.51 Truth: $199.99 Error: $8.48 Item: Capulina Tiffany Floor Lamp 2-Light 16\" ...\u001b[0m\n",
      "\u001b[93m28: Guess: $306.10 Truth: $251.45 Error: $54.65 Item: Apple Watch Series 6 (GPS, 44mm) - Space...\u001b[0m\n",
      "\u001b[92m29: Guess: $254.52 Truth: $231.62 Error: $22.90 Item: ICON 01725 Tandem Axle Fender Skirt FS17...\u001b[0m\n",
      "\u001b[91m30: Guess: $41.55 Truth: $135.00 Error: $93.45 Item: SanDisk 128GB Ultra (10 Pack) MicroSD Cl...\u001b[0m\n",
      "\u001b[92m31: Guess: $381.29 Truth: $356.62 Error: $24.67 Item: Velvac 2020,L,C/Hr,W,E2003,102\",Bk - 715...\u001b[0m\n",
      "\u001b[92m32: Guess: $217.80 Truth: $257.99 Error: $40.19 Item: TCMT Passenger Backrest Sissy Bar & Lugg...\u001b[0m\n",
      "\u001b[92m33: Guess: $41.92 Truth: $27.99 Error: $13.93 Item: Alnicov 63.5MM Brass Tremolo Block，Tremo...\u001b[0m\n",
      "\u001b[92m34: Guess: $187.23 Truth: $171.20 Error: $16.03 Item: Subaru Forester Outback Legacy OEM Engin...\u001b[0m\n",
      "\u001b[92m35: Guess: $199.00 Truth: $225.00 Error: $26.00 Item: Richmond Auto Upholstery - 2012 Dodge Ra...\u001b[0m\n",
      "\u001b[92m36: Guess: $128.45 Truth: $105.00 Error: $23.45 Item: AP-39 Automotive Paint Primer Grey 2K Ur...\u001b[0m\n",
      "\u001b[92m37: Guess: $265.32 Truth: $299.99 Error: $34.67 Item: Road Top Wireless Carplay Retrofit Kit D...\u001b[0m\n",
      "\u001b[93m38: Guess: $698.52 Truth: $535.09 Error: $163.43 Item: Gibson Performance Exhaust 5658 Aluminiz...\u001b[0m\n",
      "\u001b[93m39: Guess: $57.70 Truth: $12.33 Error: $45.37 Item: Bella Tunno Happy Links - Baby Montessor...\u001b[0m\n",
      "\u001b[93m40: Guess: $164.55 Truth: $84.99 Error: $79.56 Item: CANMORE H300 Handheld GPS Golf Device, S...\u001b[0m\n",
      "\u001b[92m41: Guess: $17.76 Truth: $15.99 Error: $1.77 Item: DCPOWER AC Adapter Compatible Replacemen...\u001b[0m\n",
      "\u001b[92m42: Guess: $50.40 Truth: $62.44 Error: $12.04 Item: Sharp, VX2128V, Commercial Desktop Calcu...\u001b[0m\n",
      "\u001b[92m43: Guess: $67.24 Truth: $82.99 Error: $15.75 Item: Melissa & Doug Lifelike Plush Stork Gian...\u001b[0m\n",
      "\u001b[93m44: Guess: $380.80 Truth: $599.95 Error: $219.15 Item: Sony SSCS8 2-Way 3-Driver Center Channel...\u001b[0m\n",
      "\u001b[93m45: Guess: $257.94 Truth: $194.99 Error: $62.95 Item: ASUS Chromebook CX1, 14\" Full HD NanoEdg...\u001b[0m\n",
      "\u001b[92m46: Guess: $278.26 Truth: $344.95 Error: $66.69 Item: FiiO X7 32GB Hi-Res Lossless Music Playe...\u001b[0m\n",
      "\u001b[92m47: Guess: $33.31 Truth: $37.99 Error: $4.68 Item: TORRO Leather Case Compatible with iPhon...\u001b[0m\n",
      "\u001b[92m48: Guess: $242.46 Truth: $224.35 Error: $18.11 Item: Universal Air Conditioner KT 1031 A/C Co...\u001b[0m\n",
      "\u001b[92m49: Guess: $888.67 Truth: $814.00 Error: $74.67 Item: Street Series Stainless Performance Cat-...\u001b[0m\n",
      "\u001b[93m50: Guess: $584.88 Truth: $439.88 Error: $145.00 Item: Lenovo IdeaPad 3 14-inch Laptop, 14.0-in...\u001b[0m\n",
      "\u001b[93m51: Guess: $222.68 Truth: $341.43 Error: $118.75 Item: Access Bed Covers TonnoSport 22050219 - ...\u001b[0m\n",
      "\u001b[92m52: Guess: $75.10 Truth: $46.78 Error: $28.32 Item: G.I. JOE Hasbro 3 3/4\" Wave 5 Action Fig...\u001b[0m\n",
      "\u001b[92m53: Guess: $162.62 Truth: $171.44 Error: $8.82 Item: T&S Brass B-0232-BST Double Pantry Fauce...\u001b[0m\n",
      "\u001b[93m54: Guess: $330.05 Truth: $458.00 Error: $127.95 Item: ZTUOAUMA Fuel Injection Pump 3090942 309...\u001b[0m\n",
      "\u001b[91m55: Guess: $477.02 Truth: $130.75 Error: $346.27 Item: 2AP18AA#ABA Hp Prime Graphing Calculator...\u001b[0m\n",
      "\u001b[92m56: Guess: $52.73 Truth: $83.81 Error: $31.08 Item: Lowrance 000-0119-83 Nmea 2000 25' Exten...\u001b[0m\n",
      "\u001b[91m57: Guess: $82.70 Truth: $386.39 Error: $303.69 Item: Jeep Genuine Accessories 82213051 Hood L...\u001b[0m\n",
      "\u001b[92m58: Guess: $200.92 Truth: $169.00 Error: $31.92 Item: GODOX CB-06 Hard Carrying Case with Whee...\u001b[0m\n",
      "\u001b[92m59: Guess: $30.55 Truth: $17.95 Error: $12.60 Item: Au-Tomotive Gold, INC. Ford Black Valet ...\u001b[0m\n",
      "\u001b[92m60: Guess: $223.25 Truth: $269.00 Error: $45.75 Item: Snailfly Black Roof Rack Rail + Cross Ba...\u001b[0m\n",
      "\u001b[93m61: Guess: $126.84 Truth: $77.77 Error: $49.07 Item: KING SHA Anti Glare LED Track Lighting H...\u001b[0m\n",
      "\u001b[92m62: Guess: $71.77 Truth: $88.99 Error: $17.22 Item: APS Compatible with Chevy Silverado 1500...\u001b[0m\n",
      "\u001b[92m63: Guess: $388.63 Truth: $364.41 Error: $24.22 Item: Wilwood Engineering 14011291R Brake Cali...\u001b[0m\n",
      "\u001b[92m64: Guess: $156.22 Truth: $127.03 Error: $29.19 Item: ACDelco Gold 336-1925A Starter, Remanufa...\u001b[0m\n",
      "\u001b[92m65: Guess: $662.78 Truth: $778.95 Error: $116.17 Item: UWS EC10783 69-Inch Matte Black Heavy-Wa...\u001b[0m\n",
      "\u001b[92m66: Guess: $209.65 Truth: $206.66 Error: $2.99 Item: Dell Latitude E5440 14in Business Laptop...\u001b[0m\n",
      "\u001b[93m67: Guess: $84.72 Truth: $35.94 Error: $48.78 Item: (Plug and Play) Spare Tire Brake Light W...\u001b[0m\n",
      "\u001b[93m68: Guess: $228.91 Truth: $149.00 Error: $79.91 Item: The Ultimate Roadside Rescue Assistant\u001b[0m\n",
      "\u001b[92m69: Guess: $224.78 Truth: $251.98 Error: $27.20 Item: Brand New 18\" x 8.5\" Replacement Wheel f...\u001b[0m\n",
      "\u001b[91m70: Guess: $242.61 Truth: $160.00 Error: $82.61 Item: Headlight Headlamp LH Left & RH Right Pa...\u001b[0m\n",
      "\u001b[92m71: Guess: $45.75 Truth: $39.99 Error: $5.76 Item: Lilo And Stitch Deluxe Oversize Print La...\u001b[0m\n",
      "\u001b[93m72: Guess: $252.73 Truth: $362.41 Error: $109.68 Item: AC Compressor & A/C Clutch For Hyundai A...\u001b[0m\n",
      "\u001b[93m73: Guess: $234.35 Truth: $344.00 Error: $109.65 Item: House Of Troy PIN475-AB Pinnacle Collect...\u001b[0m\n",
      "\u001b[91m74: Guess: $115.94 Truth: $25.09 Error: $90.85 Item: Juno T29 WH Floating Electrical Feed Sin...\u001b[0m\n",
      "\u001b[91m75: Guess: $71.48 Truth: $175.95 Error: $104.47 Item: Sherman GO-PARTS - for 2013-2016 Toyota ...\u001b[0m\n",
      "\u001b[91m76: Guess: $358.35 Truth: $132.64 Error: $225.71 Item: Roland RPU-3 Electronic Keyboard Pedal o...\u001b[0m\n",
      "\u001b[92m77: Guess: $417.78 Truth: $422.99 Error: $5.21 Item: Rockland VMI14 12,000 Pound 12 Volt DC E...\u001b[0m\n",
      "\u001b[92m78: Guess: $170.19 Truth: $146.48 Error: $23.71 Item: Max Advanced Brakes Elite XDS Front Cros...\u001b[0m\n",
      "\u001b[92m79: Guess: $168.18 Truth: $156.83 Error: $11.35 Item: Quality-Built 11030 Premium Quality Alte...\u001b[0m\n",
      "\u001b[92m80: Guess: $257.12 Truth: $251.99 Error: $5.13 Item: Lucida LG-510 Student Classical Guitar, ...\u001b[0m\n",
      "\u001b[91m81: Guess: $266.02 Truth: $940.33 Error: $674.31 Item: Longacre 52-79800 Aluminum Turn Plates\u001b[0m\n",
      "\u001b[92m82: Guess: $31.76 Truth: $52.99 Error: $21.23 Item: Motion Pro 08-0380 Adjustable Torque Wre...\u001b[0m\n",
      "\u001b[91m83: Guess: $33.10 Truth: $219.95 Error: $186.85 Item: Glyph Thunderbolt 3 NVMe Dock (0 GB)\u001b[0m\n",
      "\u001b[93m84: Guess: $339.04 Truth: $441.03 Error: $101.99 Item: TOYO Open Country MT Performance Radial ...\u001b[0m\n",
      "\u001b[93m85: Guess: $241.87 Truth: $168.98 Error: $72.89 Item: Razer Seiren X USB Streaming Microphone ...\u001b[0m\n",
      "\u001b[92m86: Guess: $3.59 Truth: $2.49 Error: $1.10 Item: Happy Birthday to Dad From Your Daughter...\u001b[0m\n",
      "\u001b[91m87: Guess: $213.49 Truth: $98.62 Error: $114.87 Item: Little Tikes My Real Jam First Concert S...\u001b[0m\n",
      "\u001b[91m88: Guess: $127.64 Truth: $256.95 Error: $129.31 Item: Studio M Peace and Harmony Art Pole Comm...\u001b[0m\n",
      "\u001b[92m89: Guess: $27.34 Truth: $30.99 Error: $3.65 Item: MyVolts 12V Power Supply Adaptor Compati...\u001b[0m\n",
      "\u001b[93m90: Guess: $439.45 Truth: $569.84 Error: $130.39 Item: Dell Latitude 7212 Rugged Extreme Tablet...\u001b[0m\n",
      "\u001b[92m91: Guess: $209.62 Truth: $177.99 Error: $31.63 Item: Covermates Contour Fit Car Cover - Light...\u001b[0m\n",
      "\u001b[92m92: Guess: $972.15 Truth: $997.99 Error: $25.84 Item: Westin 57-4025 Black HDX Grille Guard fi...\u001b[0m\n",
      "\u001b[91m93: Guess: $101.93 Truth: $219.00 Error: $117.07 Item: Fieldpiece JL2 Job Link Wireless App Tra...\u001b[0m\n",
      "\u001b[93m94: Guess: $286.92 Truth: $225.55 Error: $61.37 Item: hansgrohe Talis S Modern Premium Easy Cl...\u001b[0m\n",
      "\u001b[91m95: Guess: $235.20 Truth: $495.95 Error: $260.75 Item: G-Technology G-SPEED eS PRO High-Perform...\u001b[0m\n",
      "\u001b[92m96: Guess: $908.97 Truth: $942.37 Error: $33.40 Item: DreamLine SHDR-1960723L-01 Shower Door, ...\u001b[0m\n",
      "\u001b[93m97: Guess: $63.53 Truth: $1.94 Error: $61.59 Item: Sanctuary Square Backplate Finish: Oiled...\u001b[0m\n",
      "\u001b[92m98: Guess: $330.37 Truth: $284.34 Error: $46.03 Item: Pelican Protector 1750 Long Case - Multi...\u001b[0m\n",
      "\u001b[92m99: Guess: $189.06 Truth: $171.90 Error: $17.16 Item: Brock Replacement Driver and Passenger H...\u001b[0m\n",
      "\u001b[91m100: Guess: $230.27 Truth: $144.99 Error: $85.28 Item: Carlinkit Ai Box Mini, Android 11, Multi...\u001b[0m\n",
      "\u001b[92m101: Guess: $481.70 Truth: $470.47 Error: $11.23 Item: StarDot NetCamLIVE2 YouTube Live Stream ...\u001b[0m\n",
      "\u001b[92m102: Guess: $83.51 Truth: $66.95 Error: $16.56 Item: Atomic Compatible FILXXCAR0016 16x25x5 M...\u001b[0m\n",
      "\u001b[92m103: Guess: $87.54 Truth: $117.00 Error: $29.46 Item: Bandai Awakening of S. H. s.h.figuarts s...\u001b[0m\n",
      "\u001b[91m104: Guess: $272.29 Truth: $172.14 Error: $100.15 Item: Fit System 62135G Passenger Side Towing ...\u001b[0m\n",
      "\u001b[92m105: Guess: $369.60 Truth: $392.74 Error: $23.14 Item: Black Horse Black Aluminum Exceed Runnin...\u001b[0m\n",
      "\u001b[92m106: Guess: $23.06 Truth: $16.99 Error: $6.07 Item: Dearsun Twinkle Star Color Night Light P...\u001b[0m\n",
      "\u001b[92m107: Guess: $1.33 Truth: $1.34 Error: $0.01 Item: Pokemon - Gallade Spirit Link (83/108) -...\u001b[0m\n",
      "\u001b[93m108: Guess: $255.73 Truth: $349.98 Error: $94.25 Item: Ibanez GA34STCE-NT GIO Series Classical ...\u001b[0m\n",
      "\u001b[93m109: Guess: $262.16 Truth: $370.71 Error: $108.55 Item: Set 2 Heavy Duty 12-16.5 12x16.5 12 Ply ...\u001b[0m\n",
      "\u001b[92m110: Guess: $90.06 Truth: $65.88 Error: $24.18 Item: Hairpin Table Legs 28\" Heavy Duty Hairpi...\u001b[0m\n",
      "\u001b[93m111: Guess: $291.22 Truth: $229.99 Error: $61.23 Item: Marada Racing Seat with Adjustable Slide...\u001b[0m\n",
      "\u001b[91m112: Guess: $93.29 Truth: $9.14 Error: $84.15 Item: Remington Industries 24UL1007STRWHI25 24...\u001b[0m\n",
      "\u001b[91m113: Guess: $646.93 Truth: $199.00 Error: $447.93 Item: Acer S3-391-6046 13.3-inch Ultrabook, In...\u001b[0m\n",
      "\u001b[91m114: Guess: $192.02 Truth: $109.99 Error: $82.03 Item: ICBEAMER 7\" RGB LED Headlights Bulb Halo...\u001b[0m\n",
      "\u001b[93m115: Guess: $381.36 Truth: $570.42 Error: $189.06 Item: R1 Concepts Front Rear Brakes and Rotors...\u001b[0m\n",
      "\u001b[92m116: Guess: $229.08 Truth: $279.99 Error: $50.91 Item: Camplux 2.64 GPM Tankless , Outdoor Port...\u001b[0m\n",
      "\u001b[92m117: Guess: $34.17 Truth: $30.99 Error: $3.18 Item: KNOKLOCK 10 Pack 3.75 Inch(96mm) Kitchen...\u001b[0m\n",
      "\u001b[92m118: Guess: $36.94 Truth: $31.99 Error: $4.95 Item: Valley Enterprises Yaesu USB FTDI CT-62 ...\u001b[0m\n",
      "\u001b[92m119: Guess: $27.97 Truth: $15.90 Error: $12.07 Item: G9 LED Light Bulbs，8W，75W 100W replaceme...\u001b[0m\n",
      "\u001b[93m120: Guess: $102.39 Truth: $45.99 Error: $56.40 Item: ZCHAOZ 4 Lights Antique White Farmhouse ...\u001b[0m\n",
      "\u001b[92m121: Guess: $122.78 Truth: $113.52 Error: $9.26 Item: Honeywell TH8320R1003 Honeywell VisionPr...\u001b[0m\n",
      "\u001b[92m122: Guess: $416.76 Truth: $516.99 Error: $100.23 Item: Patriot Exhaust H8013-1 1-7/8\" Clippster...\u001b[0m\n",
      "\u001b[93m123: Guess: $156.13 Truth: $196.99 Error: $40.86 Item: Fitrite Autopart New Front Left Driver S...\u001b[0m\n",
      "\u001b[92m124: Guess: $64.38 Truth: $46.55 Error: $17.83 Item: Technical Precision Replacement for GE G...\u001b[0m\n",
      "\u001b[92m125: Guess: $294.78 Truth: $356.99 Error: $62.21 Item: Covercraft Carhartt SeatSaver Front Row ...\u001b[0m\n",
      "\u001b[93m126: Guess: $228.13 Truth: $319.95 Error: $91.82 Item: Sennheiser SD Pro 2 (506008) - Double-Si...\u001b[0m\n",
      "\u001b[93m127: Guess: $153.80 Truth: $96.06 Error: $57.74 Item: Hitachi MAF0110 Mass Air Flow Sensor\u001b[0m\n",
      "\u001b[93m128: Guess: $233.44 Truth: $190.99 Error: $42.45 Item: AmScope SE305R-P-LED-PS36A 10X-30X LED C...\u001b[0m\n",
      "\u001b[91m129: Guess: $152.47 Truth: $257.95 Error: $105.48 Item: Front Left Driver Side Window Regulator ...\u001b[0m\n",
      "\u001b[91m130: Guess: $149.43 Truth: $62.95 Error: $86.48 Item: Premium Replica Hubcap Set, Fits Nissan ...\u001b[0m\n",
      "\u001b[92m131: Guess: $38.97 Truth: $47.66 Error: $8.69 Item: Excellerations Phonics Spelling Game for...\u001b[0m\n",
      "\u001b[92m132: Guess: $184.84 Truth: $226.99 Error: $42.15 Item: RC4WD BigDog Dual Axle Scale Car/Truck T...\u001b[0m\n",
      "\u001b[93m133: Guess: $474.84 Truth: $359.95 Error: $114.89 Item: Unknown Stage 2 Clutch Kit - Low Altitud...\u001b[0m\n",
      "\u001b[93m134: Guess: $136.15 Truth: $78.40 Error: $57.75 Item: 2002-2008 Dodge Ram 1500 Mopar 4X4 Emble...\u001b[0m\n",
      "\u001b[92m135: Guess: $201.88 Truth: $172.77 Error: $29.11 Item: Pro Comp Alloys Series 89 Wheel with Pol...\u001b[0m\n",
      "\u001b[92m136: Guess: $300.68 Truth: $316.45 Error: $15.77 Item: Detroit Axle - Front Rear Strut & Coil S...\u001b[0m\n",
      "\u001b[93m137: Guess: $167.58 Truth: $87.99 Error: $79.59 Item: ECCPP Rear Wheel Axle Replacement fit fo...\u001b[0m\n",
      "\u001b[92m138: Guess: $198.03 Truth: $226.63 Error: $28.60 Item: Dell Latitude E6520 Intel i7-2720QM 2.20...\u001b[0m\n",
      "\u001b[92m139: Guess: $33.44 Truth: $31.49 Error: $1.95 Item: F FIERCE CYCLE 251pcs Black Universal Mo...\u001b[0m\n",
      "\u001b[93m140: Guess: $269.88 Truth: $196.00 Error: $73.88 Item: Flash Furniture 4 Pk. HERCULES Series 88...\u001b[0m\n",
      "\u001b[91m141: Guess: $163.14 Truth: $78.40 Error: $84.74 Item: B&M 30287 Throttle Valve/Kickdown Cable,...\u001b[0m\n",
      "\u001b[93m142: Guess: $171.01 Truth: $116.25 Error: $54.76 Item: Gates TCK226 PowerGrip Premium Timing Be...\u001b[0m\n",
      "\u001b[92m143: Guess: $131.88 Truth: $112.78 Error: $19.10 Item: Monroe Shocks & Struts Quick-Strut 17149...\u001b[0m\n",
      "\u001b[92m144: Guess: $41.84 Truth: $27.32 Error: $14.52 Item: Feit Electric BPMR16/GU10/930CA/6 35W EQ...\u001b[0m\n",
      "\u001b[93m145: Guess: $92.21 Truth: $145.91 Error: $53.70 Item: Yellow Jacket 2806 Contractor Extension ...\u001b[0m\n",
      "\u001b[93m146: Guess: $213.14 Truth: $171.09 Error: $42.05 Item: Garage-Pro Tailgate SET Compatible with ...\u001b[0m\n",
      "\u001b[93m147: Guess: $125.45 Truth: $167.95 Error: $42.50 Item: 3M Perfect It Buffing and Polishing Kit ...\u001b[0m\n",
      "\u001b[92m148: Guess: $39.72 Truth: $28.49 Error: $11.23 Item: Chinese Style Dollhouse Model DIY Miniat...\u001b[0m\n",
      "\u001b[92m149: Guess: $110.69 Truth: $122.23 Error: $11.54 Item: Generic NRG Innovations SRK-161H Steerin...\u001b[0m\n",
      "\u001b[92m150: Guess: $33.83 Truth: $32.99 Error: $0.84 Item: Learning Resources Coding Critters Range...\u001b[0m\n",
      "\u001b[93m151: Guess: $143.46 Truth: $71.20 Error: $72.26 Item: Bosch Automotive 15463 Oxygen Sensor, OE...\u001b[0m\n",
      "\u001b[92m152: Guess: $91.42 Truth: $112.75 Error: $21.33 Item: Case of 24-2 Inch Blue Painters Tape - 6...\u001b[0m\n",
      "\u001b[92m153: Guess: $125.57 Truth: $142.43 Error: $16.86 Item: MOCA Engine Water Pump & Fan Clutch fit ...\u001b[0m\n",
      "\u001b[93m154: Guess: $249.76 Truth: $398.99 Error: $149.23 Item: SAREMAS Foot Step Bars for Hyundai Palis...\u001b[0m\n",
      "\u001b[92m155: Guess: $524.71 Truth: $449.00 Error: $75.71 Item: Gretsch G9210 Square Neck Boxcar Mahogan...\u001b[0m\n",
      "\u001b[93m156: Guess: $148.65 Truth: $189.00 Error: $40.35 Item: NikoMaku Mirror Dash Cam Front and Rear ...\u001b[0m\n",
      "\u001b[92m157: Guess: $131.99 Truth: $120.91 Error: $11.08 Item: Fenix HP25R v2.0 USB-C Rechargeable Head...\u001b[0m\n",
      "\u001b[92m158: Guess: $194.58 Truth: $203.53 Error: $8.95 Item: R&L Racing Heavy Duty Roll-Up Soft Tonne...\u001b[0m\n",
      "\u001b[92m159: Guess: $310.72 Truth: $349.99 Error: $39.27 Item: Garmin 010-02258-10 GPSMAP 64sx, Handhel...\u001b[0m\n",
      "\u001b[92m160: Guess: $6.39 Truth: $34.35 Error: $27.96 Item: Brown 5-7/8\" X 8-1/2\" X 3/16\" Thick Heav...\u001b[0m\n",
      "\u001b[92m161: Guess: $372.97 Truth: $384.99 Error: $12.02 Item: GAOMON PD2200 Pen Display & 20 Pen Nibs ...\u001b[0m\n",
      "\u001b[92m162: Guess: $215.49 Truth: $211.00 Error: $4.49 Item: VXMOTOR for 97-03 Ford F150/F250 Lightdu...\u001b[0m\n",
      "\u001b[93m163: Guess: $170.72 Truth: $129.00 Error: $41.72 Item: HP EliteBook 2540p Intel Core i7-640LM X...\u001b[0m\n",
      "\u001b[93m164: Guess: $65.28 Truth: $111.45 Error: $46.17 Item: Green EPX Mixing Nozzles 100-Pack-fits 3...\u001b[0m\n",
      "\u001b[92m165: Guess: $83.91 Truth: $81.12 Error: $2.79 Item: Box Partners 6 1/4 x 3 1/8\" 13 Pt. Manil...\u001b[0m\n",
      "\u001b[91m166: Guess: $274.24 Truth: $457.08 Error: $182.84 Item: Vixen Air 1/2\" NPT Air Ride Suspension H...\u001b[0m\n",
      "\u001b[92m167: Guess: $61.23 Truth: $49.49 Error: $11.74 Item: Smart Floor Lamp, 2700-6500K+RGBPink Mul...\u001b[0m\n",
      "\u001b[91m168: Guess: $168.35 Truth: $80.56 Error: $87.79 Item: SOZG 324mm Wheelbase Body Shell RC Car B...\u001b[0m\n",
      "\u001b[93m169: Guess: $354.67 Truth: $278.39 Error: $76.28 Item: Mickey Thompson ET Street S/S Racing Rad...\u001b[0m\n",
      "\u001b[92m170: Guess: $299.19 Truth: $364.50 Error: $65.31 Item: Pirelli 275/40R20 106W XL RFT P0 PZ4-LUX...\u001b[0m\n",
      "\u001b[92m171: Guess: $421.63 Truth: $378.99 Error: $42.64 Item: Torklift C3212 Rear Tie Down\u001b[0m\n",
      "\u001b[93m172: Guess: $222.37 Truth: $165.28 Error: $57.09 Item: Cardone 78-4226 Remanufactured Ford Comp...\u001b[0m\n",
      "\u001b[92m173: Guess: $67.80 Truth: $56.74 Error: $11.06 Item: Kidde AccessPoint 001798 Supra TouchPoin...\u001b[0m\n",
      "\u001b[92m174: Guess: $343.14 Truth: $307.95 Error: $35.19 Item: 3M Protecta 3100414 Self Retracting Life...\u001b[0m\n",
      "\u001b[93m175: Guess: $103.15 Truth: $38.00 Error: $65.15 Item: Plantronics 89435-01 Wired Headset, Blac...\u001b[0m\n",
      "\u001b[92m176: Guess: $60.77 Truth: $53.00 Error: $7.77 Item: Logitech K750 Wireless Solar Keyboard fo...\u001b[0m\n",
      "\u001b[93m177: Guess: $305.94 Truth: $498.00 Error: $192.06 Item: Olympus PEN E-PL9 Body Only with 3-Inch ...\u001b[0m\n",
      "\u001b[93m178: Guess: $131.41 Truth: $53.99 Error: $77.42 Item: Beck/Arnley 051-6066 Hub & Bearing Assem...\u001b[0m\n",
      "\u001b[92m179: Guess: $296.21 Truth: $350.00 Error: $53.79 Item: Eibach Pro-Kit Performance Springs E10-6...\u001b[0m\n",
      "\u001b[91m180: Guess: $137.94 Truth: $299.95 Error: $162.01 Item: LEGO DC Batman 1989 Batwing 76161 Displa...\u001b[0m\n",
      "\u001b[92m181: Guess: $94.60 Truth: $94.93 Error: $0.33 Item: Kingston Brass KS3608PL Restoration 4-In...\u001b[0m\n",
      "\u001b[93m182: Guess: $253.73 Truth: $379.00 Error: $125.27 Item: Polk Vanishing Series 265-LS In-Wall 3-W...\u001b[0m\n",
      "\u001b[92m183: Guess: $259.11 Truth: $299.95 Error: $40.84 Item: Spec-D Tuning LED Projector Headlights G...\u001b[0m\n",
      "\u001b[92m184: Guess: $8.45 Truth: $24.99 Error: $16.54 Item: RICHMOND & FINCH Airpod Pro Case, Green ...\u001b[0m\n",
      "\u001b[92m185: Guess: $65.68 Truth: $41.04 Error: $24.64 Item: LFA Industries 43B-5A-33JT 1/16-1/2-1.5-...\u001b[0m\n",
      "\u001b[93m186: Guess: $222.18 Truth: $327.90 Error: $105.72 Item: SAUTVS LED Headlight Assembly for Slings...\u001b[0m\n",
      "\u001b[92m187: Guess: $26.21 Truth: $10.99 Error: $15.22 Item: 2 Pack Combo Womens Safety Glasses Impac...\u001b[0m\n",
      "\u001b[92m188: Guess: $13.51 Truth: $14.99 Error: $1.48 Item: Arepa - Venezuelan cuisine - Venezuela P...\u001b[0m\n",
      "\u001b[92m189: Guess: $99.26 Truth: $84.95 Error: $14.31 Item: Schlage Lock Company KS23D2300 Padlock, ...\u001b[0m\n",
      "\u001b[93m190: Guess: $156.53 Truth: $111.00 Error: $45.53 Item: Techni Mobili White Sit to Stand Mobile ...\u001b[0m\n",
      "\u001b[92m191: Guess: $153.27 Truth: $123.73 Error: $29.54 Item: Special Lite Products Contemporary Wall ...\u001b[0m\n",
      "\u001b[91m192: Guess: $154.04 Truth: $557.38 Error: $403.34 Item: Tascam DP-24SD 24-Track Digital Portastu...\u001b[0m\n",
      "\u001b[93m193: Guess: $167.64 Truth: $95.55 Error: $72.09 Item: Glow Lighting 636CC10SP Vista Crystal Fl...\u001b[0m\n",
      "\u001b[92m194: Guess: $168.19 Truth: $154.00 Error: $14.19 Item: Z3 Wind Deflector, Smoke Tint, Lexan, Wi...\u001b[0m\n",
      "\u001b[92m195: Guess: $178.11 Truth: $198.99 Error: $20.88 Item: Olympus E-20 5MP Digital Camera w/ 4x Op...\u001b[0m\n",
      "\u001b[91m196: Guess: $45.89 Truth: $430.44 Error: $384.55 Item: PHYNEDI 1:1000 World Trade Center (1973-...\u001b[0m\n",
      "\u001b[92m197: Guess: $24.15 Truth: $45.67 Error: $21.52 Item: YANGHUAN Unstable Unicorns Adventure Car...\u001b[0m\n",
      "\u001b[92m198: Guess: $294.65 Truth: $249.00 Error: $45.65 Item: Interlogix NX-1820E NetworX Touch Screen...\u001b[0m\n",
      "\u001b[91m199: Guess: $125.10 Truth: $42.99 Error: $82.11 Item: Steering Damper,Universal Motorcycle Han...\u001b[0m\n",
      "\u001b[92m200: Guess: $148.02 Truth: $181.33 Error: $33.31 Item: Amprobe TIC 410A Hot Stick Attachment\u001b[0m\n",
      "\u001b[92m201: Guess: $4.70 Truth: $6.03 Error: $1.33 Item: MyCableMart 3.5mm Plug/Jack, 4 Conductor...\u001b[0m\n",
      "\u001b[92m202: Guess: $55.70 Truth: $29.99 Error: $25.71 Item: OtterBox + Pop Symmetry Series Case for ...\u001b[0m\n",
      "\u001b[91m203: Guess: $517.07 Truth: $899.00 Error: $381.93 Item: Dell XPS X8700-1572BLK Desktop ( Intel C...\u001b[0m\n",
      "\u001b[92m204: Guess: $351.65 Truth: $399.99 Error: $48.34 Item: Franklin Iron Works Sperry Industrial Br...\u001b[0m\n",
      "\u001b[92m205: Guess: $4.51 Truth: $4.66 Error: $0.15 Item: Avery Legal Dividers, Standard Collated ...\u001b[0m\n",
      "\u001b[92m206: Guess: $253.35 Truth: $261.41 Error: $8.06 Item: Moen 8346 Commercial Posi-Temp Pressure ...\u001b[0m\n",
      "\u001b[93m207: Guess: $200.31 Truth: $136.97 Error: $63.34 Item: Carlisle Versa Trail ATR All Terrain Rad...\u001b[0m\n",
      "\u001b[92m208: Guess: $115.52 Truth: $79.00 Error: $36.52 Item: SUNWAYFOTO 44mm Tripod Ball Head Arca Co...\u001b[0m\n",
      "\u001b[91m209: Guess: $239.81 Truth: $444.99 Error: $205.18 Item: NanoBeam AC NBE-5AC-Gen2-US 4 Units 5GHz...\u001b[0m\n",
      "\u001b[93m210: Guess: $305.15 Truth: $411.94 Error: $106.79 Item: WULF 4\" Front 2\" Rear Leveling Lift Kit ...\u001b[0m\n",
      "\u001b[93m211: Guess: $91.02 Truth: $148.40 Error: $57.38 Item: Alera ALEVABFMC Valencia Series Mobile B...\u001b[0m\n",
      "\u001b[93m212: Guess: $166.70 Truth: $244.99 Error: $78.29 Item: YU-GI-OH! Ignition Assault Booster Box\u001b[0m\n",
      "\u001b[92m213: Guess: $102.92 Truth: $86.50 Error: $16.42 Item: 48\" x 36\" Extra-Large Framed Magnetic Bl...\u001b[0m\n",
      "\u001b[91m214: Guess: $145.86 Truth: $297.95 Error: $152.09 Item: Dell Latitude D620 Renewed Notebook PC\u001b[0m\n",
      "\u001b[93m215: Guess: $538.32 Truth: $399.99 Error: $138.33 Item: acer Aspire 5 Laptop, AMD Ryzen 3 5300U ...\u001b[0m\n",
      "\u001b[91m216: Guess: $313.09 Truth: $599.00 Error: $285.91 Item: Elk 31080/6RC-GRN 30 by 6-Inch Viva 6-Li...\u001b[0m\n",
      "\u001b[92m217: Guess: $98.47 Truth: $105.99 Error: $7.52 Item: Barbie Top Model Doll\u001b[0m\n",
      "\u001b[92m218: Guess: $589.49 Truth: $689.00 Error: $99.51 Item: Danby Designer 20-In. Electric Range wit...\u001b[0m\n",
      "\u001b[92m219: Guess: $416.37 Truth: $404.99 Error: $11.38 Item: FixtureDisplays® Metal Truss Podium Doub...\u001b[0m\n",
      "\u001b[92m220: Guess: $235.15 Truth: $207.76 Error: $27.39 Item: ACDelco 13597235 GM Original Equipment A...\u001b[0m\n",
      "\u001b[92m221: Guess: $171.83 Truth: $171.82 Error: $0.01 Item: EBC S1KF1135 Stage-1 Premium Street Brak...\u001b[0m\n",
      "\u001b[92m222: Guess: $298.78 Truth: $293.24 Error: $5.54 Item: FXR Men's Boost FX Jacket (Black/Orange/...\u001b[0m\n",
      "\u001b[92m223: Guess: $389.68 Truth: $374.95 Error: $14.73 Item: SuperATV Scratch Resistant 3-in-1 Flip W...\u001b[0m\n",
      "\u001b[92m224: Guess: $104.82 Truth: $111.99 Error: $7.17 Item: SBU 3 Layer All Weather Mini Van Car Cov...\u001b[0m\n",
      "\u001b[93m225: Guess: $93.44 Truth: $42.99 Error: $50.45 Item: 2 Pack Outdoor Brochure Holder Advertisi...\u001b[0m\n",
      "\u001b[92m226: Guess: $124.56 Truth: $116.71 Error: $7.85 Item: Monroe Shocks & Struts Quick-Strut 17158...\u001b[0m\n",
      "\u001b[93m227: Guess: $180.14 Truth: $118.61 Error: $61.53 Item: Elements of Design Magellan EB235AL Thre...\u001b[0m\n",
      "\u001b[92m228: Guess: $132.98 Truth: $147.12 Error: $14.14 Item: GM Genuine Parts 15-62961 Air Conditioni...\u001b[0m\n",
      "\u001b[91m229: Guess: $305.98 Truth: $119.99 Error: $185.99 Item: Baseus 17-in-1 USB C Docking Station to ...\u001b[0m\n",
      "\u001b[92m230: Guess: $370.81 Truth: $369.98 Error: $0.83 Item: Whitehall™ Personalized Whitehall Capito...\u001b[0m\n",
      "\u001b[93m231: Guess: $397.43 Truth: $315.55 Error: $81.88 Item: Pro Circuit Works Pipe PY05250 for 02-19...\u001b[0m\n",
      "\u001b[91m232: Guess: $479.03 Truth: $190.99 Error: $288.04 Item: HYANKA 15 \"1200W Professional DJ Speaker...\u001b[0m\n",
      "\u001b[92m233: Guess: $128.83 Truth: $155.00 Error: $26.17 Item: Bluetooth X6BT Card Reader Writer Encode...\u001b[0m\n",
      "\u001b[92m234: Guess: $357.36 Truth: $349.99 Error: $7.37 Item: AIRAID Cold Air Intake System by K&N: In...\u001b[0m\n",
      "\u001b[93m235: Guess: $333.21 Truth: $249.99 Error: $83.22 Item: Bostingner Shower Faucets Sets Complete,...\u001b[0m\n",
      "\u001b[92m236: Guess: $54.00 Truth: $42.99 Error: $11.01 Item: PIT66 Front Bumper Turn Signal Lights, C...\u001b[0m\n",
      "\u001b[92m237: Guess: $11.17 Truth: $17.99 Error: $6.82 Item: Caseology Bumpy Compatible with Google P...\u001b[0m\n",
      "\u001b[91m238: Guess: $102.98 Truth: $425.00 Error: $322.02 Item: Fleck 2510 Timer Mechanical Filter Contr...\u001b[0m\n",
      "\u001b[92m239: Guess: $211.80 Truth: $249.99 Error: $38.19 Item: Haloview MC7108 Wireless RV Backup Camer...\u001b[0m\n",
      "\u001b[91m240: Guess: $48.84 Truth: $138.23 Error: $89.39 Item: Schmidt Spiele - Manhattan\u001b[0m\n",
      "\u001b[91m241: Guess: $210.51 Truth: $414.99 Error: $204.48 Item: Corsa 14333 Tip Kit (Ford Mustang GT)\u001b[0m\n",
      "\u001b[92m242: Guess: $183.49 Truth: $168.28 Error: $15.21 Item: Hoshizaki FM116A Fan Motor Kit 1\u001b[0m\n",
      "\u001b[93m243: Guess: $276.00 Truth: $199.99 Error: $76.01 Item: BAINUO Antler Chandelier Lighting,6 Ligh...\u001b[0m\n",
      "\u001b[92m244: Guess: $166.46 Truth: $126.70 Error: $39.76 Item: DNA MOTORING HL-OH-FEXP06-SM-AM Smoke Le...\u001b[0m\n",
      "\u001b[92m245: Guess: $13.67 Truth: $5.91 Error: $7.76 Item: Wera Stainless 3840/1 TS 2.5mm Hex Inser...\u001b[0m\n",
      "\u001b[93m246: Guess: $147.93 Truth: $193.06 Error: $45.13 Item: Celestron - PowerSeeker 127EQ Telescope ...\u001b[0m\n",
      "\u001b[93m247: Guess: $197.69 Truth: $249.99 Error: $52.30 Item: NHOPEEW 10.1inch Android Car Radio Carpl...\u001b[0m\n",
      "\u001b[92m248: Guess: $102.64 Truth: $64.12 Error: $38.52 Item: Other Harmonica (Suzuki-2Timer24- A)\u001b[0m\n",
      "\u001b[92m249: Guess: $135.37 Truth: $114.99 Error: $20.38 Item: Harley Air Filter Venturi Intake Air Cle...\u001b[0m\n",
      "\u001b[91m250: Guess: $358.66 Truth: $926.00 Error: $567.34 Item: Elite Screens Edge Free Ambient Light Re...\u001b[0m\n"
     ]
    },
    {
     "data": {
      "image/png": "[encoded data removed]",
      "text/plain": [
       "<Figure size 1200x800 with 1 Axes>"
      ]
     },
     "metadata": {},
     "output_type": "display_data"
    }
   ],
   "source": [
    "Tester.test(new_neural_network, test)"
   ]
  },
  {
   "cell_type": "code",
   "execution_count": null,
   "id": "63561f9a-fc46-4e8b-ad7d-44ae85219484",
   "metadata": {},
   "outputs": [],
   "source": []
  }
 ],
 "metadata": {
  "kernelspec": {
   "display_name": "Python 3 (ipykernel)",
   "language": "python",
   "name": "python3"
  },
  "language_info": {
   "codemirror_mode": {
    "name": "ipython",
    "version": 3
   },
   "file_extension": ".py",
   "mimetype": "text/x-python",
   "name": "python",
   "nbconvert_exporter": "python",
   "pygments_lexer": "ipython3",
   "version": "3.11.13"
  }
 },
 "nbformat": 4,
 "nbformat_minor": 5
}
