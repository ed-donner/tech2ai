{
 "cells": [
  {
   "cell_type": "markdown",
   "id": "b49a602f-1d11-4369-9164-f5364296bcf0",
   "metadata": {},
   "source": [
    "# Segment 3 Extra Lab\n",
    "\n",
    "## Let's make a deeper neural network"
   ]
  },
  {
   "cell_type": "code",
   "execution_count": 18,
   "id": "24c8d95d-8596-481c-9d4b-61cc810c65bf",
   "metadata": {},
   "outputs": [],
   "source": [
    "# imports - now including pytorch\n",
    "\n",
    "import os\n",
    "import random\n",
    "from dotenv import load_dotenv\n",
    "from huggingface_hub import login\n",
    "from items import Item\n",
    "import matplotlib.pyplot as plt\n",
    "import numpy as np\n",
    "from tqdm import tqdm\n",
    "import pickle\n",
    "import json\n",
    "from testing import Tester\n",
    "import torch\n",
    "import torch.nn as nn\n",
    "import torch.optim as optim\n",
    "from torch.utils.data import DataLoader, TensorDataset\n",
    "from IPython.display import display, SVG\n",
    "from sklearn.model_selection import train_test_split\n",
    "import math\n",
    "import numpy as np\n",
    "from sentence_transformers import SentenceTransformer\n",
    "import chromadb\n",
    "from torch.optim.lr_scheduler import CosineAnnealingLR"
   ]
  },
  {
   "cell_type": "code",
   "execution_count": 2,
   "id": "2d8d8ba4-7e34-41ea-87f3-92865067b4c7",
   "metadata": {},
   "outputs": [],
   "source": [
    "# Load in dataset\n",
    "# Sidenote: this is actually a larger dataset than before (about twice as large)\n",
    "\n",
    "with open('../train.pkl', 'rb') as file:\n",
    "    train = pickle.load(file)\n",
    "\n",
    "with open('../test.pkl', 'rb') as file:\n",
    "    test = pickle.load(file)"
   ]
  },
  {
   "cell_type": "code",
   "execution_count": 3,
   "id": "e50e233e-2c41-4a9a-99e0-c81c07597e0a",
   "metadata": {},
   "outputs": [
    {
     "data": {
      "text/plain": [
       "400000"
      ]
     },
     "execution_count": 3,
     "metadata": {},
     "output_type": "execute_result"
    }
   ],
   "source": [
    "len(train)"
   ]
  },
  {
   "cell_type": "code",
   "execution_count": 4,
   "id": "12dec838-1230-42dd-8626-4b4929013319",
   "metadata": {},
   "outputs": [],
   "source": [
    "# environment\n",
    "\n",
    "load_dotenv(override=True)\n",
    "os.environ['OPENAI_API_KEY'] = os.getenv('OPENAI_API_KEY', 'your-key-if-not-using-env')\n",
    "os.environ['HF_TOKEN'] = os.getenv('HF_TOKEN', 'your-key-if-not-using-env')\n",
    "DB = \"../segment4/products_vectorstore\""
   ]
  },
  {
   "cell_type": "code",
   "execution_count": 5,
   "id": "facd66f7-25ab-4454-b241-e0738becb941",
   "metadata": {},
   "outputs": [
    {
     "name": "stderr",
     "output_type": "stream",
     "text": [
      "Note: Environment variable`HF_TOKEN` is set and is the current active token independently from the token you've just configured.\n"
     ]
    }
   ],
   "source": [
    "# Log in to HuggingFace\n",
    "# If you don't have a HuggingFace account, you can set one up for free at www.huggingface.co\n",
    "# And then add the HF_TOKEN to your .env file as explained in the project README\n",
    "\n",
    "hf_token = os.environ['HF_TOKEN']\n",
    "login(token=hf_token, add_to_git_credential=False)"
   ]
  },
  {
   "cell_type": "code",
   "execution_count": 6,
   "id": "067ebe98-73c1-4eae-9b65-275e466071d9",
   "metadata": {},
   "outputs": [],
   "source": [
    "client = chromadb.PersistentClient(path=DB)\n",
    "model = SentenceTransformer('sentence-transformers/all-MiniLM-L6-v2')"
   ]
  },
  {
   "cell_type": "code",
   "execution_count": 7,
   "id": "d8e8c8ab-5de1-45d2-8eee-7dca95f2959f",
   "metadata": {},
   "outputs": [],
   "source": [
    "collection_name = \"products\"\n",
    "collection = client.get_or_create_collection(collection_name)"
   ]
  },
  {
   "cell_type": "code",
   "execution_count": 20,
   "id": "04b6a97a-c812-4100-8076-feaf6005ff68",
   "metadata": {},
   "outputs": [],
   "source": [
    "result = collection.get(include=['embeddings', 'documents', 'metadatas'])\n",
    "vectors = np.array(result['embeddings'])\n",
    "documents = result['documents']\n",
    "prices = [metadata['price'] for metadata in result['metadatas']]"
   ]
  },
  {
   "cell_type": "code",
   "execution_count": 32,
   "id": "51e1a300-da16-4324-a435-2aa3f9678422",
   "metadata": {},
   "outputs": [],
   "source": [
    "np.random.seed(42)\n",
    "torch.manual_seed(42)\n",
    "torch.cuda.manual_seed(42)\n",
    "\n",
    "# Convert data to PyTorch tensors\n",
    "X_train_tensor = torch.FloatTensor(vectors)\n",
    "y_train_tensor = torch.FloatTensor(prices).unsqueeze(1)\n",
    "\n",
    "# Split the data into training and validation sets\n",
    "X_train, X_val, y_train, y_val = train_test_split(X_train_tensor, y_train_tensor, test_size=0.01, random_state=42)\n",
    "\n",
    "# Log\n",
    "y_train_log = torch.log(y_train + 1)\n",
    "y_val_log = torch.log(y_val + 1)\n",
    "    \n",
    "# Normalize log prices\n",
    "y_mean = y_train_log.mean()\n",
    "y_std = y_train_log.std()\n",
    "y_train_norm = (y_train_log - y_mean) / y_std\n",
    "y_val_norm = (y_val_log - y_mean) / y_std\n",
    "\n",
    "# Create the loader\n",
    "train_dataset = TensorDataset(X_train, y_train)\n",
    "train_loader = DataLoader(train_dataset, batch_size=64, shuffle=True)"
   ]
  },
  {
   "cell_type": "code",
   "execution_count": 33,
   "id": "824452be-3387-403e-8e4f-f8ab0fc99700",
   "metadata": {},
   "outputs": [],
   "source": [
    "class NewNeuralNetwork(nn.Module):\n",
    "    def __init__(self, input_size, num_layers=10, hidden_size=4096, dropout_prob=0.2):\n",
    "        super(NewNeuralNetwork, self).__init__()\n",
    "        \n",
    "        # First layer\n",
    "        self.input_layer = nn.Sequential(\n",
    "            nn.Linear(input_size, hidden_size),\n",
    "            nn.LayerNorm(hidden_size),\n",
    "            nn.ReLU(),\n",
    "            nn.Dropout(dropout_prob)\n",
    "        )\n",
    "        \n",
    "        # Residual blocks\n",
    "        self.residual_blocks = nn.ModuleList()\n",
    "        for i in range(num_layers - 2):\n",
    "            self.residual_blocks.append(\n",
    "                ResidualBlock(hidden_size, dropout_prob)\n",
    "            )\n",
    "        \n",
    "        # Output layer\n",
    "        self.output_layer = nn.Linear(hidden_size, 1)\n",
    "        \n",
    "    def forward(self, x):\n",
    "        x = self.input_layer(x)\n",
    "        \n",
    "        for block in self.residual_blocks:\n",
    "            x = block(x)\n",
    "            \n",
    "        return self.output_layer(x)"
   ]
  },
  {
   "cell_type": "code",
   "execution_count": 34,
   "id": "9a49dec4-7115-4fb6-9f14-4748d38f9ff0",
   "metadata": {},
   "outputs": [],
   "source": [
    "class ResidualBlock(nn.Module):\n",
    "    def __init__(self, hidden_size, dropout_prob):\n",
    "        super(ResidualBlock, self).__init__()\n",
    "        self.block = nn.Sequential(\n",
    "            nn.Linear(hidden_size, hidden_size),\n",
    "            nn.LayerNorm(hidden_size),\n",
    "            nn.ReLU(),\n",
    "            nn.Dropout(dropout_prob),\n",
    "            nn.Linear(hidden_size, hidden_size),\n",
    "            nn.LayerNorm(hidden_size)\n",
    "        )\n",
    "        self.relu = nn.ReLU()\n",
    "        \n",
    "    def forward(self, x):\n",
    "        residual = x\n",
    "        out = self.block(x)\n",
    "        out += residual  # Skip connection\n",
    "        return self.relu(out)"
   ]
  },
  {
   "cell_type": "code",
   "execution_count": 35,
   "id": "bd1a2977-5764-4a40-a65b-c746ce31b006",
   "metadata": {},
   "outputs": [
    {
     "name": "stdout",
     "output_type": "stream",
     "text": [
      "Total parameters: 270221313\n"
     ]
    }
   ],
   "source": [
    "model = NewNeuralNetwork(X_train.shape[1])\n",
    "total_params = sum(p.numel() for p in model.parameters())\n",
    "print(\"Total parameters:\", total_params)\n",
    "\n",
    "device = torch.device(\"mps\" if torch.backends.mps.is_available() else \"cpu\")\n",
    "model.to(device)\n",
    "loss_function = nn.L1Loss()\n",
    "optimizer = optim.AdamW(model.parameters(), lr=0.001, weight_decay=0.01)\n",
    "scheduler = CosineAnnealingLR(optimizer, T_max=10, eta_min=0)\n",
    "\n",
    "train_dataset = torch.utils.data.TensorDataset(X_train, y_train_norm)\n",
    "train_loader = torch.utils.data.DataLoader(train_dataset, batch_size=64, shuffle=True)"
   ]
  },
  {
   "cell_type": "code",
   "execution_count": 36,
   "id": "bcfec868-fb13-4fd7-9201-b62b10b94885",
   "metadata": {},
   "outputs": [
    {
     "name": "stderr",
     "output_type": "stream",
     "text": [
      "100%|███████████████████████████████████████| 6188/6188 [10:48<00:00,  9.55it/s]\n"
     ]
    },
    {
     "name": "stdout",
     "output_type": "stream",
     "text": [
      "Epoch [2/20]\n",
      "Train Loss: 0.6437, Val Loss: 0.4982\n",
      "Val MAE (original scale): $96.81\n",
      "Learning rate: 0.001000\n"
     ]
    },
    {
     "name": "stderr",
     "output_type": "stream",
     "text": [
      "100%|███████████████████████████████████████| 6188/6188 [12:22<00:00,  8.34it/s]\n"
     ]
    },
    {
     "name": "stdout",
     "output_type": "stream",
     "text": [
      "Epoch [3/20]\n",
      "Train Loss: 0.4728, Val Loss: 0.4657\n",
      "Val MAE (original scale): $90.32\n",
      "Learning rate: 0.000976\n"
     ]
    },
    {
     "name": "stderr",
     "output_type": "stream",
     "text": [
      "100%|███████████████████████████████████████| 6188/6188 [12:51<00:00,  8.02it/s]\n"
     ]
    },
    {
     "name": "stdout",
     "output_type": "stream",
     "text": [
      "Epoch [4/20]\n",
      "Train Loss: 0.4396, Val Loss: 0.4448\n",
      "Val MAE (original scale): $86.40\n",
      "Learning rate: 0.000905\n"
     ]
    },
    {
     "name": "stderr",
     "output_type": "stream",
     "text": [
      "100%|███████████████████████████████████████| 6188/6188 [13:03<00:00,  7.90it/s]\n"
     ]
    },
    {
     "name": "stdout",
     "output_type": "stream",
     "text": [
      "Epoch [5/20]\n",
      "Train Loss: 0.4118, Val Loss: 0.4370\n",
      "Val MAE (original scale): $85.55\n",
      "Learning rate: 0.000794\n"
     ]
    },
    {
     "name": "stderr",
     "output_type": "stream",
     "text": [
      "100%|███████████████████████████████████████| 6188/6188 [13:04<00:00,  7.89it/s]\n"
     ]
    },
    {
     "name": "stdout",
     "output_type": "stream",
     "text": [
      "Epoch [6/20]\n",
      "Train Loss: 0.3865, Val Loss: 0.4238\n",
      "Val MAE (original scale): $81.84\n",
      "Learning rate: 0.000655\n"
     ]
    },
    {
     "name": "stderr",
     "output_type": "stream",
     "text": [
      "100%|███████████████████████████████████████| 6188/6188 [13:00<00:00,  7.93it/s]\n"
     ]
    },
    {
     "name": "stdout",
     "output_type": "stream",
     "text": [
      "Epoch [7/20]\n",
      "Train Loss: 0.3609, Val Loss: 0.4163\n",
      "Val MAE (original scale): $80.37\n",
      "Learning rate: 0.000500\n"
     ]
    },
    {
     "name": "stderr",
     "output_type": "stream",
     "text": [
      "100%|███████████████████████████████████████| 6188/6188 [13:06<00:00,  7.87it/s]\n"
     ]
    },
    {
     "name": "stdout",
     "output_type": "stream",
     "text": [
      "Epoch [8/20]\n",
      "Train Loss: 0.3352, Val Loss: 0.4105\n",
      "Val MAE (original scale): $79.22\n",
      "Learning rate: 0.000345\n"
     ]
    },
    {
     "name": "stderr",
     "output_type": "stream",
     "text": [
      "100%|███████████████████████████████████████| 6188/6188 [13:07<00:00,  7.85it/s]\n"
     ]
    },
    {
     "name": "stdout",
     "output_type": "stream",
     "text": [
      "Epoch [9/20]\n",
      "Train Loss: 0.3111, Val Loss: 0.4010\n",
      "Val MAE (original scale): $77.13\n",
      "Learning rate: 0.000206\n"
     ]
    },
    {
     "name": "stderr",
     "output_type": "stream",
     "text": [
      "100%|███████████████████████████████████████| 6188/6188 [13:11<00:00,  7.82it/s]\n"
     ]
    },
    {
     "name": "stdout",
     "output_type": "stream",
     "text": [
      "Epoch [10/20]\n",
      "Train Loss: 0.2913, Val Loss: 0.3985\n",
      "Val MAE (original scale): $76.56\n",
      "Learning rate: 0.000095\n"
     ]
    },
    {
     "name": "stderr",
     "output_type": "stream",
     "text": [
      "100%|███████████████████████████████████████| 6188/6188 [12:46<00:00,  8.07it/s]\n"
     ]
    },
    {
     "name": "stdout",
     "output_type": "stream",
     "text": [
      "Epoch [11/20]\n",
      "Train Loss: 0.2794, Val Loss: 0.3967\n",
      "Val MAE (original scale): $76.24\n",
      "Learning rate: 0.000024\n"
     ]
    },
    {
     "name": "stderr",
     "output_type": "stream",
     "text": [
      "100%|███████████████████████████████████████| 6188/6188 [10:54<00:00,  9.46it/s]\n"
     ]
    },
    {
     "name": "stdout",
     "output_type": "stream",
     "text": [
      "Epoch [12/20]\n",
      "Train Loss: 0.2753, Val Loss: 0.3967\n",
      "Val MAE (original scale): $76.24\n",
      "Learning rate: 0.000000\n"
     ]
    },
    {
     "name": "stderr",
     "output_type": "stream",
     "text": [
      "100%|███████████████████████████████████████| 6188/6188 [12:27<00:00,  8.28it/s]\n"
     ]
    },
    {
     "name": "stdout",
     "output_type": "stream",
     "text": [
      "Epoch [13/20]\n",
      "Train Loss: 0.2757, Val Loss: 0.3963\n",
      "Val MAE (original scale): $76.09\n",
      "Learning rate: 0.000024\n"
     ]
    },
    {
     "name": "stderr",
     "output_type": "stream",
     "text": [
      "100%|███████████████████████████████████████| 6188/6188 [12:32<00:00,  8.23it/s]\n"
     ]
    },
    {
     "name": "stdout",
     "output_type": "stream",
     "text": [
      "Epoch [14/20]\n",
      "Train Loss: 0.2779, Val Loss: 0.3956\n",
      "Val MAE (original scale): $76.35\n",
      "Learning rate: 0.000095\n"
     ]
    },
    {
     "name": "stderr",
     "output_type": "stream",
     "text": [
      "100%|███████████████████████████████████████| 6188/6188 [13:48<00:00,  7.47it/s]\n"
     ]
    },
    {
     "name": "stdout",
     "output_type": "stream",
     "text": [
      "Epoch [15/20]\n",
      "Train Loss: 0.2811, Val Loss: 0.3960\n",
      "Val MAE (original scale): $76.56\n",
      "Learning rate: 0.000206\n"
     ]
    },
    {
     "name": "stderr",
     "output_type": "stream",
     "text": [
      "100%|███████████████████████████████████████| 6188/6188 [13:43<00:00,  7.52it/s]\n"
     ]
    },
    {
     "name": "stdout",
     "output_type": "stream",
     "text": [
      "Epoch [16/20]\n",
      "Train Loss: 0.2871, Val Loss: 0.4045\n",
      "Val MAE (original scale): $77.44\n",
      "Learning rate: 0.000345\n"
     ]
    },
    {
     "name": "stderr",
     "output_type": "stream",
     "text": [
      "100%|███████████████████████████████████████| 6188/6188 [13:37<00:00,  7.57it/s]\n"
     ]
    },
    {
     "name": "stdout",
     "output_type": "stream",
     "text": [
      "Epoch [17/20]\n",
      "Train Loss: 0.2981, Val Loss: 0.4050\n",
      "Val MAE (original scale): $77.93\n",
      "Learning rate: 0.000500\n"
     ]
    },
    {
     "name": "stderr",
     "output_type": "stream",
     "text": [
      "100%|███████████████████████████████████████| 6188/6188 [12:47<00:00,  8.06it/s]\n"
     ]
    },
    {
     "name": "stdout",
     "output_type": "stream",
     "text": [
      "Epoch [18/20]\n",
      "Train Loss: 0.3114, Val Loss: 0.4067\n",
      "Val MAE (original scale): $78.69\n",
      "Learning rate: 0.000655\n"
     ]
    },
    {
     "name": "stderr",
     "output_type": "stream",
     "text": [
      "100%|███████████████████████████████████████| 6188/6188 [12:43<00:00,  8.11it/s]\n"
     ]
    },
    {
     "name": "stdout",
     "output_type": "stream",
     "text": [
      "Epoch [19/20]\n",
      "Train Loss: 0.3240, Val Loss: 0.4166\n",
      "Val MAE (original scale): $80.26\n",
      "Learning rate: 0.000794\n"
     ]
    },
    {
     "name": "stderr",
     "output_type": "stream",
     "text": [
      "100%|███████████████████████████████████████| 6188/6188 [12:49<00:00,  8.04it/s]\n"
     ]
    },
    {
     "name": "stdout",
     "output_type": "stream",
     "text": [
      "Epoch [20/20]\n",
      "Train Loss: 0.3320, Val Loss: 0.4266\n",
      "Val MAE (original scale): $83.08\n",
      "Learning rate: 0.000905\n"
     ]
    },
    {
     "name": "stderr",
     "output_type": "stream",
     "text": [
      "100%|███████████████████████████████████████| 6188/6188 [12:40<00:00,  8.13it/s]\n"
     ]
    },
    {
     "name": "stdout",
     "output_type": "stream",
     "text": [
      "Epoch [21/20]\n",
      "Train Loss: 0.3369, Val Loss: 0.4166\n",
      "Val MAE (original scale): $80.47\n",
      "Learning rate: 0.000976\n"
     ]
    }
   ],
   "source": [
    "EPOCH_START = 1\n",
    "EPOCH_END = 20\n",
    "\n",
    "for epoch in range(EPOCH_START, EPOCH_END+1):\n",
    "    model.train()\n",
    "    train_losses = []\n",
    "    \n",
    "    for batch_X, batch_y in tqdm(train_loader):\n",
    "        batch_X = batch_X.to(device)\n",
    "        batch_y = batch_y.to(device)\n",
    "        \n",
    "        optimizer.zero_grad()\n",
    "        outputs = model(batch_X)\n",
    "        loss = loss_function(outputs, batch_y)\n",
    "        loss.backward()\n",
    "        \n",
    "        # Gradient clipping\n",
    "        torch.nn.utils.clip_grad_norm_(model.parameters(), max_norm=1.0)\n",
    "        \n",
    "        optimizer.step()\n",
    "        train_losses.append(loss.item())\n",
    "    \n",
    "    # Validation\n",
    "    model.eval()\n",
    "    with torch.no_grad():\n",
    "        val_outputs = model(X_val.to(device))\n",
    "        val_loss = loss_function(val_outputs, y_val_norm.to(device))\n",
    "        \n",
    "        # Convert back to original scale for meaningful metrics\n",
    "        val_outputs_orig = torch.exp(val_outputs * y_std + y_mean) - 1\n",
    "        mae = torch.abs(val_outputs_orig - y_val.to(device)).mean()\n",
    "    \n",
    "    avg_train_loss = np.mean(train_losses)\n",
    "    print(f'Epoch [{epoch+1}/{EPOCH_END}]')\n",
    "    print(f'Train Loss: {avg_train_loss:.4f}, Val Loss: {val_loss.item():.4f}')\n",
    "    print(f'Val MAE (original scale): ${mae.item():.2f}')\n",
    "    print(f'Learning rate: {scheduler.get_last_lr()[0]:.6f}')\n",
    "\n",
    "    # torch.save(model.state_dict(), f'models/nnn-{epoch+1}.pth')\n",
    "    \n",
    "    # Learning rate scheduling\n",
    "    scheduler.step()"
   ]
  },
  {
   "cell_type": "code",
   "execution_count": 37,
   "id": "39515e66-4d4b-4123-8489-575b02e56c9b",
   "metadata": {},
   "outputs": [],
   "source": [
    "encoder = SentenceTransformer('sentence-transformers/all-MiniLM-L6-v2')\n",
    "\n",
    "def new_neural_network(item):\n",
    "    model.eval()\n",
    "    with torch.no_grad():\n",
    "        vector = encoder.encode(item.text)\n",
    "        vector = torch.FloatTensor(vector).to(device)\n",
    "        pred = model(vector)[0]\n",
    "        result = torch.exp(pred * y_std + y_mean) - 1\n",
    "        result = result.item()\n",
    "    return max(0, result)"
   ]
  },
  {
   "cell_type": "code",
   "execution_count": 38,
   "id": "37b9117e-540f-400a-af2d-c17c24029b54",
   "metadata": {},
   "outputs": [
    {
     "data": {
      "text/plain": [
       "202.36473083496094"
      ]
     },
     "execution_count": 38,
     "metadata": {},
     "output_type": "execute_result"
    }
   ],
   "source": [
    "new_neural_network(test[1])"
   ]
  },
  {
   "cell_type": "code",
   "execution_count": 39,
   "id": "3f899c0c-87a5-41cb-a2f3-6c4fe9498cd9",
   "metadata": {},
   "outputs": [
    {
     "name": "stdout",
     "output_type": "stream",
     "text": [
      "\u001b[92m1: Guess: $333.58 Truth: $374.41 Error: $40.83 Item: OEM AC Compressor w/A/C Repair Kit For F...\u001b[0m\n",
      "\u001b[92m2: Guess: $202.36 Truth: $225.11 Error: $22.75 Item: Motorcraft YB3125 Fan Clutch\u001b[0m\n",
      "\u001b[92m3: Guess: $99.39 Truth: $61.68 Error: $37.71 Item: Dorman 603-159 Front Washer Fluid Reserv...\u001b[0m\n",
      "\u001b[92m4: Guess: $488.46 Truth: $599.99 Error: $111.53 Item: HP Premium 17.3-inch HD Plus Touchscreen...\u001b[0m\n",
      "\u001b[92m5: Guess: $23.84 Truth: $16.99 Error: $6.85 Item: 5-Position Super Switch Pickup Selector ...\u001b[0m\n",
      "\u001b[92m6: Guess: $6.85 Truth: $31.99 Error: $25.14 Item: Horror Bookmarks, Resin Horror Bookmarks...\u001b[0m\n",
      "\u001b[92m7: Guess: $97.25 Truth: $101.79 Error: $4.54 Item: SK6241 - Stinger 4 Gauge 6000 Series Pow...\u001b[0m\n",
      "\u001b[92m8: Guess: $270.75 Truth: $289.00 Error: $18.25 Item: Godox ML60Bi LED Light Kit, Handheld LED...\u001b[0m\n",
      "\u001b[91m9: Guess: $287.39 Truth: $635.86 Error: $348.47 Item: Randall RG75DG3PLUS G3 Plus 100-Watt Com...\u001b[0m\n",
      "\u001b[92m10: Guess: $70.12 Truth: $65.99 Error: $4.13 Item: HOLDWILL 6 Pack LED Shop Light, 4FT 24W ...\u001b[0m\n",
      "\u001b[92m11: Guess: $213.00 Truth: $254.21 Error: $41.21 Item: Viking Horns V103C/1005ATK 3 Gallon Air ...\u001b[0m\n",
      "\u001b[93m12: Guess: $293.23 Truth: $412.99 Error: $119.76 Item: CURT 70110 Custom Tow Bar Base Plate Bra...\u001b[0m\n",
      "\u001b[93m13: Guess: $155.84 Truth: $205.50 Error: $49.66 Item: 10-Pack Solar HAMMERED BRONZE Finish Pos...\u001b[0m\n",
      "\u001b[93m14: Guess: $198.49 Truth: $248.23 Error: $49.74 Item: COSTWAY Electric Tumble Dryer, Sliver\u001b[0m\n",
      "\u001b[93m15: Guess: $270.84 Truth: $399.00 Error: $128.16 Item: FREE SIGNAL TV Transit 32\" 12 Volt DC Po...\u001b[0m\n",
      "\u001b[92m16: Guess: $355.95 Truth: $373.94 Error: $17.99 Item: Bilstein 5100 Monotube Gas Shock Set com...\u001b[0m\n",
      "\u001b[92m17: Guess: $106.76 Truth: $92.89 Error: $13.87 Item: Sangean K-200 Multi-Function Upright AM/...\u001b[0m\n",
      "\u001b[92m18: Guess: $61.09 Truth: $51.99 Error: $9.10 Item: Charles Leonard Magnetic Lapboard Class ...\u001b[0m\n",
      "\u001b[92m19: Guess: $204.25 Truth: $179.00 Error: $25.25 Item: Gigabyte AMD Radeon HD 7870 2 GB GDDR5 D...\u001b[0m\n",
      "\u001b[92m20: Guess: $16.15 Truth: $19.42 Error: $3.27 Item: 3dRose LLC 8 x 8 x 0.25 Inches Bull Terr...\u001b[0m\n",
      "\u001b[93m21: Guess: $348.14 Truth: $539.95 Error: $191.81 Item: ROKINON 85mm F1.4 Auto Focus Full Frame ...\u001b[0m\n",
      "\u001b[93m22: Guess: $199.52 Truth: $147.67 Error: $51.85 Item: AUTOSAVER88 Headlight Assembly Compatibl...\u001b[0m\n",
      "\u001b[92m23: Guess: $28.77 Truth: $24.99 Error: $3.78 Item: ASI NAUTICAL 2.5 Inches Opera Glasses Bi...\u001b[0m\n",
      "\u001b[91m24: Guess: $263.46 Truth: $149.00 Error: $114.46 Item: Behringer TUBE OVERDRIVE TO100 Authentic...\u001b[0m\n",
      "\u001b[92m25: Guess: $17.79 Truth: $16.99 Error: $0.80 Item: Fun Express Insect Finger Puppets - 24 f...\u001b[0m\n",
      "\u001b[93m26: Guess: $80.98 Truth: $7.99 Error: $72.99 Item: WAFJAMF Roller Stamp Identity Theft Stam...\u001b[0m\n",
      "\u001b[92m27: Guess: $172.08 Truth: $199.99 Error: $27.91 Item: Capulina Tiffany Floor Lamp 2-Light 16\" ...\u001b[0m\n",
      "\u001b[92m28: Guess: $300.43 Truth: $251.45 Error: $48.98 Item: Apple Watch Series 6 (GPS, 44mm) - Space...\u001b[0m\n",
      "\u001b[92m29: Guess: $266.76 Truth: $231.62 Error: $35.14 Item: ICON 01725 Tandem Axle Fender Skirt FS17...\u001b[0m\n",
      "\u001b[91m30: Guess: $41.26 Truth: $135.00 Error: $93.74 Item: SanDisk 128GB Ultra (10 Pack) MicroSD Cl...\u001b[0m\n",
      "\u001b[92m31: Guess: $314.74 Truth: $356.62 Error: $41.88 Item: Velvac 2020,L,C/Hr,W,E2003,102\",Bk - 715...\u001b[0m\n",
      "\u001b[93m32: Guess: $205.52 Truth: $257.99 Error: $52.47 Item: TCMT Passenger Backrest Sissy Bar & Lugg...\u001b[0m\n",
      "\u001b[92m33: Guess: $49.58 Truth: $27.99 Error: $21.59 Item: Alnicov 63.5MM Brass Tremolo Block，Tremo...\u001b[0m\n",
      "\u001b[92m34: Guess: $170.24 Truth: $171.20 Error: $0.96 Item: Subaru Forester Outback Legacy OEM Engin...\u001b[0m\n",
      "\u001b[92m35: Guess: $245.25 Truth: $225.00 Error: $20.25 Item: Richmond Auto Upholstery - 2012 Dodge Ra...\u001b[0m\n",
      "\u001b[93m36: Guess: $146.23 Truth: $105.00 Error: $41.23 Item: AP-39 Automotive Paint Primer Grey 2K Ur...\u001b[0m\n",
      "\u001b[93m37: Guess: $203.91 Truth: $299.99 Error: $96.08 Item: Road Top Wireless Carplay Retrofit Kit D...\u001b[0m\n",
      "\u001b[93m38: Guess: $657.50 Truth: $535.09 Error: $122.41 Item: Gibson Performance Exhaust 5658 Aluminiz...\u001b[0m\n",
      "\u001b[92m39: Guess: $36.49 Truth: $12.33 Error: $24.16 Item: Bella Tunno Happy Links - Baby Montessor...\u001b[0m\n",
      "\u001b[92m40: Guess: $112.97 Truth: $84.99 Error: $27.98 Item: CANMORE H300 Handheld GPS Golf Device, S...\u001b[0m\n",
      "\u001b[92m41: Guess: $33.07 Truth: $15.99 Error: $17.08 Item: DCPOWER AC Adapter Compatible Replacemen...\u001b[0m\n",
      "\u001b[92m42: Guess: $39.10 Truth: $62.44 Error: $23.34 Item: Sharp, VX2128V, Commercial Desktop Calcu...\u001b[0m\n",
      "\u001b[92m43: Guess: $62.73 Truth: $82.99 Error: $20.26 Item: Melissa & Doug Lifelike Plush Stork Gian...\u001b[0m\n",
      "\u001b[92m44: Guess: $481.67 Truth: $599.95 Error: $118.28 Item: Sony SSCS8 2-Way 3-Driver Center Channel...\u001b[0m\n",
      "\u001b[93m45: Guess: $247.30 Truth: $194.99 Error: $52.31 Item: ASUS Chromebook CX1, 14\" Full HD NanoEdg...\u001b[0m\n",
      "\u001b[93m46: Guess: $456.54 Truth: $344.95 Error: $111.59 Item: FiiO X7 32GB Hi-Res Lossless Music Playe...\u001b[0m\n",
      "\u001b[92m47: Guess: $29.84 Truth: $37.99 Error: $8.15 Item: TORRO Leather Case Compatible with iPhon...\u001b[0m\n",
      "\u001b[92m48: Guess: $221.40 Truth: $224.35 Error: $2.95 Item: Universal Air Conditioner KT 1031 A/C Co...\u001b[0m\n",
      "\u001b[92m49: Guess: $863.14 Truth: $814.00 Error: $49.14 Item: Street Series Stainless Performance Cat-...\u001b[0m\n",
      "\u001b[91m50: Guess: $624.66 Truth: $439.88 Error: $184.78 Item: Lenovo IdeaPad 3 14-inch Laptop, 14.0-in...\u001b[0m\n",
      "\u001b[93m51: Guess: $234.10 Truth: $341.43 Error: $107.33 Item: Access Bed Covers TonnoSport 22050219 - ...\u001b[0m\n",
      "\u001b[92m52: Guess: $71.86 Truth: $46.78 Error: $25.08 Item: G.I. JOE Hasbro 3 3/4\" Wave 5 Action Fig...\u001b[0m\n",
      "\u001b[92m53: Guess: $205.49 Truth: $171.44 Error: $34.05 Item: T&S Brass B-0232-BST Double Pantry Fauce...\u001b[0m\n",
      "\u001b[92m54: Guess: $374.94 Truth: $458.00 Error: $83.06 Item: ZTUOAUMA Fuel Injection Pump 3090942 309...\u001b[0m\n",
      "\u001b[92m55: Guess: $166.39 Truth: $130.75 Error: $35.64 Item: 2AP18AA#ABA Hp Prime Graphing Calculator...\u001b[0m\n",
      "\u001b[92m56: Guess: $76.66 Truth: $83.81 Error: $7.15 Item: Lowrance 000-0119-83 Nmea 2000 25' Exten...\u001b[0m\n",
      "\u001b[91m57: Guess: $124.29 Truth: $386.39 Error: $262.10 Item: Jeep Genuine Accessories 82213051 Hood L...\u001b[0m\n",
      "\u001b[92m58: Guess: $181.05 Truth: $169.00 Error: $12.05 Item: GODOX CB-06 Hard Carrying Case with Whee...\u001b[0m\n",
      "\u001b[92m59: Guess: $23.54 Truth: $17.95 Error: $5.59 Item: Au-Tomotive Gold, INC. Ford Black Valet ...\u001b[0m\n",
      "\u001b[92m60: Guess: $267.58 Truth: $269.00 Error: $1.42 Item: Snailfly Black Roof Rack Rail + Cross Ba...\u001b[0m\n",
      "\u001b[92m61: Guess: $86.05 Truth: $77.77 Error: $8.28 Item: KING SHA Anti Glare LED Track Lighting H...\u001b[0m\n",
      "\u001b[92m62: Guess: $82.46 Truth: $88.99 Error: $6.53 Item: APS Compatible with Chevy Silverado 1500...\u001b[0m\n",
      "\u001b[92m63: Guess: $414.99 Truth: $364.41 Error: $50.58 Item: Wilwood Engineering 14011291R Brake Cali...\u001b[0m\n",
      "\u001b[92m64: Guess: $158.97 Truth: $127.03 Error: $31.94 Item: ACDelco Gold 336-1925A Starter, Remanufa...\u001b[0m\n",
      "\u001b[93m65: Guess: $605.82 Truth: $778.95 Error: $173.13 Item: UWS EC10783 69-Inch Matte Black Heavy-Wa...\u001b[0m\n",
      "\u001b[92m66: Guess: $211.22 Truth: $206.66 Error: $4.56 Item: Dell Latitude E5440 14in Business Laptop...\u001b[0m\n",
      "\u001b[91m67: Guess: $125.46 Truth: $35.94 Error: $89.52 Item: (Plug and Play) Spare Tire Brake Light W...\u001b[0m\n",
      "\u001b[91m68: Guess: $294.30 Truth: $149.00 Error: $145.30 Item: The Ultimate Roadside Rescue Assistant\u001b[0m\n",
      "\u001b[92m69: Guess: $237.79 Truth: $251.98 Error: $14.19 Item: Brand New 18\" x 8.5\" Replacement Wheel f...\u001b[0m\n",
      "\u001b[93m70: Guess: $200.72 Truth: $160.00 Error: $40.72 Item: Headlight Headlamp LH Left & RH Right Pa...\u001b[0m\n",
      "\u001b[92m71: Guess: $63.22 Truth: $39.99 Error: $23.23 Item: Lilo And Stitch Deluxe Oversize Print La...\u001b[0m\n",
      "\u001b[93m72: Guess: $263.41 Truth: $362.41 Error: $99.00 Item: AC Compressor & A/C Clutch For Hyundai A...\u001b[0m\n",
      "\u001b[91m73: Guess: $171.37 Truth: $344.00 Error: $172.63 Item: House Of Troy PIN475-AB Pinnacle Collect...\u001b[0m\n",
      "\u001b[93m74: Guess: $96.09 Truth: $25.09 Error: $71.00 Item: Juno T29 WH Floating Electrical Feed Sin...\u001b[0m\n",
      "\u001b[91m75: Guess: $61.29 Truth: $175.95 Error: $114.66 Item: Sherman GO-PARTS - for 2013-2016 Toyota ...\u001b[0m\n",
      "\u001b[91m76: Guess: $402.71 Truth: $132.64 Error: $270.07 Item: Roland RPU-3 Electronic Keyboard Pedal o...\u001b[0m\n",
      "\u001b[93m77: Guess: $321.15 Truth: $422.99 Error: $101.84 Item: Rockland VMI14 12,000 Pound 12 Volt DC E...\u001b[0m\n",
      "\u001b[92m78: Guess: $175.92 Truth: $146.48 Error: $29.44 Item: Max Advanced Brakes Elite XDS Front Cros...\u001b[0m\n",
      "\u001b[92m79: Guess: $171.11 Truth: $156.83 Error: $14.28 Item: Quality-Built 11030 Premium Quality Alte...\u001b[0m\n",
      "\u001b[92m80: Guess: $211.12 Truth: $251.99 Error: $40.87 Item: Lucida LG-510 Student Classical Guitar, ...\u001b[0m\n",
      "\u001b[91m81: Guess: $251.19 Truth: $940.33 Error: $689.14 Item: Longacre 52-79800 Aluminum Turn Plates\u001b[0m\n",
      "\u001b[92m82: Guess: $54.67 Truth: $52.99 Error: $1.68 Item: Motion Pro 08-0380 Adjustable Torque Wre...\u001b[0m\n",
      "\u001b[91m83: Guess: $38.41 Truth: $219.95 Error: $181.54 Item: Glyph Thunderbolt 3 NVMe Dock (0 GB)\u001b[0m\n",
      "\u001b[91m84: Guess: $233.31 Truth: $441.03 Error: $207.72 Item: TOYO Open Country MT Performance Radial ...\u001b[0m\n",
      "\u001b[92m85: Guess: $155.97 Truth: $168.98 Error: $13.01 Item: Razer Seiren X USB Streaming Microphone ...\u001b[0m\n",
      "\u001b[92m86: Guess: $4.64 Truth: $2.49 Error: $2.15 Item: Happy Birthday to Dad From Your Daughter...\u001b[0m\n",
      "\u001b[92m87: Guess: $74.68 Truth: $98.62 Error: $23.94 Item: Little Tikes My Real Jam First Concert S...\u001b[0m\n",
      "\u001b[91m88: Guess: $125.46 Truth: $256.95 Error: $131.49 Item: Studio M Peace and Harmony Art Pole Comm...\u001b[0m\n",
      "\u001b[92m89: Guess: $69.32 Truth: $30.99 Error: $38.33 Item: MyVolts 12V Power Supply Adaptor Compati...\u001b[0m\n",
      "\u001b[93m90: Guess: $385.54 Truth: $569.84 Error: $184.30 Item: Dell Latitude 7212 Rugged Extreme Tablet...\u001b[0m\n",
      "\u001b[92m91: Guess: $174.24 Truth: $177.99 Error: $3.75 Item: Covermates Contour Fit Car Cover - Light...\u001b[0m\n",
      "\u001b[92m92: Guess: $896.31 Truth: $997.99 Error: $101.68 Item: Westin 57-4025 Black HDX Grille Guard fi...\u001b[0m\n",
      "\u001b[91m93: Guess: $118.72 Truth: $219.00 Error: $100.28 Item: Fieldpiece JL2 Job Link Wireless App Tra...\u001b[0m\n",
      "\u001b[93m94: Guess: $314.83 Truth: $225.55 Error: $89.28 Item: hansgrohe Talis S Modern Premium Easy Cl...\u001b[0m\n",
      "\u001b[91m95: Guess: $271.20 Truth: $495.95 Error: $224.75 Item: G-Technology G-SPEED eS PRO High-Perform...\u001b[0m\n",
      "\u001b[92m96: Guess: $857.63 Truth: $942.37 Error: $84.74 Item: DreamLine SHDR-1960723L-01 Shower Door, ...\u001b[0m\n",
      "\u001b[92m97: Guess: $30.91 Truth: $1.94 Error: $28.97 Item: Sanctuary Square Backplate Finish: Oiled...\u001b[0m\n",
      "\u001b[92m98: Guess: $305.04 Truth: $284.34 Error: $20.70 Item: Pelican Protector 1750 Long Case - Multi...\u001b[0m\n",
      "\u001b[92m99: Guess: $185.00 Truth: $171.90 Error: $13.10 Item: Brock Replacement Driver and Passenger H...\u001b[0m\n",
      "\u001b[91m100: Guess: $397.49 Truth: $144.99 Error: $252.50 Item: Carlinkit Ai Box Mini, Android 11, Multi...\u001b[0m\n",
      "\u001b[91m101: Guess: $267.06 Truth: $470.47 Error: $203.41 Item: StarDot NetCamLIVE2 YouTube Live Stream ...\u001b[0m\n",
      "\u001b[92m102: Guess: $84.68 Truth: $66.95 Error: $17.73 Item: Atomic Compatible FILXXCAR0016 16x25x5 M...\u001b[0m\n",
      "\u001b[92m103: Guess: $93.18 Truth: $117.00 Error: $23.82 Item: Bandai Awakening of S. H. s.h.figuarts s...\u001b[0m\n",
      "\u001b[93m104: Guess: $248.73 Truth: $172.14 Error: $76.59 Item: Fit System 62135G Passenger Side Towing ...\u001b[0m\n",
      "\u001b[92m105: Guess: $359.49 Truth: $392.74 Error: $33.25 Item: Black Horse Black Aluminum Exceed Runnin...\u001b[0m\n",
      "\u001b[92m106: Guess: $20.98 Truth: $16.99 Error: $3.99 Item: Dearsun Twinkle Star Color Night Light P...\u001b[0m\n",
      "\u001b[92m107: Guess: $2.21 Truth: $1.34 Error: $0.87 Item: Pokemon - Gallade Spirit Link (83/108) -...\u001b[0m\n",
      "\u001b[92m108: Guess: $287.59 Truth: $349.98 Error: $62.39 Item: Ibanez GA34STCE-NT GIO Series Classical ...\u001b[0m\n",
      "\u001b[91m109: Guess: $201.36 Truth: $370.71 Error: $169.35 Item: Set 2 Heavy Duty 12-16.5 12x16.5 12 Ply ...\u001b[0m\n",
      "\u001b[93m110: Guess: $119.69 Truth: $65.88 Error: $53.81 Item: Hairpin Table Legs 28\" Heavy Duty Hairpi...\u001b[0m\n",
      "\u001b[92m111: Guess: $248.36 Truth: $229.99 Error: $18.37 Item: Marada Racing Seat with Adjustable Slide...\u001b[0m\n",
      "\u001b[91m112: Guess: $99.89 Truth: $9.14 Error: $90.75 Item: Remington Industries 24UL1007STRWHI25 24...\u001b[0m\n",
      "\u001b[91m113: Guess: $605.95 Truth: $199.00 Error: $406.95 Item: Acer S3-391-6046 13.3-inch Ultrabook, In...\u001b[0m\n",
      "\u001b[91m114: Guess: $281.80 Truth: $109.99 Error: $171.81 Item: ICBEAMER 7\" RGB LED Headlights Bulb Halo...\u001b[0m\n",
      "\u001b[93m115: Guess: $406.43 Truth: $570.42 Error: $163.99 Item: R1 Concepts Front Rear Brakes and Rotors...\u001b[0m\n",
      "\u001b[92m116: Guess: $232.27 Truth: $279.99 Error: $47.72 Item: Camplux 2.64 GPM Tankless , Outdoor Port...\u001b[0m\n",
      "\u001b[92m117: Guess: $42.15 Truth: $30.99 Error: $11.16 Item: KNOKLOCK 10 Pack 3.75 Inch(96mm) Kitchen...\u001b[0m\n",
      "\u001b[92m118: Guess: $28.10 Truth: $31.99 Error: $3.89 Item: Valley Enterprises Yaesu USB FTDI CT-62 ...\u001b[0m\n",
      "\u001b[93m119: Guess: $57.11 Truth: $15.90 Error: $41.21 Item: G9 LED Light Bulbs，8W，75W 100W replaceme...\u001b[0m\n",
      "\u001b[93m120: Guess: $107.79 Truth: $45.99 Error: $61.80 Item: ZCHAOZ 4 Lights Antique White Farmhouse ...\u001b[0m\n",
      "\u001b[92m121: Guess: $141.50 Truth: $113.52 Error: $27.98 Item: Honeywell TH8320R1003 Honeywell VisionPr...\u001b[0m\n",
      "\u001b[92m122: Guess: $461.59 Truth: $516.99 Error: $55.40 Item: Patriot Exhaust H8013-1 1-7/8\" Clippster...\u001b[0m\n",
      "\u001b[91m123: Guess: $111.79 Truth: $196.99 Error: $85.20 Item: Fitrite Autopart New Front Left Driver S...\u001b[0m\n",
      "\u001b[93m124: Guess: $110.15 Truth: $46.55 Error: $63.60 Item: Technical Precision Replacement for GE G...\u001b[0m\n",
      "\u001b[92m125: Guess: $300.81 Truth: $356.99 Error: $56.18 Item: Covercraft Carhartt SeatSaver Front Row ...\u001b[0m\n",
      "\u001b[93m126: Guess: $241.50 Truth: $319.95 Error: $78.45 Item: Sennheiser SD Pro 2 (506008) - Double-Si...\u001b[0m\n",
      "\u001b[93m127: Guess: $147.03 Truth: $96.06 Error: $50.97 Item: Hitachi MAF0110 Mass Air Flow Sensor\u001b[0m\n",
      "\u001b[93m128: Guess: $235.18 Truth: $190.99 Error: $44.19 Item: AmScope SE305R-P-LED-PS36A 10X-30X LED C...\u001b[0m\n",
      "\u001b[91m129: Guess: $123.23 Truth: $257.95 Error: $134.72 Item: Front Left Driver Side Window Regulator ...\u001b[0m\n",
      "\u001b[93m130: Guess: $133.31 Truth: $62.95 Error: $70.36 Item: Premium Replica Hubcap Set, Fits Nissan ...\u001b[0m\n",
      "\u001b[92m131: Guess: $44.57 Truth: $47.66 Error: $3.09 Item: Excellerations Phonics Spelling Game for...\u001b[0m\n",
      "\u001b[92m132: Guess: $212.45 Truth: $226.99 Error: $14.54 Item: RC4WD BigDog Dual Axle Scale Car/Truck T...\u001b[0m\n",
      "\u001b[93m133: Guess: $452.18 Truth: $359.95 Error: $92.23 Item: Unknown Stage 2 Clutch Kit - Low Altitud...\u001b[0m\n",
      "\u001b[91m134: Guess: $166.85 Truth: $78.40 Error: $88.45 Item: 2002-2008 Dodge Ram 1500 Mopar 4X4 Emble...\u001b[0m\n",
      "\u001b[92m135: Guess: $204.81 Truth: $172.77 Error: $32.04 Item: Pro Comp Alloys Series 89 Wheel with Pol...\u001b[0m\n",
      "\u001b[92m136: Guess: $289.92 Truth: $316.45 Error: $26.53 Item: Detroit Axle - Front Rear Strut & Coil S...\u001b[0m\n",
      "\u001b[93m137: Guess: $160.39 Truth: $87.99 Error: $72.40 Item: ECCPP Rear Wheel Axle Replacement fit fo...\u001b[0m\n",
      "\u001b[92m138: Guess: $187.41 Truth: $226.63 Error: $39.22 Item: Dell Latitude E6520 Intel i7-2720QM 2.20...\u001b[0m\n",
      "\u001b[92m139: Guess: $45.36 Truth: $31.49 Error: $13.87 Item: F FIERCE CYCLE 251pcs Black Universal Mo...\u001b[0m\n",
      "\u001b[92m140: Guess: $191.29 Truth: $196.00 Error: $4.71 Item: Flash Furniture 4 Pk. HERCULES Series 88...\u001b[0m\n",
      "\u001b[91m141: Guess: $202.45 Truth: $78.40 Error: $124.05 Item: B&M 30287 Throttle Valve/Kickdown Cable,...\u001b[0m\n",
      "\u001b[93m142: Guess: $162.70 Truth: $116.25 Error: $46.45 Item: Gates TCK226 PowerGrip Premium Timing Be...\u001b[0m\n",
      "\u001b[92m143: Guess: $149.48 Truth: $112.78 Error: $36.70 Item: Monroe Shocks & Struts Quick-Strut 17149...\u001b[0m\n",
      "\u001b[92m144: Guess: $27.31 Truth: $27.32 Error: $0.01 Item: Feit Electric BPMR16/GU10/930CA/6 35W EQ...\u001b[0m\n",
      "\u001b[92m145: Guess: $110.85 Truth: $145.91 Error: $35.06 Item: Yellow Jacket 2806 Contractor Extension ...\u001b[0m\n",
      "\u001b[92m146: Guess: $176.65 Truth: $171.09 Error: $5.56 Item: Garage-Pro Tailgate SET Compatible with ...\u001b[0m\n",
      "\u001b[92m147: Guess: $201.92 Truth: $167.95 Error: $33.97 Item: 3M Perfect It Buffing and Polishing Kit ...\u001b[0m\n",
      "\u001b[92m148: Guess: $31.52 Truth: $28.49 Error: $3.03 Item: Chinese Style Dollhouse Model DIY Miniat...\u001b[0m\n",
      "\u001b[92m149: Guess: $115.68 Truth: $122.23 Error: $6.55 Item: Generic NRG Innovations SRK-161H Steerin...\u001b[0m\n",
      "\u001b[92m150: Guess: $26.51 Truth: $32.99 Error: $6.48 Item: Learning Resources Coding Critters Range...\u001b[0m\n",
      "\u001b[93m151: Guess: $128.13 Truth: $71.20 Error: $56.93 Item: Bosch Automotive 15463 Oxygen Sensor, OE...\u001b[0m\n",
      "\u001b[92m152: Guess: $75.44 Truth: $112.75 Error: $37.31 Item: Case of 24-2 Inch Blue Painters Tape - 6...\u001b[0m\n",
      "\u001b[92m153: Guess: $122.03 Truth: $142.43 Error: $20.40 Item: MOCA Engine Water Pump & Fan Clutch fit ...\u001b[0m\n",
      "\u001b[93m154: Guess: $245.38 Truth: $398.99 Error: $153.61 Item: SAREMAS Foot Step Bars for Hyundai Palis...\u001b[0m\n",
      "\u001b[91m155: Guess: $805.43 Truth: $449.00 Error: $356.43 Item: Gretsch G9210 Square Neck Boxcar Mahogan...\u001b[0m\n",
      "\u001b[93m156: Guess: $130.85 Truth: $189.00 Error: $58.15 Item: NikoMaku Mirror Dash Cam Front and Rear ...\u001b[0m\n",
      "\u001b[93m157: Guess: $174.58 Truth: $120.91 Error: $53.67 Item: Fenix HP25R v2.0 USB-C Rechargeable Head...\u001b[0m\n",
      "\u001b[92m158: Guess: $170.32 Truth: $203.53 Error: $33.21 Item: R&L Racing Heavy Duty Roll-Up Soft Tonne...\u001b[0m\n",
      "\u001b[92m159: Guess: $416.86 Truth: $349.99 Error: $66.87 Item: Garmin 010-02258-10 GPSMAP 64sx, Handhel...\u001b[0m\n",
      "\u001b[92m160: Guess: $16.69 Truth: $34.35 Error: $17.66 Item: Brown 5-7/8\" X 8-1/2\" X 3/16\" Thick Heav...\u001b[0m\n",
      "\u001b[92m161: Guess: $350.74 Truth: $384.99 Error: $34.25 Item: GAOMON PD2200 Pen Display & 20 Pen Nibs ...\u001b[0m\n",
      "\u001b[93m162: Guess: $136.40 Truth: $211.00 Error: $74.60 Item: VXMOTOR for 97-03 Ford F150/F250 Lightdu...\u001b[0m\n",
      "\u001b[93m163: Guess: $195.60 Truth: $129.00 Error: $66.60 Item: HP EliteBook 2540p Intel Core i7-640LM X...\u001b[0m\n",
      "\u001b[92m164: Guess: $93.45 Truth: $111.45 Error: $18.00 Item: Green EPX Mixing Nozzles 100-Pack-fits 3...\u001b[0m\n",
      "\u001b[92m165: Guess: $114.44 Truth: $81.12 Error: $33.32 Item: Box Partners 6 1/4 x 3 1/8\" 13 Pt. Manil...\u001b[0m\n",
      "\u001b[91m166: Guess: $260.16 Truth: $457.08 Error: $196.92 Item: Vixen Air 1/2\" NPT Air Ride Suspension H...\u001b[0m\n",
      "\u001b[92m167: Guess: $55.31 Truth: $49.49 Error: $5.82 Item: Smart Floor Lamp, 2700-6500K+RGBPink Mul...\u001b[0m\n",
      "\u001b[91m168: Guess: $182.10 Truth: $80.56 Error: $101.54 Item: SOZG 324mm Wheelbase Body Shell RC Car B...\u001b[0m\n",
      "\u001b[91m169: Guess: $395.36 Truth: $278.39 Error: $116.97 Item: Mickey Thompson ET Street S/S Racing Rad...\u001b[0m\n",
      "\u001b[92m170: Guess: $307.62 Truth: $364.50 Error: $56.88 Item: Pirelli 275/40R20 106W XL RFT P0 PZ4-LUX...\u001b[0m\n",
      "\u001b[92m171: Guess: $370.31 Truth: $378.99 Error: $8.68 Item: Torklift C3212 Rear Tie Down\u001b[0m\n",
      "\u001b[93m172: Guess: $220.89 Truth: $165.28 Error: $55.61 Item: Cardone 78-4226 Remanufactured Ford Comp...\u001b[0m\n",
      "\u001b[92m173: Guess: $59.77 Truth: $56.74 Error: $3.03 Item: Kidde AccessPoint 001798 Supra TouchPoin...\u001b[0m\n",
      "\u001b[92m174: Guess: $299.44 Truth: $307.95 Error: $8.51 Item: 3M Protecta 3100414 Self Retracting Life...\u001b[0m\n",
      "\u001b[93m175: Guess: $99.21 Truth: $38.00 Error: $61.21 Item: Plantronics 89435-01 Wired Headset, Blac...\u001b[0m\n",
      "\u001b[92m176: Guess: $52.24 Truth: $53.00 Error: $0.76 Item: Logitech K750 Wireless Solar Keyboard fo...\u001b[0m\n",
      "\u001b[91m177: Guess: $246.17 Truth: $498.00 Error: $251.83 Item: Olympus PEN E-PL9 Body Only with 3-Inch ...\u001b[0m\n",
      "\u001b[93m178: Guess: $133.74 Truth: $53.99 Error: $79.75 Item: Beck/Arnley 051-6066 Hub & Bearing Assem...\u001b[0m\n",
      "\u001b[92m179: Guess: $295.65 Truth: $350.00 Error: $54.35 Item: Eibach Pro-Kit Performance Springs E10-6...\u001b[0m\n",
      "\u001b[91m180: Guess: $117.47 Truth: $299.95 Error: $182.48 Item: LEGO DC Batman 1989 Batwing 76161 Displa...\u001b[0m\n",
      "\u001b[92m181: Guess: $99.33 Truth: $94.93 Error: $4.40 Item: Kingston Brass KS3608PL Restoration 4-In...\u001b[0m\n",
      "\u001b[93m182: Guess: $303.04 Truth: $379.00 Error: $75.96 Item: Polk Vanishing Series 265-LS In-Wall 3-W...\u001b[0m\n",
      "\u001b[92m183: Guess: $257.43 Truth: $299.95 Error: $42.52 Item: Spec-D Tuning LED Projector Headlights G...\u001b[0m\n",
      "\u001b[92m184: Guess: $9.23 Truth: $24.99 Error: $15.76 Item: RICHMOND & FINCH Airpod Pro Case, Green ...\u001b[0m\n",
      "\u001b[92m185: Guess: $43.51 Truth: $41.04 Error: $2.47 Item: LFA Industries 43B-5A-33JT 1/16-1/2-1.5-...\u001b[0m\n",
      "\u001b[91m186: Guess: $169.96 Truth: $327.90 Error: $157.94 Item: SAUTVS LED Headlight Assembly for Slings...\u001b[0m\n",
      "\u001b[92m187: Guess: $31.06 Truth: $10.99 Error: $20.07 Item: 2 Pack Combo Womens Safety Glasses Impac...\u001b[0m\n",
      "\u001b[92m188: Guess: $14.01 Truth: $14.99 Error: $0.98 Item: Arepa - Venezuelan cuisine - Venezuela P...\u001b[0m\n",
      "\u001b[92m189: Guess: $57.32 Truth: $84.95 Error: $27.63 Item: Schlage Lock Company KS23D2300 Padlock, ...\u001b[0m\n",
      "\u001b[93m190: Guess: $162.28 Truth: $111.00 Error: $51.28 Item: Techni Mobili White Sit to Stand Mobile ...\u001b[0m\n",
      "\u001b[92m191: Guess: $141.01 Truth: $123.73 Error: $17.28 Item: Special Lite Products Contemporary Wall ...\u001b[0m\n",
      "\u001b[91m192: Guess: $173.68 Truth: $557.38 Error: $383.70 Item: Tascam DP-24SD 24-Track Digital Portastu...\u001b[0m\n",
      "\u001b[91m193: Guess: $216.51 Truth: $95.55 Error: $120.96 Item: Glow Lighting 636CC10SP Vista Crystal Fl...\u001b[0m\n",
      "\u001b[93m194: Guess: $100.75 Truth: $154.00 Error: $53.25 Item: Z3 Wind Deflector, Smoke Tint, Lexan, Wi...\u001b[0m\n",
      "\u001b[92m195: Guess: $181.77 Truth: $198.99 Error: $17.22 Item: Olympus E-20 5MP Digital Camera w/ 4x Op...\u001b[0m\n",
      "\u001b[91m196: Guess: $62.87 Truth: $430.44 Error: $367.57 Item: PHYNEDI 1:1000 World Trade Center (1973-...\u001b[0m\n",
      "\u001b[92m197: Guess: $20.20 Truth: $45.67 Error: $25.47 Item: YANGHUAN Unstable Unicorns Adventure Car...\u001b[0m\n",
      "\u001b[92m198: Guess: $201.37 Truth: $249.00 Error: $47.63 Item: Interlogix NX-1820E NetworX Touch Screen...\u001b[0m\n",
      "\u001b[92m199: Guess: $75.36 Truth: $42.99 Error: $32.37 Item: Steering Damper,Universal Motorcycle Han...\u001b[0m\n",
      "\u001b[92m200: Guess: $175.97 Truth: $181.33 Error: $5.36 Item: Amprobe TIC 410A Hot Stick Attachment\u001b[0m\n",
      "\u001b[92m201: Guess: $8.50 Truth: $6.03 Error: $2.47 Item: MyCableMart 3.5mm Plug/Jack, 4 Conductor...\u001b[0m\n",
      "\u001b[92m202: Guess: $37.37 Truth: $29.99 Error: $7.38 Item: OtterBox + Pop Symmetry Series Case for ...\u001b[0m\n",
      "\u001b[93m203: Guess: $646.22 Truth: $899.00 Error: $252.78 Item: Dell XPS X8700-1572BLK Desktop ( Intel C...\u001b[0m\n",
      "\u001b[92m204: Guess: $396.07 Truth: $399.99 Error: $3.92 Item: Franklin Iron Works Sperry Industrial Br...\u001b[0m\n",
      "\u001b[92m205: Guess: $11.53 Truth: $4.66 Error: $6.87 Item: Avery Legal Dividers, Standard Collated ...\u001b[0m\n",
      "\u001b[93m206: Guess: $187.54 Truth: $261.41 Error: $73.87 Item: Moen 8346 Commercial Posi-Temp Pressure ...\u001b[0m\n",
      "\u001b[92m207: Guess: $160.33 Truth: $136.97 Error: $23.36 Item: Carlisle Versa Trail ATR All Terrain Rad...\u001b[0m\n",
      "\u001b[93m208: Guess: $148.19 Truth: $79.00 Error: $69.19 Item: SUNWAYFOTO 44mm Tripod Ball Head Arca Co...\u001b[0m\n",
      "\u001b[91m209: Guess: $263.36 Truth: $444.99 Error: $181.63 Item: NanoBeam AC NBE-5AC-Gen2-US 4 Units 5GHz...\u001b[0m\n",
      "\u001b[91m210: Guess: $245.79 Truth: $411.94 Error: $166.15 Item: WULF 4\" Front 2\" Rear Leveling Lift Kit ...\u001b[0m\n",
      "\u001b[93m211: Guess: $82.66 Truth: $148.40 Error: $65.74 Item: Alera ALEVABFMC Valencia Series Mobile B...\u001b[0m\n",
      "\u001b[92m212: Guess: $198.09 Truth: $244.99 Error: $46.90 Item: YU-GI-OH! Ignition Assault Booster Box\u001b[0m\n",
      "\u001b[92m213: Guess: $84.05 Truth: $86.50 Error: $2.45 Item: 48\" x 36\" Extra-Large Framed Magnetic Bl...\u001b[0m\n",
      "\u001b[91m214: Guess: $137.65 Truth: $297.95 Error: $160.30 Item: Dell Latitude D620 Renewed Notebook PC\u001b[0m\n",
      "\u001b[93m215: Guess: $547.26 Truth: $399.99 Error: $147.27 Item: acer Aspire 5 Laptop, AMD Ryzen 3 5300U ...\u001b[0m\n",
      "\u001b[91m216: Guess: $259.89 Truth: $599.00 Error: $339.11 Item: Elk 31080/6RC-GRN 30 by 6-Inch Viva 6-Li...\u001b[0m\n",
      "\u001b[93m217: Guess: $62.75 Truth: $105.99 Error: $43.24 Item: Barbie Top Model Doll\u001b[0m\n",
      "\u001b[92m218: Guess: $634.78 Truth: $689.00 Error: $54.22 Item: Danby Designer 20-In. Electric Range wit...\u001b[0m\n",
      "\u001b[92m219: Guess: $415.34 Truth: $404.99 Error: $10.35 Item: FixtureDisplays® Metal Truss Podium Doub...\u001b[0m\n",
      "\u001b[92m220: Guess: $227.60 Truth: $207.76 Error: $19.84 Item: ACDelco 13597235 GM Original Equipment A...\u001b[0m\n",
      "\u001b[92m221: Guess: $186.81 Truth: $171.82 Error: $14.99 Item: EBC S1KF1135 Stage-1 Premium Street Brak...\u001b[0m\n",
      "\u001b[92m222: Guess: $276.74 Truth: $293.24 Error: $16.50 Item: FXR Men's Boost FX Jacket (Black/Orange/...\u001b[0m\n",
      "\u001b[92m223: Guess: $423.64 Truth: $374.95 Error: $48.69 Item: SuperATV Scratch Resistant 3-in-1 Flip W...\u001b[0m\n",
      "\u001b[92m224: Guess: $103.11 Truth: $111.99 Error: $8.88 Item: SBU 3 Layer All Weather Mini Van Car Cov...\u001b[0m\n",
      "\u001b[92m225: Guess: $75.41 Truth: $42.99 Error: $32.42 Item: 2 Pack Outdoor Brochure Holder Advertisi...\u001b[0m\n",
      "\u001b[92m226: Guess: $140.42 Truth: $116.71 Error: $23.71 Item: Monroe Shocks & Struts Quick-Strut 17158...\u001b[0m\n",
      "\u001b[92m227: Guess: $119.99 Truth: $118.61 Error: $1.38 Item: Elements of Design Magellan EB235AL Thre...\u001b[0m\n",
      "\u001b[92m228: Guess: $164.61 Truth: $147.12 Error: $17.49 Item: GM Genuine Parts 15-62961 Air Conditioni...\u001b[0m\n",
      "\u001b[91m229: Guess: $224.34 Truth: $119.99 Error: $104.35 Item: Baseus 17-in-1 USB C Docking Station to ...\u001b[0m\n",
      "\u001b[93m230: Guess: $503.83 Truth: $369.98 Error: $133.85 Item: Whitehall™ Personalized Whitehall Capito...\u001b[0m\n",
      "\u001b[93m231: Guess: $228.14 Truth: $315.55 Error: $87.41 Item: Pro Circuit Works Pipe PY05250 for 02-19...\u001b[0m\n",
      "\u001b[91m232: Guess: $356.70 Truth: $190.99 Error: $165.71 Item: HYANKA 15 \"1200W Professional DJ Speaker...\u001b[0m\n",
      "\u001b[92m233: Guess: $156.78 Truth: $155.00 Error: $1.78 Item: Bluetooth X6BT Card Reader Writer Encode...\u001b[0m\n",
      "\u001b[92m234: Guess: $391.05 Truth: $349.99 Error: $41.06 Item: AIRAID Cold Air Intake System by K&N: In...\u001b[0m\n",
      "\u001b[93m235: Guess: $316.36 Truth: $249.99 Error: $66.37 Item: Bostingner Shower Faucets Sets Complete,...\u001b[0m\n",
      "\u001b[92m236: Guess: $59.52 Truth: $42.99 Error: $16.53 Item: PIT66 Front Bumper Turn Signal Lights, C...\u001b[0m\n",
      "\u001b[92m237: Guess: $11.86 Truth: $17.99 Error: $6.13 Item: Caseology Bumpy Compatible with Google P...\u001b[0m\n",
      "\u001b[91m238: Guess: $111.51 Truth: $425.00 Error: $313.49 Item: Fleck 2510 Timer Mechanical Filter Contr...\u001b[0m\n",
      "\u001b[92m239: Guess: $253.93 Truth: $249.99 Error: $3.94 Item: Haloview MC7108 Wireless RV Backup Camer...\u001b[0m\n",
      "\u001b[93m240: Guess: $62.04 Truth: $138.23 Error: $76.19 Item: Schmidt Spiele - Manhattan\u001b[0m\n",
      "\u001b[93m241: Guess: $281.84 Truth: $414.99 Error: $133.15 Item: Corsa 14333 Tip Kit (Ford Mustang GT)\u001b[0m\n",
      "\u001b[92m242: Guess: $145.00 Truth: $168.28 Error: $23.28 Item: Hoshizaki FM116A Fan Motor Kit 1\u001b[0m\n",
      "\u001b[93m243: Guess: $268.95 Truth: $199.99 Error: $68.96 Item: BAINUO Antler Chandelier Lighting,6 Ligh...\u001b[0m\n",
      "\u001b[92m244: Guess: $148.36 Truth: $126.70 Error: $21.66 Item: DNA MOTORING HL-OH-FEXP06-SM-AM Smoke Le...\u001b[0m\n",
      "\u001b[93m245: Guess: $67.87 Truth: $5.91 Error: $61.96 Item: Wera Stainless 3840/1 TS 2.5mm Hex Inser...\u001b[0m\n",
      "\u001b[92m246: Guess: $202.07 Truth: $193.06 Error: $9.01 Item: Celestron - PowerSeeker 127EQ Telescope ...\u001b[0m\n",
      "\u001b[91m247: Guess: $141.42 Truth: $249.99 Error: $108.57 Item: NHOPEEW 10.1inch Android Car Radio Carpl...\u001b[0m\n",
      "\u001b[93m248: Guess: $123.15 Truth: $64.12 Error: $59.03 Item: Other Harmonica (Suzuki-2Timer24- A)\u001b[0m\n",
      "\u001b[92m249: Guess: $139.64 Truth: $114.99 Error: $24.65 Item: Harley Air Filter Venturi Intake Air Cle...\u001b[0m\n",
      "\u001b[91m250: Guess: $223.35 Truth: $926.00 Error: $702.65 Item: Elite Screens Edge Free Ambient Light Re...\u001b[0m\n"
     ]
    },
    {
     "data": {
      "image/png": "[encoded data removed]",
      "text/plain": [
       "<Figure size 1200x800 with 1 Axes>"
      ]
     },
     "metadata": {},
     "output_type": "display_data"
    }
   ],
   "source": [
    "Tester.test(new_neural_network, test)"
   ]
  },
  {
   "cell_type": "code",
   "execution_count": null,
   "id": "63561f9a-fc46-4e8b-ad7d-44ae85219484",
   "metadata": {},
   "outputs": [],
   "source": []
  }
 ],
 "metadata": {
  "kernelspec": {
   "display_name": "Python 3 (ipykernel)",
   "language": "python",
   "name": "python3"
  },
  "language_info": {
   "codemirror_mode": {
    "name": "ipython",
    "version": 3
   },
   "file_extension": ".py",
   "mimetype": "text/x-python",
   "name": "python",
   "nbconvert_exporter": "python",
   "pygments_lexer": "ipython3",
   "version": "3.11.13"
  }
 },
 "nbformat": 4,
 "nbformat_minor": 5
}
