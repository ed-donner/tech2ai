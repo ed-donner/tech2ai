{
 "cells": [
  {
   "cell_type": "markdown",
   "id": "b49a602f-1d11-4369-9164-f5364296bcf0",
   "metadata": {},
   "source": [
    "# Segment 3 Lab\n",
    "\n",
    "## Let's apply a Neural Network to the product price example from Segment 2"
   ]
  },
  {
   "cell_type": "code",
   "execution_count": null,
   "id": "24c8d95d-8596-481c-9d4b-61cc810c65bf",
   "metadata": {},
   "outputs": [],
   "source": [
    "# imports - now including pytorch\n",
    "\n",
    "import os\n",
    "import random\n",
    "from dotenv import load_dotenv\n",
    "from huggingface_hub import login\n",
    "from items import Item\n",
    "import matplotlib.pyplot as plt\n",
    "import numpy as np\n",
    "from tqdm import tqdm\n",
    "import pickle\n",
    "import json\n",
    "import csv\n",
    "from sklearn.feature_extraction.text import CountVectorizer\n",
    "from testing import Tester\n",
    "import torch\n",
    "import torch.nn as nn\n",
    "import torch.optim as optim\n",
    "from torch.utils.data import DataLoader, TensorDataset\n",
    "from torchviz import make_dot\n",
    "from IPython.display import display, SVG\n",
    "from sklearn.model_selection import train_test_split"
   ]
  },
  {
   "cell_type": "code",
   "execution_count": null,
   "id": "2d8d8ba4-7e34-41ea-87f3-92865067b4c7",
   "metadata": {},
   "outputs": [],
   "source": [
    "# Load in dataset\n",
    "# Sidenote: this is actually a larger dataset than before (about twice as large)\n",
    "\n",
    "with open('../train.pkl', 'rb') as file:\n",
    "    train = pickle.load(file)\n",
    "\n",
    "with open('../test.pkl', 'rb') as file:\n",
    "    test = pickle.load(file)"
   ]
  },
  {
   "cell_type": "code",
   "execution_count": null,
   "id": "e50e233e-2c41-4a9a-99e0-c81c07597e0a",
   "metadata": {},
   "outputs": [],
   "source": [
    "len(train)"
   ]
  },
  {
   "cell_type": "markdown",
   "id": "a385cdf6-3cef-44d3-9cbf-956e43b69b40",
   "metadata": {},
   "source": [
    "# Wait - just before we make our Neural Network\n",
    "\n",
    "There is a different kind of Neural Network that I'd like to put to the test."
   ]
  },
  {
   "cell_type": "code",
   "execution_count": null,
   "id": "8355b52a-7969-4291-942f-97b50aecd64a",
   "metadata": {},
   "outputs": [],
   "source": [
    "# Read in results from a Neural Network of the non-artificial kind!!\n",
    "\n",
    "human_predictions = []\n",
    "with open('human_output.csv', 'r') as csvfile:\n",
    "    reader = csv.reader(csvfile)\n",
    "    for row in reader:\n",
    "        human_predictions.append(float(row[1]))"
   ]
  },
  {
   "cell_type": "code",
   "execution_count": null,
   "id": "23ae1d04-48b7-4ba4-90fc-2a6ab33d5b9d",
   "metadata": {},
   "outputs": [],
   "source": [
    "def human(item):\n",
    "    idx = test.index(item)\n",
    "    return human_predictions[idx]"
   ]
  },
  {
   "cell_type": "code",
   "execution_count": null,
   "id": "512357e9-850d-4d2f-9ddb-2bbd3691879a",
   "metadata": {},
   "outputs": [],
   "source": [
    "Tester.test(human, test)"
   ]
  },
  {
   "cell_type": "markdown",
   "id": "cdfae0ef-a953-42b3-9649-403b77132c8b",
   "metadata": {},
   "source": [
    "# OK now let's go Artificial!"
   ]
  },
  {
   "cell_type": "code",
   "execution_count": null,
   "id": "19d2c157-ec61-420b-ba6d-f2fa5f130a94",
   "metadata": {},
   "outputs": [],
   "source": [
    "# Prepare our documents and prices\n",
    "\n",
    "y = np.array([float(item.price) for item in train])\n",
    "documents = [item.text for item in train]"
   ]
  },
  {
   "cell_type": "code",
   "execution_count": null,
   "id": "3c0ccb92-d16f-4377-ba08-73ff0b2816fe",
   "metadata": {},
   "outputs": [],
   "source": [
    "# Use the CountVectorizer for a Bag of Words model\n",
    "# Using binary=True with the CountVectorizer makes \"one-hot vectors\"\n",
    "\n",
    "np.random.seed(42)\n",
    "vectorizer = CountVectorizer(max_features=2000, stop_words='english', binary=True)\n",
    "X = vectorizer.fit_transform(documents)"
   ]
  },
  {
   "cell_type": "code",
   "execution_count": null,
   "id": "b9e4b558-8c0d-4632-a248-8daa09a47195",
   "metadata": {},
   "outputs": [],
   "source": [
    "# Define the neural network - here is Pytorch code to create a 6 layer neural network\n",
    "\n",
    "\n",
    "class NeuralNetwork(nn.Module):\n",
    "    def __init__(self, input_size):\n",
    "        super(NeuralNetwork, self).__init__()\n",
    "        self.layer1 = nn.Linear(input_size, 128)\n",
    "        self.layer2 = nn.Linear(128, 64)\n",
    "        self.layer3 = nn.Linear(64, 64)\n",
    "        self.layer4 = nn.Linear(64, 64)\n",
    "        self.layer5 = nn.Linear(64, 64)\n",
    "        self.layer6 = nn.Linear(64, 1)\n",
    "        self.relu = nn.ReLU()\n",
    "\n",
    "    def forward(self, x):\n",
    "        output1 = self.relu(self.layer1(x))\n",
    "        output2 = self.relu(self.layer2(output1))\n",
    "        output3 = self.relu(self.layer3(output2))\n",
    "        output4 = self.relu(self.layer4(output3))\n",
    "        output5 = self.relu(self.layer5(output4))\n",
    "        output6 = self.layer6(output5)\n",
    "        return output6\n",
    "\n",
    "params = 2000 * 128 + 128 * 64 + 64 * 64 * 3 + 64\n",
    "print(f\"There are {params:,} parameters in our neural network\")"
   ]
  },
  {
   "cell_type": "code",
   "execution_count": null,
   "id": "5c883d24-d991-4f3c-b848-430d5dd1a02a",
   "metadata": {},
   "outputs": [],
   "source": [
    "# Convert data to PyTorch tensors\n",
    "X_train_tensor = torch.FloatTensor(X.toarray())\n",
    "y_train_tensor = torch.FloatTensor(y).unsqueeze(1)\n",
    "\n",
    "# Split the data into training and validation sets\n",
    "X_train, X_val, y_train, y_val = train_test_split(X_train_tensor, y_train_tensor, test_size=0.05, random_state=42)\n",
    "\n",
    "# Create the loader\n",
    "train_dataset = TensorDataset(X_train, y_train)\n",
    "train_loader = DataLoader(train_dataset, batch_size=32, shuffle=True)\n",
    "\n",
    "# Initialize the model\n",
    "input_size = X_train_tensor.shape[1]\n",
    "model = NeuralNetwork(input_size)\n",
    "\n",
    "# Create a dummy input and visualize the network\n",
    "x = torch.randn(1, input_size)\n",
    "dot = make_dot(model(x), params=dict(model.named_parameters()))\n",
    "display(SVG(dot.pipe(format='svg')))"
   ]
  },
  {
   "cell_type": "markdown",
   "id": "9773bd71-ba05-4376-be46-aeff7f406dd4",
   "metadata": {},
   "source": [
    "# Time for the 4 steps of training\n",
    "\n",
    "We now carry out the 4 steps of training, for chunks of our data at a time (called 'batches')\n",
    "1. Forward pass\n",
    "2. Loss calculation\n",
    "3. Backward pass (calculate gradients)\n",
    "4. Optimization (shift the weights a step in the right direction to do better next time)\n",
    "\n",
    "### The Learning Rate\n",
    "\n",
    "When Optimizing, we need to decide how big a step to take each time. This is called the \"Learning Rate\" and it's an important hyperparameter. We will try 0.001.\n",
    "\n",
    "### Epochs\n",
    "\n",
    "We will run through the entire dataset several times; each complete run is called an \"Epoch\""
   ]
  },
  {
   "cell_type": "code",
   "execution_count": null,
   "id": "93d20c1c-43ab-4989-90ad-11911ce865c4",
   "metadata": {},
   "outputs": [],
   "source": [
    "# Define loss function and optimizer\n",
    "\n",
    "loss_function = nn.MSELoss()\n",
    "optimizer = optim.Adam(model.parameters(), lr=0.001)\n",
    "\n",
    "# We will do 2 complete runs through the data\n",
    "\n",
    "EPOCHS = 2\n",
    "\n",
    "for epoch in range(EPOCHS):\n",
    "    model.train()\n",
    "    for batch_X, batch_y in tqdm(train_loader):\n",
    "        optimizer.zero_grad()\n",
    "\n",
    "        # The next 4 lines are the 4 stages of training: forward pass, loss calculation, backward pass, optimize\n",
    "        \n",
    "        outputs = model(batch_X)\n",
    "        loss = loss_function(outputs, batch_y)\n",
    "        loss.backward()\n",
    "        optimizer.step()\n",
    "\n",
    "    model.eval()\n",
    "    with torch.no_grad():\n",
    "        val_outputs = model(X_val)\n",
    "        val_loss = loss_function(val_outputs, y_val)\n",
    "\n",
    "    print(f'Epoch [{epoch+1}/{EPOCHS}], Train Loss: {loss.item():.3f}, Val Loss: {val_loss.item():.3f}')"
   ]
  },
  {
   "cell_type": "code",
   "execution_count": null,
   "id": "46bb8b44-8826-4b8b-9b42-584213e61ffd",
   "metadata": {},
   "outputs": [],
   "source": [
    "def neural_network(item):\n",
    "    model.eval()\n",
    "    with torch.no_grad():\n",
    "        vector = vectorizer.transform([item.text])\n",
    "        vector = torch.FloatTensor(vector.toarray())\n",
    "        result = model(vector)[0].item()\n",
    "    return max(0, result)"
   ]
  },
  {
   "cell_type": "code",
   "execution_count": null,
   "id": "bdb3493e-7c5d-4560-abf5-606b7fb2fb68",
   "metadata": {},
   "outputs": [],
   "source": [
    "test[0].text"
   ]
  },
  {
   "cell_type": "code",
   "execution_count": null,
   "id": "95cae616-4037-4b56-bda3-70ada41f09ea",
   "metadata": {},
   "outputs": [],
   "source": [
    "test[0].price"
   ]
  },
  {
   "cell_type": "code",
   "execution_count": null,
   "id": "c6070f36-9424-4a26-9ce7-548e5576803d",
   "metadata": {},
   "outputs": [],
   "source": [
    "neural_network(test[0])"
   ]
  },
  {
   "cell_type": "code",
   "execution_count": null,
   "id": "eb4cf83b-bef4-43fb-ba2e-e387ec7f3569",
   "metadata": {},
   "outputs": [],
   "source": [
    "Tester.test(neural_network, test)"
   ]
  },
  {
   "cell_type": "markdown",
   "id": "245ecc94-4ee1-4828-817c-ced68bb80a25",
   "metadata": {},
   "source": [
    "# Exercise: Make a Deeper Neural Network!\n",
    "\n",
    "See how many layers you can add - you may need to look up some tricks to avoid over-fitting - also increase the vocab size"
   ]
  },
  {
   "cell_type": "code",
   "execution_count": null,
   "id": "824452be-3387-403e-8e4f-f8ab0fc99700",
   "metadata": {},
   "outputs": [],
   "source": []
  }
 ],
 "metadata": {
  "kernelspec": {
   "display_name": "Python 3 (ipykernel)",
   "language": "python",
   "name": "python3"
  },
  "language_info": {
   "codemirror_mode": {
    "name": "ipython",
    "version": 3
   },
   "file_extension": ".py",
   "mimetype": "text/x-python",
   "name": "python",
   "nbconvert_exporter": "python",
   "pygments_lexer": "ipython3",
   "version": "3.11.13"
  }
 },
 "nbformat": 4,
 "nbformat_minor": 5
}
